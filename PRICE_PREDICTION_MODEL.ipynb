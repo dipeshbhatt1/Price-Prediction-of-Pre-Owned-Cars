{
 "cells": [
  {
   "cell_type": "code",
   "execution_count": 1,
   "id": "144d6b1f",
   "metadata": {},
   "outputs": [],
   "source": [
    "import pandas as pd\n",
    "import numpy as np\n",
    "import matplotlib.pyplot as plt\n",
    "import seaborn as sns\n",
    "\n",
    "from sklearn import datasets, linear_model, metrics\n",
    "from sklearn.model_selection import train_test_split\n",
    "from sklearn.preprocessing import StandardScaler\n",
    "from sklearn.linear_model import LinearRegression"
   ]
  },
  {
   "cell_type": "code",
   "execution_count": 2,
   "id": "64f5b87e",
   "metadata": {},
   "outputs": [
    {
     "ename": "ParserError",
     "evalue": "Error tokenizing data. C error: Expected 1 fields in line 4, saw 2\n",
     "output_type": "error",
     "traceback": [
      "\u001b[1;31m---------------------------------------------------------------------------\u001b[0m",
      "\u001b[1;31mParserError\u001b[0m                               Traceback (most recent call last)",
      "Cell \u001b[1;32mIn [2], line 1\u001b[0m\n\u001b[1;32m----> 1\u001b[0m df \u001b[38;5;241m=\u001b[39m pd\u001b[38;5;241m.\u001b[39mread_csv(\u001b[38;5;124mr\u001b[39m\u001b[38;5;124m\"\u001b[39m\u001b[38;5;124mC:\u001b[39m\u001b[38;5;124m\\\u001b[39m\u001b[38;5;124mUsers\u001b[39m\u001b[38;5;124m\\\u001b[39m\u001b[38;5;124mR\u001b[39m\u001b[38;5;124m\\\u001b[39m\u001b[38;5;124mDesktop\u001b[39m\u001b[38;5;124m\\\u001b[39m\u001b[38;5;124mMASAI\u001b[39m\u001b[38;5;124m\\\u001b[39m\u001b[38;5;124mPROJECT\u001b[39m\u001b[38;5;124m\\\u001b[39m\u001b[38;5;124mP2_Car price prediction model\u001b[39m\u001b[38;5;124m\\\u001b[39m\u001b[38;5;124mweb-scraping-spinny.ipynb\u001b[39m\u001b[38;5;124m\"\u001b[39m)\n\u001b[0;32m      2\u001b[0m df\u001b[38;5;241m.\u001b[39mhead()\n",
      "File \u001b[1;32m~\\AppData\\Local\\Programs\\Python\\Python310\\lib\\site-packages\\pandas\\util\\_decorators.py:211\u001b[0m, in \u001b[0;36mdeprecate_kwarg.<locals>._deprecate_kwarg.<locals>.wrapper\u001b[1;34m(*args, **kwargs)\u001b[0m\n\u001b[0;32m    209\u001b[0m     \u001b[38;5;28;01melse\u001b[39;00m:\n\u001b[0;32m    210\u001b[0m         kwargs[new_arg_name] \u001b[38;5;241m=\u001b[39m new_arg_value\n\u001b[1;32m--> 211\u001b[0m \u001b[38;5;28;01mreturn\u001b[39;00m func(\u001b[38;5;241m*\u001b[39margs, \u001b[38;5;241m*\u001b[39m\u001b[38;5;241m*\u001b[39mkwargs)\n",
      "File \u001b[1;32m~\\AppData\\Local\\Programs\\Python\\Python310\\lib\\site-packages\\pandas\\util\\_decorators.py:331\u001b[0m, in \u001b[0;36mdeprecate_nonkeyword_arguments.<locals>.decorate.<locals>.wrapper\u001b[1;34m(*args, **kwargs)\u001b[0m\n\u001b[0;32m    325\u001b[0m \u001b[38;5;28;01mif\u001b[39;00m \u001b[38;5;28mlen\u001b[39m(args) \u001b[38;5;241m>\u001b[39m num_allow_args:\n\u001b[0;32m    326\u001b[0m     warnings\u001b[38;5;241m.\u001b[39mwarn(\n\u001b[0;32m    327\u001b[0m         msg\u001b[38;5;241m.\u001b[39mformat(arguments\u001b[38;5;241m=\u001b[39m_format_argument_list(allow_args)),\n\u001b[0;32m    328\u001b[0m         \u001b[38;5;167;01mFutureWarning\u001b[39;00m,\n\u001b[0;32m    329\u001b[0m         stacklevel\u001b[38;5;241m=\u001b[39mfind_stack_level(),\n\u001b[0;32m    330\u001b[0m     )\n\u001b[1;32m--> 331\u001b[0m \u001b[38;5;28;01mreturn\u001b[39;00m func(\u001b[38;5;241m*\u001b[39margs, \u001b[38;5;241m*\u001b[39m\u001b[38;5;241m*\u001b[39mkwargs)\n",
      "File \u001b[1;32m~\\AppData\\Local\\Programs\\Python\\Python310\\lib\\site-packages\\pandas\\io\\parsers\\readers.py:950\u001b[0m, in \u001b[0;36mread_csv\u001b[1;34m(filepath_or_buffer, sep, delimiter, header, names, index_col, usecols, squeeze, prefix, mangle_dupe_cols, dtype, engine, converters, true_values, false_values, skipinitialspace, skiprows, skipfooter, nrows, na_values, keep_default_na, na_filter, verbose, skip_blank_lines, parse_dates, infer_datetime_format, keep_date_col, date_parser, dayfirst, cache_dates, iterator, chunksize, compression, thousands, decimal, lineterminator, quotechar, quoting, doublequote, escapechar, comment, encoding, encoding_errors, dialect, error_bad_lines, warn_bad_lines, on_bad_lines, delim_whitespace, low_memory, memory_map, float_precision, storage_options)\u001b[0m\n\u001b[0;32m    935\u001b[0m kwds_defaults \u001b[38;5;241m=\u001b[39m _refine_defaults_read(\n\u001b[0;32m    936\u001b[0m     dialect,\n\u001b[0;32m    937\u001b[0m     delimiter,\n\u001b[1;32m   (...)\u001b[0m\n\u001b[0;32m    946\u001b[0m     defaults\u001b[38;5;241m=\u001b[39m{\u001b[38;5;124m\"\u001b[39m\u001b[38;5;124mdelimiter\u001b[39m\u001b[38;5;124m\"\u001b[39m: \u001b[38;5;124m\"\u001b[39m\u001b[38;5;124m,\u001b[39m\u001b[38;5;124m\"\u001b[39m},\n\u001b[0;32m    947\u001b[0m )\n\u001b[0;32m    948\u001b[0m kwds\u001b[38;5;241m.\u001b[39mupdate(kwds_defaults)\n\u001b[1;32m--> 950\u001b[0m \u001b[38;5;28;01mreturn\u001b[39;00m \u001b[43m_read\u001b[49m\u001b[43m(\u001b[49m\u001b[43mfilepath_or_buffer\u001b[49m\u001b[43m,\u001b[49m\u001b[43m \u001b[49m\u001b[43mkwds\u001b[49m\u001b[43m)\u001b[49m\n",
      "File \u001b[1;32m~\\AppData\\Local\\Programs\\Python\\Python310\\lib\\site-packages\\pandas\\io\\parsers\\readers.py:611\u001b[0m, in \u001b[0;36m_read\u001b[1;34m(filepath_or_buffer, kwds)\u001b[0m\n\u001b[0;32m    608\u001b[0m     \u001b[38;5;28;01mreturn\u001b[39;00m parser\n\u001b[0;32m    610\u001b[0m \u001b[38;5;28;01mwith\u001b[39;00m parser:\n\u001b[1;32m--> 611\u001b[0m     \u001b[38;5;28;01mreturn\u001b[39;00m \u001b[43mparser\u001b[49m\u001b[38;5;241;43m.\u001b[39;49m\u001b[43mread\u001b[49m\u001b[43m(\u001b[49m\u001b[43mnrows\u001b[49m\u001b[43m)\u001b[49m\n",
      "File \u001b[1;32m~\\AppData\\Local\\Programs\\Python\\Python310\\lib\\site-packages\\pandas\\io\\parsers\\readers.py:1778\u001b[0m, in \u001b[0;36mTextFileReader.read\u001b[1;34m(self, nrows)\u001b[0m\n\u001b[0;32m   1771\u001b[0m nrows \u001b[38;5;241m=\u001b[39m validate_integer(\u001b[38;5;124m\"\u001b[39m\u001b[38;5;124mnrows\u001b[39m\u001b[38;5;124m\"\u001b[39m, nrows)\n\u001b[0;32m   1772\u001b[0m \u001b[38;5;28;01mtry\u001b[39;00m:\n\u001b[0;32m   1773\u001b[0m     \u001b[38;5;66;03m# error: \"ParserBase\" has no attribute \"read\"\u001b[39;00m\n\u001b[0;32m   1774\u001b[0m     (\n\u001b[0;32m   1775\u001b[0m         index,\n\u001b[0;32m   1776\u001b[0m         columns,\n\u001b[0;32m   1777\u001b[0m         col_dict,\n\u001b[1;32m-> 1778\u001b[0m     ) \u001b[38;5;241m=\u001b[39m \u001b[38;5;28;43mself\u001b[39;49m\u001b[38;5;241;43m.\u001b[39;49m\u001b[43m_engine\u001b[49m\u001b[38;5;241;43m.\u001b[39;49m\u001b[43mread\u001b[49m\u001b[43m(\u001b[49m\u001b[43m  \u001b[49m\u001b[38;5;66;43;03m# type: ignore[attr-defined]\u001b[39;49;00m\n\u001b[0;32m   1779\u001b[0m \u001b[43m        \u001b[49m\u001b[43mnrows\u001b[49m\n\u001b[0;32m   1780\u001b[0m \u001b[43m    \u001b[49m\u001b[43m)\u001b[49m\n\u001b[0;32m   1781\u001b[0m \u001b[38;5;28;01mexcept\u001b[39;00m \u001b[38;5;167;01mException\u001b[39;00m:\n\u001b[0;32m   1782\u001b[0m     \u001b[38;5;28mself\u001b[39m\u001b[38;5;241m.\u001b[39mclose()\n",
      "File \u001b[1;32m~\\AppData\\Local\\Programs\\Python\\Python310\\lib\\site-packages\\pandas\\io\\parsers\\c_parser_wrapper.py:230\u001b[0m, in \u001b[0;36mCParserWrapper.read\u001b[1;34m(self, nrows)\u001b[0m\n\u001b[0;32m    228\u001b[0m \u001b[38;5;28;01mtry\u001b[39;00m:\n\u001b[0;32m    229\u001b[0m     \u001b[38;5;28;01mif\u001b[39;00m \u001b[38;5;28mself\u001b[39m\u001b[38;5;241m.\u001b[39mlow_memory:\n\u001b[1;32m--> 230\u001b[0m         chunks \u001b[38;5;241m=\u001b[39m \u001b[38;5;28;43mself\u001b[39;49m\u001b[38;5;241;43m.\u001b[39;49m\u001b[43m_reader\u001b[49m\u001b[38;5;241;43m.\u001b[39;49m\u001b[43mread_low_memory\u001b[49m\u001b[43m(\u001b[49m\u001b[43mnrows\u001b[49m\u001b[43m)\u001b[49m\n\u001b[0;32m    231\u001b[0m         \u001b[38;5;66;03m# destructive to chunks\u001b[39;00m\n\u001b[0;32m    232\u001b[0m         data \u001b[38;5;241m=\u001b[39m _concatenate_chunks(chunks)\n",
      "File \u001b[1;32m~\\AppData\\Local\\Programs\\Python\\Python310\\lib\\site-packages\\pandas\\_libs\\parsers.pyx:808\u001b[0m, in \u001b[0;36mpandas._libs.parsers.TextReader.read_low_memory\u001b[1;34m()\u001b[0m\n",
      "File \u001b[1;32m~\\AppData\\Local\\Programs\\Python\\Python310\\lib\\site-packages\\pandas\\_libs\\parsers.pyx:866\u001b[0m, in \u001b[0;36mpandas._libs.parsers.TextReader._read_rows\u001b[1;34m()\u001b[0m\n",
      "File \u001b[1;32m~\\AppData\\Local\\Programs\\Python\\Python310\\lib\\site-packages\\pandas\\_libs\\parsers.pyx:852\u001b[0m, in \u001b[0;36mpandas._libs.parsers.TextReader._tokenize_rows\u001b[1;34m()\u001b[0m\n",
      "File \u001b[1;32m~\\AppData\\Local\\Programs\\Python\\Python310\\lib\\site-packages\\pandas\\_libs\\parsers.pyx:1973\u001b[0m, in \u001b[0;36mpandas._libs.parsers.raise_parser_error\u001b[1;34m()\u001b[0m\n",
      "\u001b[1;31mParserError\u001b[0m: Error tokenizing data. C error: Expected 1 fields in line 4, saw 2\n"
     ]
    }
   ],
   "source": [
    "df = pd.read_csv(r\"C:\\Users\\R\\Desktop\\MASAI\\PROJECT\\P2_Car price prediction model\\web-scraping-spinny.ipynb\")\n",
    "df.head()"
   ]
  },
  {
   "cell_type": "code",
   "execution_count": null,
   "id": "9b61f39a",
   "metadata": {},
   "outputs": [],
   "source": [
    "df.shape"
   ]
  },
  {
   "cell_type": "markdown",
   "id": "7742338c",
   "metadata": {},
   "source": [
    "# DROPING IRRELEVANT COLUMNS | ENCODING | SCALING"
   ]
  },
  {
   "cell_type": "code",
   "execution_count": null,
   "id": "38b0da7a",
   "metadata": {},
   "outputs": [],
   "source": [
    "df.drop(['brand','manufacturer'], axis = 1, inplace = True)"
   ]
  },
  {
   "cell_type": "code",
   "execution_count": null,
   "id": "6d6cce25",
   "metadata": {},
   "outputs": [],
   "source": [
    "df.head(2)"
   ]
  },
  {
   "cell_type": "code",
   "execution_count": null,
   "id": "3082eedc",
   "metadata": {},
   "outputs": [],
   "source": [
    "cat = []\n",
    "num = []\n",
    "\n",
    "for i in df.columns:\n",
    "    if df[i].dtypes == \"O\":\n",
    "        cat.append(i)\n",
    "    else:\n",
    "        num.append(i)"
   ]
  },
  {
   "cell_type": "code",
   "execution_count": null,
   "id": "0c3055e8",
   "metadata": {},
   "outputs": [],
   "source": [
    "cat"
   ]
  },
  {
   "cell_type": "code",
   "execution_count": null,
   "id": "ca73a826",
   "metadata": {},
   "outputs": [],
   "source": [
    "df = pd.get_dummies(data = df, columns= cat)"
   ]
  },
  {
   "cell_type": "code",
   "execution_count": null,
   "id": "45ebc7a9",
   "metadata": {},
   "outputs": [],
   "source": [
    "df = df[['model (year)','km driven (in thousands)','mileage (in kmpl)','seating capacity (units)', 'fuel_type_Petrol','fuel_type_Diesel','fuel_type_Petrol+cng', 'transmission_Automatic', 'transmission_Manual','ground clearance (in mm)', 'boot space (in litres)','fuel tank capacity (in litres)', 'max power (in bhp)', 'price (in ₹)']]"
   ]
  },
  {
   "cell_type": "code",
   "execution_count": null,
   "id": "114b593d",
   "metadata": {},
   "outputs": [],
   "source": [
    "df.head()"
   ]
  },
  {
   "cell_type": "markdown",
   "id": "34053a6d",
   "metadata": {},
   "source": [
    "# OUTLIER ANALYSIS"
   ]
  },
  {
   "cell_type": "code",
   "execution_count": null,
   "id": "d5a7eada",
   "metadata": {},
   "outputs": [],
   "source": [
    "for i in num:\n",
    "    sns.boxplot(df[num], y = i)\n",
    "    plt.show()"
   ]
  },
  {
   "cell_type": "markdown",
   "id": "f9775915",
   "metadata": {},
   "source": [
    "We can remove outliers from the above features except the seating capacity column (which is more like a categorical feature)"
   ]
  },
  {
   "cell_type": "code",
   "execution_count": null,
   "id": "45884f32",
   "metadata": {},
   "outputs": [],
   "source": [
    "num"
   ]
  },
  {
   "cell_type": "code",
   "execution_count": null,
   "id": "5579c84f",
   "metadata": {},
   "outputs": [],
   "source": [
    "out = ['model (year)','km driven (in thousands)','mileage (in kmpl)','ground clearance (in mm)','boot space (in litres)',\n",
    "       'fuel tank capacity (in litres)','max power (in bhp)','price (in ₹)']\n",
    "\n",
    "for i in out:\n",
    "    q1 = df[i].quantile(0.25)\n",
    "    q3 = df[i].quantile(0.75)\n",
    "    iqr = q3 - q1\n",
    "    ul = q3 + 1.5*iqr\n",
    "    ll = q1 - 1.5*iqr\n",
    "    df = df[(df[i]<=ul) & (df[i]>=ll)]\n",
    "    sns.boxplot(df[out], y = i)\n",
    "    plt.show()"
   ]
  },
  {
   "cell_type": "code",
   "execution_count": null,
   "id": "b331827e",
   "metadata": {},
   "outputs": [],
   "source": [
    "df.shape"
   ]
  },
  {
   "cell_type": "markdown",
   "id": "5d3f1b15",
   "metadata": {},
   "source": [
    "### SCALING"
   ]
  },
  {
   "cell_type": "code",
   "execution_count": null,
   "id": "106e4de6",
   "metadata": {},
   "outputs": [],
   "source": [
    "# num"
   ]
  },
  {
   "cell_type": "code",
   "execution_count": null,
   "id": "319638d6",
   "metadata": {},
   "outputs": [],
   "source": [
    "# num.remove('price (in ₹)')"
   ]
  },
  {
   "cell_type": "code",
   "execution_count": null,
   "id": "6d0a7152",
   "metadata": {},
   "outputs": [],
   "source": [
    "# sc = StandardScaler()"
   ]
  },
  {
   "cell_type": "code",
   "execution_count": null,
   "id": "952be8c5",
   "metadata": {},
   "outputs": [],
   "source": [
    "# df[num] = sc.fit_transform(df[num])"
   ]
  },
  {
   "cell_type": "code",
   "execution_count": null,
   "id": "4e934bf9",
   "metadata": {},
   "outputs": [],
   "source": [
    "# df.head(2)"
   ]
  },
  {
   "cell_type": "markdown",
   "id": "ddbb8508",
   "metadata": {},
   "source": [
    "### ANALYSING CORRELATION BETWEEN DIFFERENT FEATURES"
   ]
  },
  {
   "cell_type": "code",
   "execution_count": null,
   "id": "bd14f117",
   "metadata": {},
   "outputs": [],
   "source": [
    "plt.figure(figsize=(25,15))\n",
    "sns.heatmap(df[num].corr(), annot=True)"
   ]
  },
  {
   "cell_type": "code",
   "execution_count": null,
   "id": "760bb2eb",
   "metadata": {},
   "outputs": [],
   "source": [
    "sns.pairplot(df[num], diag_kind='kde')"
   ]
  },
  {
   "cell_type": "markdown",
   "id": "7bea3a0b",
   "metadata": {},
   "source": [
    "It is clearly visible with the help of these plots that no two features are highly correlated with each other. This will help us building a better model."
   ]
  },
  {
   "cell_type": "markdown",
   "id": "44f27677",
   "metadata": {},
   "source": [
    "# MODEL PREPARATION"
   ]
  },
  {
   "cell_type": "code",
   "execution_count": null,
   "id": "c2a2cb31",
   "metadata": {},
   "outputs": [],
   "source": [
    "x = df.drop('price (in ₹)', axis=1)\n",
    "y = df['price (in ₹)']"
   ]
  },
  {
   "cell_type": "code",
   "execution_count": null,
   "id": "e83dd6d9",
   "metadata": {},
   "outputs": [],
   "source": [
    "x_train, x_test, y_train, y_test = train_test_split(x, y, test_size = 0.3, random_state=42)"
   ]
  },
  {
   "cell_type": "code",
   "execution_count": null,
   "id": "82672592",
   "metadata": {},
   "outputs": [],
   "source": [
    "lr = LinearRegression()"
   ]
  },
  {
   "cell_type": "code",
   "execution_count": null,
   "id": "44b0b40e",
   "metadata": {},
   "outputs": [],
   "source": [
    "lr.fit(x_train, y_train)"
   ]
  },
  {
   "cell_type": "code",
   "execution_count": null,
   "id": "b8e7df56",
   "metadata": {},
   "outputs": [],
   "source": [
    "y_pred = lr.predict(x_test)"
   ]
  },
  {
   "cell_type": "code",
   "execution_count": null,
   "id": "ff13db73",
   "metadata": {},
   "outputs": [],
   "source": [
    "lr.coef_"
   ]
  },
  {
   "cell_type": "code",
   "execution_count": null,
   "id": "dd0da0a6",
   "metadata": {},
   "outputs": [],
   "source": [
    "lr.intercept_"
   ]
  },
  {
   "cell_type": "markdown",
   "id": "8498b5c0",
   "metadata": {},
   "source": [
    "## EVALUATING THE MODEL"
   ]
  },
  {
   "cell_type": "markdown",
   "id": "283998b9",
   "metadata": {},
   "source": [
    "### Mean Squared Error"
   ]
  },
  {
   "cell_type": "code",
   "execution_count": null,
   "id": "82e1b087",
   "metadata": {},
   "outputs": [],
   "source": [
    "mse = metrics.mean_squared_error(y_test, y_pred)\n",
    "mse"
   ]
  },
  {
   "cell_type": "markdown",
   "id": "d4c97ae3",
   "metadata": {},
   "source": [
    "### Root Mean Squared Error"
   ]
  },
  {
   "cell_type": "code",
   "execution_count": null,
   "id": "f6d7a277",
   "metadata": {},
   "outputs": [],
   "source": [
    "rmse = np.sqrt(mse)\n",
    "rmse"
   ]
  },
  {
   "cell_type": "markdown",
   "id": "1e1e4fae",
   "metadata": {},
   "source": [
    "### R2 Score or Coefficient of Determination"
   ]
  },
  {
   "cell_type": "code",
   "execution_count": null,
   "id": "20f29277",
   "metadata": {},
   "outputs": [],
   "source": [
    "r2_score = metrics.r2_score(y_test, y_pred)\n",
    "r2_score"
   ]
  },
  {
   "cell_type": "markdown",
   "id": "273755d6",
   "metadata": {},
   "source": [
    "### Adjusted R2 Score"
   ]
  },
  {
   "cell_type": "markdown",
   "id": "827903eb",
   "metadata": {},
   "source": [
    "Adjusted R² = 1 - [(1 - R²) * (n - 1) / (n - p - 1)]\n",
    "\n",
    "Where:\n",
    "\n",
    "* R² is the regular R-squared score\n",
    "* n refers to the number of observations/records in the training dataset (or the sample size)\n",
    "* p represents the number of predictors or independent variables in the model"
   ]
  },
  {
   "cell_type": "code",
   "execution_count": null,
   "id": "9255300e",
   "metadata": {},
   "outputs": [],
   "source": [
    "n = x_train.shape[0]\n",
    "n"
   ]
  },
  {
   "cell_type": "code",
   "execution_count": null,
   "id": "c7526f08",
   "metadata": {},
   "outputs": [],
   "source": [
    "p = x_train.shape[1]\n",
    "p"
   ]
  },
  {
   "cell_type": "code",
   "execution_count": null,
   "id": "3b8911ce",
   "metadata": {},
   "outputs": [],
   "source": [
    "adjusted_r2_score = 1 - ((1 - r2_score)*(n-1)/(n-p-1))\n",
    "adjusted_r2_score"
   ]
  },
  {
   "cell_type": "markdown",
   "id": "826a270a",
   "metadata": {},
   "source": [
    "## OUR MODEL IS PERFORMING WELL! HURREY!!!"
   ]
  },
  {
   "cell_type": "markdown",
   "id": "8c3e5c33",
   "metadata": {},
   "source": [
    "### Now, let's apply our model in a real life scenario by predicting price of a used car based on desired features to be provided as input to the model"
   ]
  },
  {
   "cell_type": "code",
   "execution_count": null,
   "id": "2e68578c",
   "metadata": {},
   "outputs": [],
   "source": [
    "df.head(1)"
   ]
  },
  {
   "cell_type": "markdown",
   "id": "3ab50caf",
   "metadata": {},
   "source": [
    "## Predicting price of a used car having:\n",
    "* model (year) = 2016\n",
    "* km driven (in thousands) = not more than 60k\n",
    "* mileage (in kmpl) = at least 18 kmpl\n",
    "* seating capacity (units) = 5\n",
    "* fuel_type_ Petrol = yes\n",
    "* fuel_type_ Diesel = no\n",
    "* fuel_type_ Petrol+cng = no\n",
    "* transmission_ Automatic = no\n",
    "* transmission_ Manual = yes\n",
    "* ground clearance (in mm) = not less than 180 mm\n",
    "* boot space (in litres) = at least 350 litres\n",
    "* fuel tank capacity (in litres) = 35 litres is enough\n",
    "* max power (in bhp) = 120 bhp"
   ]
  },
  {
   "cell_type": "code",
   "execution_count": null,
   "id": "8062ecff",
   "metadata": {},
   "outputs": [],
   "source": [
    "lr.predict([[2016,60,18,5,1,0,0,0,1,190,350,35,120]])"
   ]
  },
  {
   "cell_type": "markdown",
   "id": "95a021a6",
   "metadata": {},
   "source": [
    "A used car having the above desired features and details will cost a buyer around ₹7.3 lakhs."
   ]
  },
  {
   "cell_type": "markdown",
   "id": "e93a8d70",
   "metadata": {},
   "source": [
    "### This model can also be used by sellers (1st/2nd/3rd owners) to get an idea of prices they can expect"
   ]
  },
  {
   "cell_type": "markdown",
   "id": "c00d2f17",
   "metadata": {},
   "source": [
    "# _______________________________________THANKS___________________"
   ]
  }
 ],
 "metadata": {
  "kernelspec": {
   "display_name": "Python 3 (ipykernel)",
   "language": "python",
   "name": "python3"
  },
  "language_info": {
   "codemirror_mode": {
    "name": "ipython",
    "version": 3
   },
   "file_extension": ".py",
   "mimetype": "text/x-python",
   "name": "python",
   "nbconvert_exporter": "python",
   "pygments_lexer": "ipython3",
   "version": "3.10.6"
  }
 },
 "nbformat": 4,
 "nbformat_minor": 5
}
