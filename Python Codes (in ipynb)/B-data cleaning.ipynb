{
 "cells": [
  {
   "cell_type": "code",
   "execution_count": 1,
   "id": "88ca0ddd",
   "metadata": {},
   "outputs": [],
   "source": [
    "import pandas as pd\n",
    "import numpy as np\n",
    "import matplotlib.pyplot as plt\n",
    "import seaborn as sns\n",
    "\n",
    "import statsmodels.api as sm"
   ]
  },
  {
   "cell_type": "code",
   "execution_count": 2,
   "id": "01e4d6cb",
   "metadata": {},
   "outputs": [
    {
     "data": {
      "text/html": [
       "<div>\n",
       "<style scoped>\n",
       "    .dataframe tbody tr th:only-of-type {\n",
       "        vertical-align: middle;\n",
       "    }\n",
       "\n",
       "    .dataframe tbody tr th {\n",
       "        vertical-align: top;\n",
       "    }\n",
       "\n",
       "    .dataframe thead th {\n",
       "        text-align: right;\n",
       "    }\n",
       "</style>\n",
       "<table border=\"1\" class=\"dataframe\">\n",
       "  <thead>\n",
       "    <tr style=\"text-align: right;\">\n",
       "      <th></th>\n",
       "      <th>brand_and_model</th>\n",
       "      <th>km_driven</th>\n",
       "      <th>fuel_type</th>\n",
       "      <th>transmission</th>\n",
       "      <th>all_spec_1</th>\n",
       "      <th>all_spec_2</th>\n",
       "      <th>price</th>\n",
       "    </tr>\n",
       "  </thead>\n",
       "  <tbody>\n",
       "    <tr>\n",
       "      <th>0</th>\n",
       "      <td>2018 Hyundai Elite i20 Asta 1.2 (O)</td>\n",
       "      <td>34K km</td>\n",
       "      <td>· Petrol</td>\n",
       "      <td>· Manual</td>\n",
       "      <td>Mileage (ARAI)\\n19.8 kmpl\\nGround clearance\\n1...</td>\n",
       "      <td>NaN</td>\n",
       "      <td>₹6.65 Lakh</td>\n",
       "    </tr>\n",
       "    <tr>\n",
       "      <th>1</th>\n",
       "      <td>2021 Hyundai Creta SX IVT Petrol</td>\n",
       "      <td>19K km</td>\n",
       "      <td>· Petrol</td>\n",
       "      <td>· Automatic</td>\n",
       "      <td>NaN</td>\n",
       "      <td>Ground clearance\\n190 mm\\nBoot space\\n433 litr...</td>\n",
       "      <td>₹15.24 Lakh</td>\n",
       "    </tr>\n",
       "  </tbody>\n",
       "</table>\n",
       "</div>"
      ],
      "text/plain": [
       "                       brand_and_model km_driven  fuel_type  transmission  \\\n",
       "0  2018 Hyundai Elite i20 Asta 1.2 (O)    34K km   · Petrol      · Manual   \n",
       "1     2021 Hyundai Creta SX IVT Petrol    19K km   · Petrol   · Automatic   \n",
       "\n",
       "                                          all_spec_1  \\\n",
       "0  Mileage (ARAI)\\n19.8 kmpl\\nGround clearance\\n1...   \n",
       "1                                                NaN   \n",
       "\n",
       "                                          all_spec_2        price  \n",
       "0                                                NaN   ₹6.65 Lakh  \n",
       "1  Ground clearance\\n190 mm\\nBoot space\\n433 litr...  ₹15.24 Lakh  "
      ]
     },
     "execution_count": 2,
     "metadata": {},
     "output_type": "execute_result"
    }
   ],
   "source": [
    "df = pd.read_csv(r\"C:\\Users\\R\\Desktop\\MASAI\\PROJECT\\P2_Car price prediction model\\Datasets (in csv)\\raw_data.csv\", index_col=0)\n",
    "df.head(2)"
   ]
  },
  {
   "cell_type": "code",
   "execution_count": 3,
   "id": "92efda20",
   "metadata": {},
   "outputs": [
    {
     "data": {
      "text/plain": [
       "brand_and_model    1033\n",
       "km_driven            41\n",
       "fuel_type          1033\n",
       "transmission       1033\n",
       "all_spec_1         3829\n",
       "all_spec_2         3733\n",
       "price              1033\n",
       "dtype: int64"
      ]
     },
     "execution_count": 3,
     "metadata": {},
     "output_type": "execute_result"
    }
   ],
   "source": [
    "df.isnull().sum()"
   ]
  },
  {
   "cell_type": "code",
   "execution_count": 4,
   "id": "f36206d9",
   "metadata": {},
   "outputs": [
    {
     "data": {
      "text/plain": [
       "(6480, 7)"
      ]
     },
     "execution_count": 4,
     "metadata": {},
     "output_type": "execute_result"
    }
   ],
   "source": [
    "df.shape"
   ]
  },
  {
   "cell_type": "markdown",
   "id": "0e6e452e",
   "metadata": {},
   "source": [
    "### Dropping duplicate records"
   ]
  },
  {
   "cell_type": "code",
   "execution_count": 5,
   "id": "4dfcecb6",
   "metadata": {},
   "outputs": [
    {
     "data": {
      "text/html": [
       "<div>\n",
       "<style scoped>\n",
       "    .dataframe tbody tr th:only-of-type {\n",
       "        vertical-align: middle;\n",
       "    }\n",
       "\n",
       "    .dataframe tbody tr th {\n",
       "        vertical-align: top;\n",
       "    }\n",
       "\n",
       "    .dataframe thead th {\n",
       "        text-align: right;\n",
       "    }\n",
       "</style>\n",
       "<table border=\"1\" class=\"dataframe\">\n",
       "  <thead>\n",
       "    <tr style=\"text-align: right;\">\n",
       "      <th></th>\n",
       "      <th>brand_and_model</th>\n",
       "      <th>km_driven</th>\n",
       "      <th>fuel_type</th>\n",
       "      <th>transmission</th>\n",
       "      <th>all_spec_1</th>\n",
       "      <th>all_spec_2</th>\n",
       "      <th>price</th>\n",
       "    </tr>\n",
       "  </thead>\n",
       "  <tbody>\n",
       "    <tr>\n",
       "      <th>5666</th>\n",
       "      <td>2010 Maruti Suzuki Eeco 5 STR WITH A/C+HTR</td>\n",
       "      <td>34K km</td>\n",
       "      <td>· Petrol</td>\n",
       "      <td>· Manual</td>\n",
       "      <td>Mileage (ARAI)\\n16.11 kmpl\\nGround clearance\\n...</td>\n",
       "      <td>NaN</td>\n",
       "      <td>₹1.78 Lakh</td>\n",
       "    </tr>\n",
       "    <tr>\n",
       "      <th>5706</th>\n",
       "      <td>2010 Maruti Suzuki Eeco 5 STR WITH A/C+HTR</td>\n",
       "      <td>34K km</td>\n",
       "      <td>· Petrol</td>\n",
       "      <td>· Manual</td>\n",
       "      <td>Mileage (ARAI)\\n16.11 kmpl\\nGround clearance\\n...</td>\n",
       "      <td>NaN</td>\n",
       "      <td>₹1.78 Lakh</td>\n",
       "    </tr>\n",
       "    <tr>\n",
       "      <th>5949</th>\n",
       "      <td>2010 Maruti Suzuki Swift LXI</td>\n",
       "      <td>89K km</td>\n",
       "      <td>· Petrol</td>\n",
       "      <td>· Manual</td>\n",
       "      <td>NaN</td>\n",
       "      <td>Mileage (ARAI)\\n16.1 kmpl\\nGround clearance\\n1...</td>\n",
       "      <td>₹2.68 Lakh</td>\n",
       "    </tr>\n",
       "    <tr>\n",
       "      <th>5909</th>\n",
       "      <td>2010 Maruti Suzuki Swift LXI</td>\n",
       "      <td>89K km</td>\n",
       "      <td>· Petrol</td>\n",
       "      <td>· Manual</td>\n",
       "      <td>NaN</td>\n",
       "      <td>Mileage (ARAI)\\n16.1 kmpl\\nGround clearance\\n1...</td>\n",
       "      <td>₹2.68 Lakh</td>\n",
       "    </tr>\n",
       "    <tr>\n",
       "      <th>4233</th>\n",
       "      <td>2010 Nissan Micra XV Petrol</td>\n",
       "      <td>38K km</td>\n",
       "      <td>· Petrol</td>\n",
       "      <td>· Manual</td>\n",
       "      <td>NaN</td>\n",
       "      <td>Mileage (ARAI)\\n18.6 kmpl\\nGround clearance\\n1...</td>\n",
       "      <td>₹3.25 Lakh</td>\n",
       "    </tr>\n",
       "    <tr>\n",
       "      <th>...</th>\n",
       "      <td>...</td>\n",
       "      <td>...</td>\n",
       "      <td>...</td>\n",
       "      <td>...</td>\n",
       "      <td>...</td>\n",
       "      <td>...</td>\n",
       "      <td>...</td>\n",
       "    </tr>\n",
       "    <tr>\n",
       "      <th>3298</th>\n",
       "      <td>NaN</td>\n",
       "      <td>4K km</td>\n",
       "      <td>NaN</td>\n",
       "      <td>NaN</td>\n",
       "      <td>NaN</td>\n",
       "      <td>NaN</td>\n",
       "      <td>NaN</td>\n",
       "    </tr>\n",
       "    <tr>\n",
       "      <th>3299</th>\n",
       "      <td>NaN</td>\n",
       "      <td>24K km</td>\n",
       "      <td>NaN</td>\n",
       "      <td>NaN</td>\n",
       "      <td>NaN</td>\n",
       "      <td>NaN</td>\n",
       "      <td>NaN</td>\n",
       "    </tr>\n",
       "    <tr>\n",
       "      <th>5779</th>\n",
       "      <td>NaN</td>\n",
       "      <td>77K km</td>\n",
       "      <td>NaN</td>\n",
       "      <td>NaN</td>\n",
       "      <td>NaN</td>\n",
       "      <td>NaN</td>\n",
       "      <td>NaN</td>\n",
       "    </tr>\n",
       "    <tr>\n",
       "      <th>5799</th>\n",
       "      <td>NaN</td>\n",
       "      <td>77K km</td>\n",
       "      <td>NaN</td>\n",
       "      <td>NaN</td>\n",
       "      <td>NaN</td>\n",
       "      <td>NaN</td>\n",
       "      <td>NaN</td>\n",
       "    </tr>\n",
       "    <tr>\n",
       "      <th>5839</th>\n",
       "      <td>NaN</td>\n",
       "      <td>77K km</td>\n",
       "      <td>NaN</td>\n",
       "      <td>NaN</td>\n",
       "      <td>NaN</td>\n",
       "      <td>NaN</td>\n",
       "      <td>NaN</td>\n",
       "    </tr>\n",
       "  </tbody>\n",
       "</table>\n",
       "<p>4988 rows × 7 columns</p>\n",
       "</div>"
      ],
      "text/plain": [
       "                                 brand_and_model km_driven  fuel_type  \\\n",
       "5666  2010 Maruti Suzuki Eeco 5 STR WITH A/C+HTR    34K km   · Petrol   \n",
       "5706  2010 Maruti Suzuki Eeco 5 STR WITH A/C+HTR    34K km   · Petrol   \n",
       "5949                2010 Maruti Suzuki Swift LXI    89K km   · Petrol   \n",
       "5909                2010 Maruti Suzuki Swift LXI    89K km   · Petrol   \n",
       "4233                 2010 Nissan Micra XV Petrol    38K km   · Petrol   \n",
       "...                                          ...       ...        ...   \n",
       "3298                                         NaN     4K km        NaN   \n",
       "3299                                         NaN    24K km        NaN   \n",
       "5779                                         NaN    77K km        NaN   \n",
       "5799                                         NaN    77K km        NaN   \n",
       "5839                                         NaN    77K km        NaN   \n",
       "\n",
       "     transmission                                         all_spec_1  \\\n",
       "5666     · Manual  Mileage (ARAI)\\n16.11 kmpl\\nGround clearance\\n...   \n",
       "5706     · Manual  Mileage (ARAI)\\n16.11 kmpl\\nGround clearance\\n...   \n",
       "5949     · Manual                                                NaN   \n",
       "5909     · Manual                                                NaN   \n",
       "4233     · Manual                                                NaN   \n",
       "...           ...                                                ...   \n",
       "3298          NaN                                                NaN   \n",
       "3299          NaN                                                NaN   \n",
       "5779          NaN                                                NaN   \n",
       "5799          NaN                                                NaN   \n",
       "5839          NaN                                                NaN   \n",
       "\n",
       "                                             all_spec_2       price  \n",
       "5666                                                NaN  ₹1.78 Lakh  \n",
       "5706                                                NaN  ₹1.78 Lakh  \n",
       "5949  Mileage (ARAI)\\n16.1 kmpl\\nGround clearance\\n1...  ₹2.68 Lakh  \n",
       "5909  Mileage (ARAI)\\n16.1 kmpl\\nGround clearance\\n1...  ₹2.68 Lakh  \n",
       "4233  Mileage (ARAI)\\n18.6 kmpl\\nGround clearance\\n1...  ₹3.25 Lakh  \n",
       "...                                                 ...         ...  \n",
       "3298                                                NaN         NaN  \n",
       "3299                                                NaN         NaN  \n",
       "5779                                                NaN         NaN  \n",
       "5799                                                NaN         NaN  \n",
       "5839                                                NaN         NaN  \n",
       "\n",
       "[4988 rows x 7 columns]"
      ]
     },
     "execution_count": 5,
     "metadata": {},
     "output_type": "execute_result"
    }
   ],
   "source": [
    "df[df.duplicated()].sort_values('brand_and_model')"
   ]
  },
  {
   "cell_type": "code",
   "execution_count": 6,
   "id": "fb9f8652",
   "metadata": {},
   "outputs": [],
   "source": [
    "df = df.drop_duplicates()"
   ]
  },
  {
   "cell_type": "code",
   "execution_count": 7,
   "id": "61b9693a",
   "metadata": {},
   "outputs": [
    {
     "data": {
      "text/plain": [
       "(1492, 7)"
      ]
     },
     "execution_count": 7,
     "metadata": {},
     "output_type": "execute_result"
    }
   ],
   "source": [
    "df.shape"
   ]
  },
  {
   "cell_type": "markdown",
   "id": "a79b941e",
   "metadata": {},
   "source": [
    "# Merging the two specifications column into single one"
   ]
  },
  {
   "cell_type": "code",
   "execution_count": 8,
   "id": "94da7c5d",
   "metadata": {},
   "outputs": [],
   "source": [
    "df['all_spec_1'] = np.where(df['all_spec_1'].isnull(), df['all_spec_2'], df['all_spec_1'])"
   ]
  },
  {
   "cell_type": "code",
   "execution_count": 9,
   "id": "a729a77a",
   "metadata": {},
   "outputs": [
    {
     "data": {
      "text/html": [
       "<div>\n",
       "<style scoped>\n",
       "    .dataframe tbody tr th:only-of-type {\n",
       "        vertical-align: middle;\n",
       "    }\n",
       "\n",
       "    .dataframe tbody tr th {\n",
       "        vertical-align: top;\n",
       "    }\n",
       "\n",
       "    .dataframe thead th {\n",
       "        text-align: right;\n",
       "    }\n",
       "</style>\n",
       "<table border=\"1\" class=\"dataframe\">\n",
       "  <thead>\n",
       "    <tr style=\"text-align: right;\">\n",
       "      <th></th>\n",
       "      <th>brand_and_model</th>\n",
       "      <th>km_driven</th>\n",
       "      <th>fuel_type</th>\n",
       "      <th>transmission</th>\n",
       "      <th>all_spec_1</th>\n",
       "      <th>all_spec_2</th>\n",
       "      <th>price</th>\n",
       "    </tr>\n",
       "  </thead>\n",
       "  <tbody>\n",
       "    <tr>\n",
       "      <th>0</th>\n",
       "      <td>2018 Hyundai Elite i20 Asta 1.2 (O)</td>\n",
       "      <td>34K km</td>\n",
       "      <td>· Petrol</td>\n",
       "      <td>· Manual</td>\n",
       "      <td>Mileage (ARAI)\\n19.8 kmpl\\nGround clearance\\n1...</td>\n",
       "      <td>NaN</td>\n",
       "      <td>₹6.65 Lakh</td>\n",
       "    </tr>\n",
       "    <tr>\n",
       "      <th>1</th>\n",
       "      <td>2021 Hyundai Creta SX IVT Petrol</td>\n",
       "      <td>19K km</td>\n",
       "      <td>· Petrol</td>\n",
       "      <td>· Automatic</td>\n",
       "      <td>Ground clearance\\n190 mm\\nBoot space\\n433 litr...</td>\n",
       "      <td>Ground clearance\\n190 mm\\nBoot space\\n433 litr...</td>\n",
       "      <td>₹15.24 Lakh</td>\n",
       "    </tr>\n",
       "    <tr>\n",
       "      <th>2</th>\n",
       "      <td>2019 Hyundai Creta 1.6 SX</td>\n",
       "      <td>51K km</td>\n",
       "      <td>· Diesel</td>\n",
       "      <td>· Manual</td>\n",
       "      <td>Boot space\\n400 litres\\nSeating capacity\\n5 un...</td>\n",
       "      <td>NaN</td>\n",
       "      <td>₹11.88 Lakh</td>\n",
       "    </tr>\n",
       "    <tr>\n",
       "      <th>3</th>\n",
       "      <td>2015 Hyundai Grand i10 Sportz 1.2 Kappa VTVT</td>\n",
       "      <td>44K km</td>\n",
       "      <td>· Petrol</td>\n",
       "      <td>· Manual</td>\n",
       "      <td>Mileage (ARAI)\\n18.9 kmpl\\nGround clearance\\n1...</td>\n",
       "      <td>Mileage (ARAI)\\n18.9 kmpl\\nGround clearance\\n1...</td>\n",
       "      <td>₹4.06 Lakh</td>\n",
       "    </tr>\n",
       "    <tr>\n",
       "      <th>4</th>\n",
       "      <td>2021 Renault Kwid 1.0 RXL</td>\n",
       "      <td>12K km</td>\n",
       "      <td>· Petrol</td>\n",
       "      <td>· Manual</td>\n",
       "      <td>Mileage (ARAI)\\n21.7 kmpl\\nGround clearance\\n1...</td>\n",
       "      <td>NaN</td>\n",
       "      <td>₹3.75 Lakh</td>\n",
       "    </tr>\n",
       "  </tbody>\n",
       "</table>\n",
       "</div>"
      ],
      "text/plain": [
       "                                brand_and_model km_driven  fuel_type  \\\n",
       "0           2018 Hyundai Elite i20 Asta 1.2 (O)    34K km   · Petrol   \n",
       "1              2021 Hyundai Creta SX IVT Petrol    19K km   · Petrol   \n",
       "2                     2019 Hyundai Creta 1.6 SX    51K km   · Diesel   \n",
       "3  2015 Hyundai Grand i10 Sportz 1.2 Kappa VTVT    44K km   · Petrol   \n",
       "4                     2021 Renault Kwid 1.0 RXL    12K km   · Petrol   \n",
       "\n",
       "   transmission                                         all_spec_1  \\\n",
       "0      · Manual  Mileage (ARAI)\\n19.8 kmpl\\nGround clearance\\n1...   \n",
       "1   · Automatic  Ground clearance\\n190 mm\\nBoot space\\n433 litr...   \n",
       "2      · Manual  Boot space\\n400 litres\\nSeating capacity\\n5 un...   \n",
       "3      · Manual  Mileage (ARAI)\\n18.9 kmpl\\nGround clearance\\n1...   \n",
       "4      · Manual  Mileage (ARAI)\\n21.7 kmpl\\nGround clearance\\n1...   \n",
       "\n",
       "                                          all_spec_2        price  \n",
       "0                                                NaN   ₹6.65 Lakh  \n",
       "1  Ground clearance\\n190 mm\\nBoot space\\n433 litr...  ₹15.24 Lakh  \n",
       "2                                                NaN  ₹11.88 Lakh  \n",
       "3  Mileage (ARAI)\\n18.9 kmpl\\nGround clearance\\n1...   ₹4.06 Lakh  \n",
       "4                                                NaN   ₹3.75 Lakh  "
      ]
     },
     "execution_count": 9,
     "metadata": {},
     "output_type": "execute_result"
    }
   ],
   "source": [
    "df.head()"
   ]
  },
  {
   "cell_type": "code",
   "execution_count": 10,
   "id": "4b821593",
   "metadata": {},
   "outputs": [
    {
     "data": {
      "text/plain": [
       "brand_and_model     83\n",
       "km_driven           10\n",
       "fuel_type           83\n",
       "transmission        83\n",
       "all_spec_1          98\n",
       "all_spec_2         786\n",
       "price               83\n",
       "dtype: int64"
      ]
     },
     "execution_count": 10,
     "metadata": {},
     "output_type": "execute_result"
    }
   ],
   "source": [
    "df.isnull().sum()"
   ]
  },
  {
   "cell_type": "code",
   "execution_count": 11,
   "id": "336ffbe4",
   "metadata": {},
   "outputs": [],
   "source": [
    "df.drop('all_spec_2', axis= 1, inplace=True)"
   ]
  },
  {
   "cell_type": "code",
   "execution_count": 12,
   "id": "ec8089ec",
   "metadata": {},
   "outputs": [
    {
     "data": {
      "text/html": [
       "<div>\n",
       "<style scoped>\n",
       "    .dataframe tbody tr th:only-of-type {\n",
       "        vertical-align: middle;\n",
       "    }\n",
       "\n",
       "    .dataframe tbody tr th {\n",
       "        vertical-align: top;\n",
       "    }\n",
       "\n",
       "    .dataframe thead th {\n",
       "        text-align: right;\n",
       "    }\n",
       "</style>\n",
       "<table border=\"1\" class=\"dataframe\">\n",
       "  <thead>\n",
       "    <tr style=\"text-align: right;\">\n",
       "      <th></th>\n",
       "      <th>brand_and_model</th>\n",
       "      <th>km_driven</th>\n",
       "      <th>fuel_type</th>\n",
       "      <th>transmission</th>\n",
       "      <th>all_spec_1</th>\n",
       "      <th>price</th>\n",
       "    </tr>\n",
       "  </thead>\n",
       "  <tbody>\n",
       "    <tr>\n",
       "      <th>0</th>\n",
       "      <td>2018 Hyundai Elite i20 Asta 1.2 (O)</td>\n",
       "      <td>34K km</td>\n",
       "      <td>· Petrol</td>\n",
       "      <td>· Manual</td>\n",
       "      <td>Mileage (ARAI)\\n19.8 kmpl\\nGround clearance\\n1...</td>\n",
       "      <td>₹6.65 Lakh</td>\n",
       "    </tr>\n",
       "    <tr>\n",
       "      <th>1</th>\n",
       "      <td>2021 Hyundai Creta SX IVT Petrol</td>\n",
       "      <td>19K km</td>\n",
       "      <td>· Petrol</td>\n",
       "      <td>· Automatic</td>\n",
       "      <td>Ground clearance\\n190 mm\\nBoot space\\n433 litr...</td>\n",
       "      <td>₹15.24 Lakh</td>\n",
       "    </tr>\n",
       "  </tbody>\n",
       "</table>\n",
       "</div>"
      ],
      "text/plain": [
       "                       brand_and_model km_driven  fuel_type  transmission  \\\n",
       "0  2018 Hyundai Elite i20 Asta 1.2 (O)    34K km   · Petrol      · Manual   \n",
       "1     2021 Hyundai Creta SX IVT Petrol    19K km   · Petrol   · Automatic   \n",
       "\n",
       "                                          all_spec_1        price  \n",
       "0  Mileage (ARAI)\\n19.8 kmpl\\nGround clearance\\n1...   ₹6.65 Lakh  \n",
       "1  Ground clearance\\n190 mm\\nBoot space\\n433 litr...  ₹15.24 Lakh  "
      ]
     },
     "execution_count": 12,
     "metadata": {},
     "output_type": "execute_result"
    }
   ],
   "source": [
    "df.head(2)"
   ]
  },
  {
   "cell_type": "code",
   "execution_count": 13,
   "id": "80634645",
   "metadata": {},
   "outputs": [
    {
     "data": {
      "text/plain": [
       "brand_and_model    83\n",
       "km_driven          10\n",
       "fuel_type          83\n",
       "transmission       83\n",
       "all_spec_1         98\n",
       "price              83\n",
       "dtype: int64"
      ]
     },
     "execution_count": 13,
     "metadata": {},
     "output_type": "execute_result"
    }
   ],
   "source": [
    "df.isnull().sum()"
   ]
  },
  {
   "cell_type": "markdown",
   "id": "54c21208",
   "metadata": {},
   "source": [
    "## Droping nulls / Null handling"
   ]
  },
  {
   "cell_type": "code",
   "execution_count": 14,
   "id": "15526172",
   "metadata": {},
   "outputs": [],
   "source": [
    "df.dropna(inplace=True)"
   ]
  },
  {
   "cell_type": "code",
   "execution_count": 15,
   "id": "504d51f2",
   "metadata": {},
   "outputs": [
    {
     "data": {
      "text/plain": [
       "(1394, 6)"
      ]
     },
     "execution_count": 15,
     "metadata": {},
     "output_type": "execute_result"
    }
   ],
   "source": [
    "df.shape"
   ]
  },
  {
   "cell_type": "code",
   "execution_count": 16,
   "id": "f4eaf7c9",
   "metadata": {},
   "outputs": [
    {
     "data": {
      "text/plain": [
       "brand_and_model    0\n",
       "km_driven          0\n",
       "fuel_type          0\n",
       "transmission       0\n",
       "all_spec_1         0\n",
       "price              0\n",
       "dtype: int64"
      ]
     },
     "execution_count": 16,
     "metadata": {},
     "output_type": "execute_result"
    }
   ],
   "source": [
    "df.isnull().sum()"
   ]
  },
  {
   "cell_type": "markdown",
   "id": "77ce0f0a",
   "metadata": {},
   "source": [
    "# Extracting model (year) and manufacturer from brand_&_model column"
   ]
  },
  {
   "cell_type": "code",
   "execution_count": 17,
   "id": "af871519",
   "metadata": {},
   "outputs": [],
   "source": [
    "df['model'] = df['brand_and_model'].apply(lambda x: int(x[:4]))"
   ]
  },
  {
   "cell_type": "code",
   "execution_count": 18,
   "id": "6e1b64a9",
   "metadata": {},
   "outputs": [],
   "source": [
    "df['brand_and_model'] = df['brand_and_model'].apply(lambda x: x[5:])"
   ]
  },
  {
   "cell_type": "code",
   "execution_count": 19,
   "id": "430c7e1a",
   "metadata": {},
   "outputs": [],
   "source": [
    "df.rename(columns={'brand_and_model':'brand'}, inplace=True)"
   ]
  },
  {
   "cell_type": "code",
   "execution_count": 20,
   "id": "15193296",
   "metadata": {},
   "outputs": [
    {
     "data": {
      "text/html": [
       "<div>\n",
       "<style scoped>\n",
       "    .dataframe tbody tr th:only-of-type {\n",
       "        vertical-align: middle;\n",
       "    }\n",
       "\n",
       "    .dataframe tbody tr th {\n",
       "        vertical-align: top;\n",
       "    }\n",
       "\n",
       "    .dataframe thead th {\n",
       "        text-align: right;\n",
       "    }\n",
       "</style>\n",
       "<table border=\"1\" class=\"dataframe\">\n",
       "  <thead>\n",
       "    <tr style=\"text-align: right;\">\n",
       "      <th></th>\n",
       "      <th>brand</th>\n",
       "      <th>km_driven</th>\n",
       "      <th>fuel_type</th>\n",
       "      <th>transmission</th>\n",
       "      <th>all_spec_1</th>\n",
       "      <th>price</th>\n",
       "      <th>model</th>\n",
       "    </tr>\n",
       "  </thead>\n",
       "  <tbody>\n",
       "    <tr>\n",
       "      <th>0</th>\n",
       "      <td>Hyundai Elite i20 Asta 1.2 (O)</td>\n",
       "      <td>34K km</td>\n",
       "      <td>· Petrol</td>\n",
       "      <td>· Manual</td>\n",
       "      <td>Mileage (ARAI)\\n19.8 kmpl\\nGround clearance\\n1...</td>\n",
       "      <td>₹6.65 Lakh</td>\n",
       "      <td>2018</td>\n",
       "    </tr>\n",
       "    <tr>\n",
       "      <th>1</th>\n",
       "      <td>Hyundai Creta SX IVT Petrol</td>\n",
       "      <td>19K km</td>\n",
       "      <td>· Petrol</td>\n",
       "      <td>· Automatic</td>\n",
       "      <td>Ground clearance\\n190 mm\\nBoot space\\n433 litr...</td>\n",
       "      <td>₹15.24 Lakh</td>\n",
       "      <td>2021</td>\n",
       "    </tr>\n",
       "  </tbody>\n",
       "</table>\n",
       "</div>"
      ],
      "text/plain": [
       "                            brand km_driven  fuel_type  transmission  \\\n",
       "0  Hyundai Elite i20 Asta 1.2 (O)    34K km   · Petrol      · Manual   \n",
       "1     Hyundai Creta SX IVT Petrol    19K km   · Petrol   · Automatic   \n",
       "\n",
       "                                          all_spec_1        price  model  \n",
       "0  Mileage (ARAI)\\n19.8 kmpl\\nGround clearance\\n1...   ₹6.65 Lakh   2018  \n",
       "1  Ground clearance\\n190 mm\\nBoot space\\n433 litr...  ₹15.24 Lakh   2021  "
      ]
     },
     "execution_count": 20,
     "metadata": {},
     "output_type": "execute_result"
    }
   ],
   "source": [
    "df.head(2)"
   ]
  },
  {
   "cell_type": "code",
   "execution_count": 21,
   "id": "015f41c8",
   "metadata": {},
   "outputs": [
    {
     "data": {
      "text/plain": [
       "array([2018, 2021, 2019, 2015, 2016, 2020, 2011, 2012, 2017, 2014, 2013,\n",
       "       2022, 2010, 2023, 2009], dtype=int64)"
      ]
     },
     "execution_count": 21,
     "metadata": {},
     "output_type": "execute_result"
    }
   ],
   "source": [
    "df.model.unique()"
   ]
  },
  {
   "cell_type": "code",
   "execution_count": 22,
   "id": "4041d410",
   "metadata": {},
   "outputs": [],
   "source": [
    "car_brands = ['Audi','Bentley','BMW','Bugatti','Chevrolet','Datsun','Ferrari','Fiat','Ford','Honda','Hyundai','Jaguar','Jeep','Kia',\n",
    "              'Lamborghini','Land Rover','Mahindra','Maruti','Mercedes-Benz','MG','Mitsubishi','Nissan','Porsche','Renault','Rolls-Royce',\n",
    "              'SEAT','Skoda','Suzuki','Tata','Tesla','Toyota','Volkswagen','Volvo']"
   ]
  },
  {
   "cell_type": "code",
   "execution_count": 23,
   "id": "206b7f43",
   "metadata": {},
   "outputs": [],
   "source": [
    "def manufacturer(x):\n",
    "    x = x.split()\n",
    "    for i in x:\n",
    "        if i in car_brands:\n",
    "            return i\n",
    "        else:\n",
    "            pass"
   ]
  },
  {
   "cell_type": "code",
   "execution_count": 24,
   "id": "6f246b78",
   "metadata": {},
   "outputs": [
    {
     "data": {
      "text/plain": [
       "'Hyundai'"
      ]
     },
     "execution_count": 24,
     "metadata": {},
     "output_type": "execute_result"
    }
   ],
   "source": [
    "manufacturer(df.iloc[0,0])"
   ]
  },
  {
   "cell_type": "code",
   "execution_count": 25,
   "id": "f8019fc4",
   "metadata": {},
   "outputs": [],
   "source": [
    "df['manufacturer'] = df['brand'].apply(lambda x: manufacturer(x))"
   ]
  },
  {
   "cell_type": "code",
   "execution_count": 26,
   "id": "d90eb16b",
   "metadata": {},
   "outputs": [
    {
     "data": {
      "text/html": [
       "<div>\n",
       "<style scoped>\n",
       "    .dataframe tbody tr th:only-of-type {\n",
       "        vertical-align: middle;\n",
       "    }\n",
       "\n",
       "    .dataframe tbody tr th {\n",
       "        vertical-align: top;\n",
       "    }\n",
       "\n",
       "    .dataframe thead th {\n",
       "        text-align: right;\n",
       "    }\n",
       "</style>\n",
       "<table border=\"1\" class=\"dataframe\">\n",
       "  <thead>\n",
       "    <tr style=\"text-align: right;\">\n",
       "      <th></th>\n",
       "      <th>brand</th>\n",
       "      <th>km_driven</th>\n",
       "      <th>fuel_type</th>\n",
       "      <th>transmission</th>\n",
       "      <th>all_spec_1</th>\n",
       "      <th>price</th>\n",
       "      <th>model</th>\n",
       "      <th>manufacturer</th>\n",
       "    </tr>\n",
       "  </thead>\n",
       "  <tbody>\n",
       "    <tr>\n",
       "      <th>0</th>\n",
       "      <td>Hyundai Elite i20 Asta 1.2 (O)</td>\n",
       "      <td>34K km</td>\n",
       "      <td>· Petrol</td>\n",
       "      <td>· Manual</td>\n",
       "      <td>Mileage (ARAI)\\n19.8 kmpl\\nGround clearance\\n1...</td>\n",
       "      <td>₹6.65 Lakh</td>\n",
       "      <td>2018</td>\n",
       "      <td>Hyundai</td>\n",
       "    </tr>\n",
       "    <tr>\n",
       "      <th>1</th>\n",
       "      <td>Hyundai Creta SX IVT Petrol</td>\n",
       "      <td>19K km</td>\n",
       "      <td>· Petrol</td>\n",
       "      <td>· Automatic</td>\n",
       "      <td>Ground clearance\\n190 mm\\nBoot space\\n433 litr...</td>\n",
       "      <td>₹15.24 Lakh</td>\n",
       "      <td>2021</td>\n",
       "      <td>Hyundai</td>\n",
       "    </tr>\n",
       "    <tr>\n",
       "      <th>2</th>\n",
       "      <td>Hyundai Creta 1.6 SX</td>\n",
       "      <td>51K km</td>\n",
       "      <td>· Diesel</td>\n",
       "      <td>· Manual</td>\n",
       "      <td>Boot space\\n400 litres\\nSeating capacity\\n5 un...</td>\n",
       "      <td>₹11.88 Lakh</td>\n",
       "      <td>2019</td>\n",
       "      <td>Hyundai</td>\n",
       "    </tr>\n",
       "    <tr>\n",
       "      <th>3</th>\n",
       "      <td>Hyundai Grand i10 Sportz 1.2 Kappa VTVT</td>\n",
       "      <td>44K km</td>\n",
       "      <td>· Petrol</td>\n",
       "      <td>· Manual</td>\n",
       "      <td>Mileage (ARAI)\\n18.9 kmpl\\nGround clearance\\n1...</td>\n",
       "      <td>₹4.06 Lakh</td>\n",
       "      <td>2015</td>\n",
       "      <td>Hyundai</td>\n",
       "    </tr>\n",
       "    <tr>\n",
       "      <th>4</th>\n",
       "      <td>Renault Kwid 1.0 RXL</td>\n",
       "      <td>12K km</td>\n",
       "      <td>· Petrol</td>\n",
       "      <td>· Manual</td>\n",
       "      <td>Mileage (ARAI)\\n21.7 kmpl\\nGround clearance\\n1...</td>\n",
       "      <td>₹3.75 Lakh</td>\n",
       "      <td>2021</td>\n",
       "      <td>Renault</td>\n",
       "    </tr>\n",
       "  </tbody>\n",
       "</table>\n",
       "</div>"
      ],
      "text/plain": [
       "                                     brand km_driven  fuel_type  transmission  \\\n",
       "0           Hyundai Elite i20 Asta 1.2 (O)    34K km   · Petrol      · Manual   \n",
       "1              Hyundai Creta SX IVT Petrol    19K km   · Petrol   · Automatic   \n",
       "2                     Hyundai Creta 1.6 SX    51K km   · Diesel      · Manual   \n",
       "3  Hyundai Grand i10 Sportz 1.2 Kappa VTVT    44K km   · Petrol      · Manual   \n",
       "4                     Renault Kwid 1.0 RXL    12K km   · Petrol      · Manual   \n",
       "\n",
       "                                          all_spec_1        price  model  \\\n",
       "0  Mileage (ARAI)\\n19.8 kmpl\\nGround clearance\\n1...   ₹6.65 Lakh   2018   \n",
       "1  Ground clearance\\n190 mm\\nBoot space\\n433 litr...  ₹15.24 Lakh   2021   \n",
       "2  Boot space\\n400 litres\\nSeating capacity\\n5 un...  ₹11.88 Lakh   2019   \n",
       "3  Mileage (ARAI)\\n18.9 kmpl\\nGround clearance\\n1...   ₹4.06 Lakh   2015   \n",
       "4  Mileage (ARAI)\\n21.7 kmpl\\nGround clearance\\n1...   ₹3.75 Lakh   2021   \n",
       "\n",
       "  manufacturer  \n",
       "0      Hyundai  \n",
       "1      Hyundai  \n",
       "2      Hyundai  \n",
       "3      Hyundai  \n",
       "4      Renault  "
      ]
     },
     "execution_count": 26,
     "metadata": {},
     "output_type": "execute_result"
    }
   ],
   "source": [
    "df.head()"
   ]
  },
  {
   "cell_type": "code",
   "execution_count": 27,
   "id": "faff2678",
   "metadata": {},
   "outputs": [],
   "source": [
    "df['manufacturer'].replace('Maruti',\"Maruti Suzuki\", inplace=True)"
   ]
  },
  {
   "cell_type": "code",
   "execution_count": 28,
   "id": "209cc61f",
   "metadata": {},
   "outputs": [
    {
     "data": {
      "text/plain": [
       "array(['Hyundai', 'Renault', 'Maruti Suzuki', 'Toyota', 'Ford', 'Kia',\n",
       "       'Skoda', 'Mahindra', 'Volkswagen', 'Honda', 'Tata', 'Chevrolet',\n",
       "       'Nissan', 'MG', 'Datsun', 'Jeep'], dtype=object)"
      ]
     },
     "execution_count": 28,
     "metadata": {},
     "output_type": "execute_result"
    }
   ],
   "source": [
    "df.manufacturer.unique()"
   ]
  },
  {
   "cell_type": "markdown",
   "id": "c504a8ca",
   "metadata": {},
   "source": [
    "# Cleaning fuel_type and transmission columns"
   ]
  },
  {
   "cell_type": "code",
   "execution_count": 29,
   "id": "3ed37d10",
   "metadata": {},
   "outputs": [],
   "source": [
    "def clean(x):\n",
    "    x = x[3:]\n",
    "    return x"
   ]
  },
  {
   "cell_type": "code",
   "execution_count": 30,
   "id": "39cf1f58",
   "metadata": {},
   "outputs": [],
   "source": [
    "df['fuel_type'] = df['fuel_type'].apply(lambda x: clean(x))"
   ]
  },
  {
   "cell_type": "code",
   "execution_count": 31,
   "id": "757a9aff",
   "metadata": {},
   "outputs": [],
   "source": [
    "df['transmission'] = df['transmission'].apply(lambda x: clean(x))"
   ]
  },
  {
   "cell_type": "code",
   "execution_count": 32,
   "id": "0f3692a8",
   "metadata": {},
   "outputs": [
    {
     "data": {
      "text/html": [
       "<div>\n",
       "<style scoped>\n",
       "    .dataframe tbody tr th:only-of-type {\n",
       "        vertical-align: middle;\n",
       "    }\n",
       "\n",
       "    .dataframe tbody tr th {\n",
       "        vertical-align: top;\n",
       "    }\n",
       "\n",
       "    .dataframe thead th {\n",
       "        text-align: right;\n",
       "    }\n",
       "</style>\n",
       "<table border=\"1\" class=\"dataframe\">\n",
       "  <thead>\n",
       "    <tr style=\"text-align: right;\">\n",
       "      <th></th>\n",
       "      <th>brand</th>\n",
       "      <th>km_driven</th>\n",
       "      <th>fuel_type</th>\n",
       "      <th>transmission</th>\n",
       "      <th>all_spec_1</th>\n",
       "      <th>price</th>\n",
       "      <th>model</th>\n",
       "      <th>manufacturer</th>\n",
       "    </tr>\n",
       "  </thead>\n",
       "  <tbody>\n",
       "    <tr>\n",
       "      <th>0</th>\n",
       "      <td>Hyundai Elite i20 Asta 1.2 (O)</td>\n",
       "      <td>34K km</td>\n",
       "      <td>Petrol</td>\n",
       "      <td>Manual</td>\n",
       "      <td>Mileage (ARAI)\\n19.8 kmpl\\nGround clearance\\n1...</td>\n",
       "      <td>₹6.65 Lakh</td>\n",
       "      <td>2018</td>\n",
       "      <td>Hyundai</td>\n",
       "    </tr>\n",
       "    <tr>\n",
       "      <th>1</th>\n",
       "      <td>Hyundai Creta SX IVT Petrol</td>\n",
       "      <td>19K km</td>\n",
       "      <td>Petrol</td>\n",
       "      <td>Automatic</td>\n",
       "      <td>Ground clearance\\n190 mm\\nBoot space\\n433 litr...</td>\n",
       "      <td>₹15.24 Lakh</td>\n",
       "      <td>2021</td>\n",
       "      <td>Hyundai</td>\n",
       "    </tr>\n",
       "  </tbody>\n",
       "</table>\n",
       "</div>"
      ],
      "text/plain": [
       "                            brand km_driven fuel_type transmission  \\\n",
       "0  Hyundai Elite i20 Asta 1.2 (O)    34K km    Petrol       Manual   \n",
       "1     Hyundai Creta SX IVT Petrol    19K km    Petrol    Automatic   \n",
       "\n",
       "                                          all_spec_1        price  model  \\\n",
       "0  Mileage (ARAI)\\n19.8 kmpl\\nGround clearance\\n1...   ₹6.65 Lakh   2018   \n",
       "1  Ground clearance\\n190 mm\\nBoot space\\n433 litr...  ₹15.24 Lakh   2021   \n",
       "\n",
       "  manufacturer  \n",
       "0      Hyundai  \n",
       "1      Hyundai  "
      ]
     },
     "execution_count": 32,
     "metadata": {},
     "output_type": "execute_result"
    }
   ],
   "source": [
    "df.head(2)"
   ]
  },
  {
   "cell_type": "markdown",
   "id": "eb9718cc",
   "metadata": {},
   "source": [
    "# Cleaning km_driven column"
   ]
  },
  {
   "cell_type": "code",
   "execution_count": 33,
   "id": "9959674a",
   "metadata": {},
   "outputs": [
    {
     "data": {
      "text/plain": [
       "array(['34K km', '19K km', '51K km', '44K km', '12K km', '17K km',\n",
       "       '56K km', '10K km', '50K km', '45K km', '96K km', '65K km',\n",
       "       '60K km', '87K km', '39K km', '7K km', '18K km', '25K km',\n",
       "       '46K km', '63K km', '98K km', '41K km', '26K km', '11K km',\n",
       "       '59K km', '47K km', '80K km', '40K km', '74K km', '24K km',\n",
       "       '33K km', '90K km', '77K km', '48K km', '38K km', '27K km',\n",
       "       '29K km', '66K km', '14K km', '31K km', '58K km', '49K km',\n",
       "       '13K km', '53K km', '35K km', '15K km', '79K km', '75K km',\n",
       "       '73K km', '52K km', '20K km', '100K km', '43K km', '54K km',\n",
       "       '81K km', '36K km', '89K km', '37K km', '70K km', '97K km',\n",
       "       '22K km', '57K km', '21K km', '23K km', '61K km', '72K km',\n",
       "       '76K km', '86K km', '28K km', '42K km', '99K km', '88K km',\n",
       "       '55K km', '62K km', '16K km', '95K km', '82K km', '78K km',\n",
       "       '6K km', '32K km', '67K km', '91K km', '71K km', '83K km',\n",
       "       '64K km', '84K km', '92K km', '85K km', '69K km', '30K km',\n",
       "       '68K km', '3K km', '9K km', '8K km', '94K km', '114K km',\n",
       "       '105K km', '4K km', '5K km', '93K km', '118K km', '108K km',\n",
       "       '102K km', '116K km', '1K km', '2K km', '110K km', '107K km',\n",
       "       '121K km'], dtype=object)"
      ]
     },
     "execution_count": 33,
     "metadata": {},
     "output_type": "execute_result"
    }
   ],
   "source": [
    "df.km_driven.unique()"
   ]
  },
  {
   "cell_type": "code",
   "execution_count": 34,
   "id": "3a51412f",
   "metadata": {},
   "outputs": [],
   "source": [
    "def driven(x):\n",
    "    x = int(x.replace(x[-4:], \"\"))\n",
    "    return x"
   ]
  },
  {
   "cell_type": "code",
   "execution_count": 35,
   "id": "8937374b",
   "metadata": {},
   "outputs": [],
   "source": [
    "a = \"26K km\""
   ]
  },
  {
   "cell_type": "code",
   "execution_count": 36,
   "id": "74392a59",
   "metadata": {},
   "outputs": [
    {
     "data": {
      "text/plain": [
       "26"
      ]
     },
     "execution_count": 36,
     "metadata": {},
     "output_type": "execute_result"
    }
   ],
   "source": [
    "driven(a)"
   ]
  },
  {
   "cell_type": "code",
   "execution_count": 37,
   "id": "c44b9e27",
   "metadata": {},
   "outputs": [],
   "source": [
    "df['km_driven'] = df['km_driven'].apply(lambda x: driven(x))"
   ]
  },
  {
   "cell_type": "code",
   "execution_count": 38,
   "id": "1376f66a",
   "metadata": {},
   "outputs": [],
   "source": [
    "df = df.rename(columns = {'km_driven':'km_driven_(in_thousands)'})"
   ]
  },
  {
   "cell_type": "code",
   "execution_count": 39,
   "id": "11b8ebeb",
   "metadata": {},
   "outputs": [
    {
     "data": {
      "text/html": [
       "<div>\n",
       "<style scoped>\n",
       "    .dataframe tbody tr th:only-of-type {\n",
       "        vertical-align: middle;\n",
       "    }\n",
       "\n",
       "    .dataframe tbody tr th {\n",
       "        vertical-align: top;\n",
       "    }\n",
       "\n",
       "    .dataframe thead th {\n",
       "        text-align: right;\n",
       "    }\n",
       "</style>\n",
       "<table border=\"1\" class=\"dataframe\">\n",
       "  <thead>\n",
       "    <tr style=\"text-align: right;\">\n",
       "      <th></th>\n",
       "      <th>brand</th>\n",
       "      <th>km_driven_(in_thousands)</th>\n",
       "      <th>fuel_type</th>\n",
       "      <th>transmission</th>\n",
       "      <th>all_spec_1</th>\n",
       "      <th>price</th>\n",
       "      <th>model</th>\n",
       "      <th>manufacturer</th>\n",
       "    </tr>\n",
       "  </thead>\n",
       "  <tbody>\n",
       "    <tr>\n",
       "      <th>0</th>\n",
       "      <td>Hyundai Elite i20 Asta 1.2 (O)</td>\n",
       "      <td>34</td>\n",
       "      <td>Petrol</td>\n",
       "      <td>Manual</td>\n",
       "      <td>Mileage (ARAI)\\n19.8 kmpl\\nGround clearance\\n1...</td>\n",
       "      <td>₹6.65 Lakh</td>\n",
       "      <td>2018</td>\n",
       "      <td>Hyundai</td>\n",
       "    </tr>\n",
       "    <tr>\n",
       "      <th>1</th>\n",
       "      <td>Hyundai Creta SX IVT Petrol</td>\n",
       "      <td>19</td>\n",
       "      <td>Petrol</td>\n",
       "      <td>Automatic</td>\n",
       "      <td>Ground clearance\\n190 mm\\nBoot space\\n433 litr...</td>\n",
       "      <td>₹15.24 Lakh</td>\n",
       "      <td>2021</td>\n",
       "      <td>Hyundai</td>\n",
       "    </tr>\n",
       "  </tbody>\n",
       "</table>\n",
       "</div>"
      ],
      "text/plain": [
       "                            brand  km_driven_(in_thousands) fuel_type  \\\n",
       "0  Hyundai Elite i20 Asta 1.2 (O)                        34    Petrol   \n",
       "1     Hyundai Creta SX IVT Petrol                        19    Petrol   \n",
       "\n",
       "  transmission                                         all_spec_1  \\\n",
       "0       Manual  Mileage (ARAI)\\n19.8 kmpl\\nGround clearance\\n1...   \n",
       "1    Automatic  Ground clearance\\n190 mm\\nBoot space\\n433 litr...   \n",
       "\n",
       "         price  model manufacturer  \n",
       "0   ₹6.65 Lakh   2018      Hyundai  \n",
       "1  ₹15.24 Lakh   2021      Hyundai  "
      ]
     },
     "execution_count": 39,
     "metadata": {},
     "output_type": "execute_result"
    }
   ],
   "source": [
    "df.head(2)"
   ]
  },
  {
   "cell_type": "markdown",
   "id": "e7771cc3",
   "metadata": {},
   "source": [
    "# Cleaning price column"
   ]
  },
  {
   "cell_type": "code",
   "execution_count": 40,
   "id": "6862f08e",
   "metadata": {},
   "outputs": [
    {
     "data": {
      "text/plain": [
       "array(['₹6.65 Lakh', '₹15.24 Lakh', '₹11.88 Lakh', '₹4.06 Lakh',\n",
       "       '₹3.75 Lakh', '₹7.93 Lakh', '₹5.78 Lakh', '₹7.45 Lakh',\n",
       "       '₹10.98 Lakh', '₹2.72 Lakh', '₹2.86 Lakh', '₹6.76 Lakh',\n",
       "       '₹2.93 Lakh', '₹3.69 Lakh', '₹2.60 Lakh', '₹7.27 Lakh',\n",
       "       '₹13.26 Lakh', '₹11.45 Lakh', '₹6.48 Lakh', '₹3.41 Lakh',\n",
       "       '₹4.34 Lakh', '₹6.72 Lakh', '₹6.18 Lakh', '₹6.99 Lakh',\n",
       "       '₹11.97 Lakh', '₹9.70 Lakh', '₹6.95 Lakh', '₹7.79 Lakh',\n",
       "       '₹5.90 Lakh', '₹5.64 Lakh', '₹5.40 Lakh', '₹4.98 Lakh',\n",
       "       '₹4.03 Lakh', '₹3.92 Lakh', '₹2.42 Lakh', '₹2.18 Lakh',\n",
       "       '₹3.81 Lakh', '₹5.66 Lakh', '₹5.52 Lakh', '₹5.54 Lakh',\n",
       "       '₹4.59 Lakh', '₹7.29 Lakh', '₹7.58 Lakh', '₹5.72 Lakh',\n",
       "       '₹4.11 Lakh', '₹5.37 Lakh', '₹4.95 Lakh', '₹6.68 Lakh',\n",
       "       '₹13.45 Lakh', '₹12.20 Lakh', '₹14.19 Lakh', '₹6.22 Lakh',\n",
       "       '₹20.15 Lakh', '₹4.54 Lakh', '₹8.43 Lakh', '₹10.17 Lakh',\n",
       "       '₹16.20 Lakh', '₹15.73 Lakh', '₹9.41 Lakh', '₹4.84 Lakh',\n",
       "       '₹3.95 Lakh', '₹7.23 Lakh', '₹4.17 Lakh', '₹20.39 Lakh',\n",
       "       '₹3.47 Lakh', '₹5.19 Lakh', '₹13.41 Lakh', '₹14.20 Lakh',\n",
       "       '₹7.39 Lakh', '₹11.49 Lakh', '₹8.10 Lakh', '₹4.43 Lakh',\n",
       "       '₹13.53 Lakh', '₹8 Lakh', '₹8.59 Lakh', '₹6.38 Lakh', '₹5.83 Lakh',\n",
       "       '₹1.99 Lakh', '₹6.84 Lakh', '₹5.13 Lakh', '₹12.44 Lakh',\n",
       "       '₹4.87 Lakh', '₹5.80 Lakh', '₹5.36 Lakh', '₹5.87 Lakh',\n",
       "       '₹6.44 Lakh', '₹5.47 Lakh', '₹10.23 Lakh', '₹4 Lakh', '₹7.95 Lakh',\n",
       "       '₹6.80 Lakh', '₹19.14 Lakh', '₹11.18 Lakh', '₹6.96 Lakh',\n",
       "       '₹13.49 Lakh', '₹4.90 Lakh', '₹8.41 Lakh', '₹5.81 Lakh',\n",
       "       '₹11.20 Lakh', '₹6.89 Lakh', '₹7.30 Lakh', '₹14.42 Lakh',\n",
       "       '₹5.38 Lakh', '₹13.82 Lakh', '₹5.30 Lakh', '₹3.84 Lakh',\n",
       "       '₹3.94 Lakh', '₹3.57 Lakh', '₹18.40 Lakh', '₹6.90 Lakh',\n",
       "       '₹9.73 Lakh', '₹3.28 Lakh', '₹11.29 Lakh', '₹13.72 Lakh',\n",
       "       '₹16.17 Lakh', '₹12.84 Lakh', '₹8.65 Lakh', '₹5.20 Lakh',\n",
       "       '₹11.55 Lakh', '₹6.74 Lakh', '₹10.22 Lakh', '₹2.83 Lakh',\n",
       "       '₹7.36 Lakh', '₹6.98 Lakh', '₹3.38 Lakh', '₹10.40 Lakh',\n",
       "       '₹20.20 Lakh', '₹8.85 Lakh', '₹7.81 Lakh', '₹4.56 Lakh',\n",
       "       '₹13.52 Lakh', '₹9.32 Lakh', '₹10.83 Lakh', '₹7.42 Lakh',\n",
       "       '₹8.56 Lakh', '₹2.89 Lakh', '₹8.33 Lakh', '₹6.21 Lakh',\n",
       "       '₹7.06 Lakh', '₹4.10 Lakh', '₹6 Lakh', '₹4.31 Lakh', '₹10.36 Lakh',\n",
       "       '₹9.38 Lakh', '₹10.21 Lakh', '₹7.31 Lakh', '₹3.44 Lakh',\n",
       "       '₹9.48 Lakh', '₹4.77 Lakh', '₹8.46 Lakh', '₹3.88 Lakh',\n",
       "       '₹5.01 Lakh', '₹12.25 Lakh', '₹8.20 Lakh', '₹5.33 Lakh',\n",
       "       '₹8.92 Lakh', '₹5.55 Lakh', '₹9.90 Lakh', '₹5.69 Lakh',\n",
       "       '₹10.33 Lakh', '₹7.07 Lakh', '₹7.87 Lakh', '₹5.22 Lakh',\n",
       "       '₹10.93 Lakh', '₹9.62 Lakh', '₹6.93 Lakh', '₹8.84 Lakh',\n",
       "       '₹8.99 Lakh', '₹8.19 Lakh', '₹2.61 Lakh', '₹6.62 Lakh',\n",
       "       '₹8.55 Lakh', '₹5.71 Lakh', '₹7.59 Lakh', '₹3.55 Lakh',\n",
       "       '₹9.10 Lakh', '₹15.44 Lakh', '₹9.86 Lakh', '₹9.66 Lakh',\n",
       "       '₹3.59 Lakh', '₹8.50 Lakh', '₹11.25 Lakh', '₹9.14 Lakh',\n",
       "       '₹13.42 Lakh', '₹10.77 Lakh', '₹3.07 Lakh', '₹5.43 Lakh',\n",
       "       '₹5.53 Lakh', '₹8.27 Lakh', '₹3.45 Lakh', '₹8.77 Lakh',\n",
       "       '₹7.37 Lakh', '₹5.34 Lakh', '₹7.15 Lakh', '₹10.95 Lakh',\n",
       "       '₹3.87 Lakh', '₹11.89 Lakh', '₹8.36 Lakh', '₹8.74 Lakh',\n",
       "       '₹14.94 Lakh', '₹13.20 Lakh', '₹10.41 Lakh', '₹5.39 Lakh',\n",
       "       '₹7.18 Lakh', '₹4.18 Lakh', '₹9.89 Lakh', '₹5.85 Lakh',\n",
       "       '₹11.71 Lakh', '₹3.42 Lakh', '₹4.67 Lakh', '₹12.58 Lakh',\n",
       "       '₹9.39 Lakh', '₹7.98 Lakh', '₹11.21 Lakh', '₹6.73 Lakh',\n",
       "       '₹4.93 Lakh', '₹4.55 Lakh', '₹6.16 Lakh', '₹14.75 Lakh',\n",
       "       '₹5.21 Lakh', '₹4.64 Lakh', '₹6.11 Lakh', '₹4.85 Lakh',\n",
       "       '₹7.21 Lakh', '₹7.22 Lakh', '₹6.61 Lakh', '₹4.76 Lakh',\n",
       "       '₹7.90 Lakh', '₹6.45 Lakh', '₹10.63 Lakh', '₹15.65 Lakh',\n",
       "       '₹7.85 Lakh', '₹11.41 Lakh', '₹9.64 Lakh', '₹6.57 Lakh',\n",
       "       '₹6.43 Lakh', '₹5.51 Lakh', '₹2.12 Lakh', '₹19.05 Lakh',\n",
       "       '₹10.76 Lakh', '₹7.49 Lakh', '₹11.99 Lakh', '₹7.25 Lakh',\n",
       "       '₹3.12 Lakh', '₹4.96 Lakh', '₹9.98 Lakh', '₹5.61 Lakh',\n",
       "       '₹6.14 Lakh', '₹7.26 Lakh', '₹10.70 Lakh', '₹5.60 Lakh',\n",
       "       '₹6.41 Lakh', '₹8.13 Lakh', '₹12.99 Lakh', '₹7.64 Lakh',\n",
       "       '₹6.71 Lakh', '₹8.58 Lakh', '₹8.82 Lakh', '₹9.49 Lakh',\n",
       "       '₹11.65 Lakh', '₹16.39 Lakh', '₹16.38 Lakh', '₹2.57 Lakh',\n",
       "       '₹3.99 Lakh', '₹3.08 Lakh', '₹15.81 Lakh', '₹2.64 Lakh',\n",
       "       '₹3.63 Lakh', '₹8.23 Lakh', '₹7.57 Lakh', '₹13.48 Lakh',\n",
       "       '₹11.38 Lakh', '₹4.09 Lakh', '₹5.06 Lakh', '₹10.09 Lakh',\n",
       "       '₹3.80 Lakh', '₹4.66 Lakh', '₹4.47 Lakh', '₹8.06 Lakh',\n",
       "       '₹7.11 Lakh', '₹10.18 Lakh', '₹11.26 Lakh', '₹8.69 Lakh',\n",
       "       '₹4.48 Lakh', '₹9.97 Lakh', '₹5.68 Lakh', '₹5.63 Lakh',\n",
       "       '₹8.04 Lakh', '₹9 Lakh', '₹10.73 Lakh', '₹5.03 Lakh', '₹7.40 Lakh',\n",
       "       '₹2.80 Lakh', '₹19.37 Lakh', '₹5.07 Lakh', '₹10.65 Lakh',\n",
       "       '₹13.43 Lakh', '₹7.48 Lakh', '₹11.03 Lakh', '₹6.86 Lakh',\n",
       "       '₹10.05 Lakh', '₹9.76 Lakh', '₹18.38 Lakh', '₹6.64 Lakh',\n",
       "       '₹2.52 Lakh', '₹10.25 Lakh', '₹16.15 Lakh', '₹7.09 Lakh',\n",
       "       '₹8.80 Lakh', '₹4.15 Lakh', '₹10.14 Lakh', '₹11.19 Lakh',\n",
       "       '₹7.53 Lakh', '₹9.94 Lakh', '₹3.85 Lakh', '₹5.96 Lakh',\n",
       "       '₹3.65 Lakh', '₹5.58 Lakh', '₹3.31 Lakh', '₹6.70 Lakh',\n",
       "       '₹7.68 Lakh', '₹14.91 Lakh', '₹10.84 Lakh', '₹11.30 Lakh',\n",
       "       '₹8.15 Lakh', '₹7.83 Lakh', '₹7.46 Lakh', '₹11.50 Lakh',\n",
       "       '₹13.40 Lakh', '₹6.55 Lakh', '₹9.43 Lakh', '₹3.15 Lakh',\n",
       "       '₹10.02 Lakh', '₹19.39 Lakh', '₹5.18 Lakh', '₹6.31 Lakh',\n",
       "       '₹15.82 Lakh', '₹9.19 Lakh', '₹5.59 Lakh', '₹6.81 Lakh',\n",
       "       '₹4.99 Lakh', '₹4.94 Lakh', '₹15.99 Lakh', '₹12.79 Lakh',\n",
       "       '₹7.89 Lakh', '₹6.27 Lakh', '₹5.79 Lakh', '₹24.99 Lakh',\n",
       "       '₹3.51 Lakh', '₹10.19 Lakh', '₹13.24 Lakh', '₹12.50 Lakh',\n",
       "       '₹2.30 Lakh', '₹7.33 Lakh', '₹11.58 Lakh', '₹18 Lakh',\n",
       "       '₹5.93 Lakh', '₹4.79 Lakh', '₹5.11 Lakh', '₹2.34 Lakh',\n",
       "       '₹9.27 Lakh', '₹9.36 Lakh', '₹5.27 Lakh', '₹3.18 Lakh',\n",
       "       '₹10.01 Lakh', '₹9.91 Lakh', '₹8.51 Lakh', '₹6.63 Lakh',\n",
       "       '₹7.54 Lakh', '₹6.09 Lakh', '₹10.12 Lakh', '₹4.53 Lakh',\n",
       "       '₹16.97 Lakh', '₹14.12 Lakh', '₹4.62 Lakh', '₹18.30 Lakh',\n",
       "       '₹7.77 Lakh', '₹6.79 Lakh', '₹5.48 Lakh', '₹15.13 Lakh',\n",
       "       '₹4.32 Lakh', '₹12.62 Lakh', '₹8.96 Lakh', '₹34.48 Lakh',\n",
       "       '₹5.26 Lakh', '₹4.36 Lakh', '₹6.33 Lakh', '₹12.69 Lakh',\n",
       "       '₹13.57 Lakh', '₹8.12 Lakh', '₹6.30 Lakh', '₹5.94 Lakh',\n",
       "       '₹4.72 Lakh', '₹8.83 Lakh', '₹2.41 Lakh', '₹18.01 Lakh',\n",
       "       '₹8.95 Lakh', '₹3.14 Lakh', '₹6.01 Lakh', '₹9.78 Lakh',\n",
       "       '₹9.26 Lakh', '₹8.40 Lakh', '₹14.56 Lakh', '₹8.38 Lakh',\n",
       "       '₹9.68 Lakh', '₹11.69 Lakh', '₹5.24 Lakh', '₹9.71 Lakh',\n",
       "       '₹2.35 Lakh', '₹8.30 Lakh', '₹5.10 Lakh', '₹3.33 Lakh',\n",
       "       '₹2.43 Lakh', '₹8.29 Lakh', '₹7.03 Lakh', '₹5.89 Lakh',\n",
       "       '₹9.17 Lakh', '₹4.61 Lakh', '₹6.10 Lakh', '₹5.74 Lakh',\n",
       "       '₹9.85 Lakh', '₹13.83 Lakh', '₹7.43 Lakh', '₹5.09 Lakh',\n",
       "       '₹5.23 Lakh', '₹9.02 Lakh', '₹3.76 Lakh', '₹5.49 Lakh',\n",
       "       '₹7.05 Lakh', '₹7.08 Lakh', '₹18.89 Lakh', '₹8.90 Lakh',\n",
       "       '₹14.36 Lakh', '₹8.16 Lakh', '₹8.45 Lakh', '₹2.49 Lakh',\n",
       "       '₹14.62 Lakh', '₹9.75 Lakh', '₹14.24 Lakh', '₹13.02 Lakh',\n",
       "       '₹9.88 Lakh', '₹4.25 Lakh', '₹6.17 Lakh', '₹15.57 Lakh',\n",
       "       '₹8.73 Lakh', '₹9.06 Lakh', '₹8.89 Lakh', '₹16.12 Lakh',\n",
       "       '₹15.08 Lakh', '₹14.53 Lakh', '₹13.38 Lakh', '₹2.39 Lakh',\n",
       "       '₹6.60 Lakh', '₹8.76 Lakh', '₹2.68 Lakh', '₹4.24 Lakh',\n",
       "       '₹17.26 Lakh', '₹3.90 Lakh', '₹13.12 Lakh', '₹1.87 Lakh',\n",
       "       '₹6.52 Lakh', '₹5.46 Lakh', '₹6.23 Lakh', '₹3.46 Lakh',\n",
       "       '₹3.11 Lakh', '₹4.83 Lakh', '₹2.14 Lakh', '₹14.82 Lakh',\n",
       "       '₹7.10 Lakh', '₹8.98 Lakh', '₹6.58 Lakh', '₹6.91 Lakh',\n",
       "       '₹15.61 Lakh', '₹3.93 Lakh', '₹6.34 Lakh', '₹9.29 Lakh',\n",
       "       '₹6.69 Lakh', '₹7.14 Lakh', '₹6.49 Lakh', '₹13.39 Lakh',\n",
       "       '₹5.65 Lakh', '₹8.49 Lakh', '₹10.15 Lakh', '₹7.24 Lakh',\n",
       "       '₹16.08 Lakh', '₹21.20 Lakh', '₹13.98 Lakh', '₹6.12 Lakh',\n",
       "       '₹12.13 Lakh', '₹11.17 Lakh', '₹8.67 Lakh', '₹6.47 Lakh',\n",
       "       '₹8.21 Lakh', '₹8.24 Lakh', '₹10.81 Lakh', '₹7.50 Lakh',\n",
       "       '₹6.83 Lakh', '₹8.53 Lakh', '₹11.75 Lakh', '₹10.82 Lakh',\n",
       "       '₹9.24 Lakh', '₹10.92 Lakh', '₹11.05 Lakh', '₹9.01 Lakh',\n",
       "       '₹6.51 Lakh', '₹4.01 Lakh', '₹7.99 Lakh', '₹7.76 Lakh',\n",
       "       '₹7.60 Lakh', '₹10.11 Lakh', '₹15.09 Lakh', '₹3.36 Lakh',\n",
       "       '₹8.05 Lakh', '₹3.86 Lakh', '₹3.20 Lakh', '₹9.50 Lakh',\n",
       "       '₹15.52 Lakh', '₹5.12 Lakh', '₹14.58 Lakh', '₹6.82 Lakh',\n",
       "       '₹9.13 Lakh', '₹10.45 Lakh', '₹12.16 Lakh', '₹4.12 Lakh',\n",
       "       '₹4.75 Lakh', '₹2.17 Lakh', '₹4.13 Lakh', '₹7.61 Lakh',\n",
       "       '₹4.37 Lakh', '₹4.50 Lakh', '₹9.81 Lakh', '₹10.50 Lakh',\n",
       "       '₹23.60 Lakh', '₹21.51 Lakh', '₹3.19 Lakh', '₹3.06 Lakh',\n",
       "       '₹2.45 Lakh', '₹5.05 Lakh', '₹4.21 Lakh', '₹3.70 Lakh',\n",
       "       '₹2.76 Lakh', '₹9.47 Lakh', '₹9.95 Lakh', '₹3.54 Lakh',\n",
       "       '₹8.03 Lakh', '₹3.34 Lakh', '₹13.76 Lakh', '₹6.97 Lakh',\n",
       "       '₹12.29 Lakh', '₹10.58 Lakh', '₹10.99 Lakh', '₹16.99 Lakh',\n",
       "       '₹19.90 Lakh', '₹4.91 Lakh', '₹19.28 Lakh', '₹4.29 Lakh',\n",
       "       '₹11.76 Lakh', '₹7.62 Lakh', '₹4.44 Lakh', '₹3.21 Lakh',\n",
       "       '₹16.67 Lakh', '₹4.68 Lakh', '₹11.66 Lakh', '₹16.71 Lakh',\n",
       "       '₹17.49 Lakh', '₹19.99 Lakh', '₹10 Lakh', '₹10.75 Lakh',\n",
       "       '₹8.70 Lakh', '₹6.88 Lakh', '₹14.28 Lakh', '₹9.40 Lakh',\n",
       "       '₹3.01 Lakh', '₹14.96 Lakh', '₹7.75 Lakh', '₹7.96 Lakh', '₹3 Lakh',\n",
       "       '₹8.08 Lakh', '₹17.85 Lakh', '₹11.14 Lakh', '₹5.88 Lakh',\n",
       "       '₹13.10 Lakh', '₹4.35 Lakh', '₹8.11 Lakh', '₹4.27 Lakh',\n",
       "       '₹9.55 Lakh', '₹10.56 Lakh', '₹18.96 Lakh', '₹15.62 Lakh',\n",
       "       '₹16.73 Lakh', '₹9.84 Lakh', '₹9.42 Lakh', '₹4.46 Lakh',\n",
       "       '₹13.31 Lakh', '₹9.57 Lakh', '₹11.46 Lakh', '₹9.56 Lakh',\n",
       "       '₹8.09 Lakh', '₹3.25 Lakh', '₹10.08 Lakh', '₹7.38 Lakh',\n",
       "       '₹17.42 Lakh', '₹11.36 Lakh', '₹8.62 Lakh', '₹14.90 Lakh',\n",
       "       '₹10.13 Lakh', '₹8.25 Lakh', '₹7.86 Lakh', '₹5.95 Lakh',\n",
       "       '₹10.38 Lakh', '₹17.62 Lakh', '₹11.34 Lakh', '₹13.05 Lakh',\n",
       "       '₹8.66 Lakh', '₹18.12 Lakh', '₹3.10 Lakh', '₹20.06 Lakh',\n",
       "       '₹18.29 Lakh', '₹11.09 Lakh', '₹7.17 Lakh', '₹15.54 Lakh',\n",
       "       '₹19.67 Lakh', '₹8.48 Lakh', '₹16.85 Lakh', '₹8.18 Lakh',\n",
       "       '₹18.98 Lakh', '₹7.92 Lakh', '₹9.15 Lakh', '₹14.74 Lakh',\n",
       "       '₹6.56 Lakh', '₹10.35 Lakh', '₹11.92 Lakh', '₹13.61 Lakh',\n",
       "       '₹10.79 Lakh', '₹11.10 Lakh', '₹21.80 Lakh', '₹16.72 Lakh',\n",
       "       '₹16.93 Lakh', '₹11.01 Lakh', '₹7.12 Lakh', '₹15.60 Lakh',\n",
       "       '₹6.28 Lakh', '₹27.33 Lakh', '₹17.54 Lakh', '₹9.25 Lakh',\n",
       "       '₹14.64 Lakh', '₹21.68 Lakh', '₹9.21 Lakh', '₹7.02 Lakh',\n",
       "       '₹11.35 Lakh', '₹6.94 Lakh', '₹7.13 Lakh', '₹14.48 Lakh',\n",
       "       '₹10.47 Lakh', '₹10.30 Lakh', '₹12.57 Lakh', '₹18.94 Lakh',\n",
       "       '₹18.48 Lakh', '₹12.48 Lakh', '₹19.84 Lakh', '₹14.97 Lakh',\n",
       "       '₹5.70 Lakh', '₹8.47 Lakh', '₹2.73 Lakh', '₹12.90 Lakh',\n",
       "       '₹2.19 Lakh', '₹3.32 Lakh', '₹16.69 Lakh', '₹5.42 Lakh',\n",
       "       '₹18.10 Lakh', '₹7.69 Lakh', '₹3.49 Lakh', '₹4.92 Lakh',\n",
       "       '₹7.84 Lakh', '₹9.22 Lakh', '₹11.72 Lakh', '₹5.15 Lakh',\n",
       "       '₹3.37 Lakh', '₹5.73 Lakh', '₹8.54 Lakh', '₹18.16 Lakh',\n",
       "       '₹4.49 Lakh', '₹17.50 Lakh', '₹6.42 Lakh', '₹2.65 Lakh',\n",
       "       '₹9.46 Lakh', '₹5.99 Lakh', '₹11.39 Lakh', '₹9.20 Lakh',\n",
       "       '₹9.72 Lakh', '₹2.44 Lakh', '₹6.20 Lakh', '₹8.88 Lakh',\n",
       "       '₹3.82 Lakh', '₹8.64 Lakh', '₹15.77 Lakh', '₹2.82 Lakh',\n",
       "       '₹15.70 Lakh', '₹22.75 Lakh', '₹7.73 Lakh', '₹12.94 Lakh',\n",
       "       '₹5.44 Lakh', '₹5.08 Lakh', '₹10.06 Lakh', '₹3.97 Lakh',\n",
       "       '₹2.99 Lakh', '₹4.80 Lakh', '₹10.89 Lakh', '₹3.91 Lakh',\n",
       "       '₹3.39 Lakh', '₹7.19 Lakh', '₹6.78 Lakh', '₹9.59 Lakh',\n",
       "       '₹22.01 Lakh', '₹9.53 Lakh', '₹8.87 Lakh', '₹6.67 Lakh',\n",
       "       '₹4.63 Lakh', '₹5.35 Lakh', '₹9.80 Lakh', '₹4.40 Lakh',\n",
       "       '₹7.56 Lakh', '₹28.29 Lakh', '₹6.75 Lakh', '₹10.64 Lakh',\n",
       "       '₹2.75 Lakh', '₹7.91 Lakh', '₹3.40 Lakh', '₹2.84 Lakh',\n",
       "       '₹10.59 Lakh', '₹1.78 Lakh', '₹5.98 Lakh', '₹4.82 Lakh',\n",
       "       '₹8.68 Lakh', '₹2.48 Lakh', '₹10.46 Lakh', '₹3.53 Lakh',\n",
       "       '₹8.32 Lakh', '₹4.51 Lakh', '₹9.99 Lakh', '₹9.92 Lakh',\n",
       "       '₹4.89 Lakh', '₹8.26 Lakh', '₹2.69 Lakh', '₹4.73 Lakh',\n",
       "       '₹9.03 Lakh', '₹5.29 Lakh', '₹9.30 Lakh', '₹7.63 Lakh',\n",
       "       '₹7.66 Lakh', '₹4.39 Lakh', '₹3.35 Lakh', '₹6.19 Lakh',\n",
       "       '₹12.95 Lakh', '₹3.30 Lakh', '₹5.32 Lakh', '₹3.09 Lakh',\n",
       "       '₹8.72 Lakh', '₹11.12 Lakh', '₹4.52 Lakh', '₹3.13 Lakh',\n",
       "       '₹5.25 Lakh', '₹6.25 Lakh', '₹6.39 Lakh', '₹5.57 Lakh',\n",
       "       '₹4.88 Lakh', '₹14.37 Lakh', '₹14.33 Lakh', '₹17.07 Lakh',\n",
       "       '₹18.03 Lakh', '₹9.44 Lakh', '₹8.91 Lakh', '₹6.29 Lakh',\n",
       "       '₹3.71 Lakh', '₹7.35 Lakh', '₹6.15 Lakh', '₹15.80 Lakh',\n",
       "       '₹3.73 Lakh', '₹4.74 Lakh', '₹4.58 Lakh', '₹11.63 Lakh',\n",
       "       '₹15.89 Lakh', '₹1.48 Lakh', '₹18.72 Lakh', '₹14.44 Lakh',\n",
       "       '₹5.92 Lakh', '₹16.92 Lakh', '₹7.82 Lakh', '₹3.58 Lakh',\n",
       "       '₹2.08 Lakh', '₹2.54 Lakh', '₹7.72 Lakh', '₹11.27 Lakh',\n",
       "       '₹1.82 Lakh', '₹4.08 Lakh', '₹6.50 Lakh', '₹2.03 Lakh',\n",
       "       '₹11.32 Lakh', '₹11.57 Lakh', '₹3.79 Lakh', '₹3.56 Lakh',\n",
       "       '₹10.29 Lakh', '₹8.42 Lakh', '₹9.79 Lakh', '₹2.25 Lakh',\n",
       "       '₹7.97 Lakh', '₹13.47 Lakh', '₹13.86 Lakh', '₹4.19 Lakh',\n",
       "       '₹5.14 Lakh', '₹14.29 Lakh', '₹3.78 Lakh', '₹3.61 Lakh',\n",
       "       '₹1.37 Lakh', '₹5.28 Lakh', '₹9.09 Lakh', '₹3.62 Lakh',\n",
       "       '₹11.28 Lakh', '₹3.03 Lakh', '₹5.86 Lakh', '₹9.69 Lakh',\n",
       "       '₹2.04 Lakh', '₹8.34 Lakh'], dtype=object)"
      ]
     },
     "execution_count": 40,
     "metadata": {},
     "output_type": "execute_result"
    }
   ],
   "source": [
    "df.price.unique()"
   ]
  },
  {
   "cell_type": "code",
   "execution_count": 41,
   "id": "62073b3e",
   "metadata": {},
   "outputs": [],
   "source": [
    "def price(x):\n",
    "    x = x[1:].split()[0]\n",
    "    return float(x)"
   ]
  },
  {
   "cell_type": "code",
   "execution_count": 42,
   "id": "d4a4db8b",
   "metadata": {},
   "outputs": [],
   "source": [
    "# def price(x):\n",
    "#     x = re.sub(\"[^0-9.]\",\"\", x)\n",
    "#     return float(x)"
   ]
  },
  {
   "cell_type": "code",
   "execution_count": 43,
   "id": "d17cad4f",
   "metadata": {},
   "outputs": [],
   "source": [
    "df['price'] = df['price'].apply(lambda x: price(x))"
   ]
  },
  {
   "cell_type": "code",
   "execution_count": 44,
   "id": "374594ad",
   "metadata": {},
   "outputs": [
    {
     "data": {
      "text/html": [
       "<div>\n",
       "<style scoped>\n",
       "    .dataframe tbody tr th:only-of-type {\n",
       "        vertical-align: middle;\n",
       "    }\n",
       "\n",
       "    .dataframe tbody tr th {\n",
       "        vertical-align: top;\n",
       "    }\n",
       "\n",
       "    .dataframe thead th {\n",
       "        text-align: right;\n",
       "    }\n",
       "</style>\n",
       "<table border=\"1\" class=\"dataframe\">\n",
       "  <thead>\n",
       "    <tr style=\"text-align: right;\">\n",
       "      <th></th>\n",
       "      <th>brand</th>\n",
       "      <th>km_driven_(in_thousands)</th>\n",
       "      <th>fuel_type</th>\n",
       "      <th>transmission</th>\n",
       "      <th>all_spec_1</th>\n",
       "      <th>price</th>\n",
       "      <th>model</th>\n",
       "      <th>manufacturer</th>\n",
       "    </tr>\n",
       "  </thead>\n",
       "  <tbody>\n",
       "    <tr>\n",
       "      <th>0</th>\n",
       "      <td>Hyundai Elite i20 Asta 1.2 (O)</td>\n",
       "      <td>34</td>\n",
       "      <td>Petrol</td>\n",
       "      <td>Manual</td>\n",
       "      <td>Mileage (ARAI)\\n19.8 kmpl\\nGround clearance\\n1...</td>\n",
       "      <td>6.65</td>\n",
       "      <td>2018</td>\n",
       "      <td>Hyundai</td>\n",
       "    </tr>\n",
       "    <tr>\n",
       "      <th>1</th>\n",
       "      <td>Hyundai Creta SX IVT Petrol</td>\n",
       "      <td>19</td>\n",
       "      <td>Petrol</td>\n",
       "      <td>Automatic</td>\n",
       "      <td>Ground clearance\\n190 mm\\nBoot space\\n433 litr...</td>\n",
       "      <td>15.24</td>\n",
       "      <td>2021</td>\n",
       "      <td>Hyundai</td>\n",
       "    </tr>\n",
       "  </tbody>\n",
       "</table>\n",
       "</div>"
      ],
      "text/plain": [
       "                            brand  km_driven_(in_thousands) fuel_type  \\\n",
       "0  Hyundai Elite i20 Asta 1.2 (O)                        34    Petrol   \n",
       "1     Hyundai Creta SX IVT Petrol                        19    Petrol   \n",
       "\n",
       "  transmission                                         all_spec_1  price  \\\n",
       "0       Manual  Mileage (ARAI)\\n19.8 kmpl\\nGround clearance\\n1...   6.65   \n",
       "1    Automatic  Ground clearance\\n190 mm\\nBoot space\\n433 litr...  15.24   \n",
       "\n",
       "   model manufacturer  \n",
       "0   2018      Hyundai  \n",
       "1   2021      Hyundai  "
      ]
     },
     "execution_count": 44,
     "metadata": {},
     "output_type": "execute_result"
    }
   ],
   "source": [
    "df.head(2)"
   ]
  },
  {
   "cell_type": "code",
   "execution_count": 45,
   "id": "7cfcee56",
   "metadata": {},
   "outputs": [
    {
     "data": {
      "text/plain": [
       "brand                        object\n",
       "km_driven_(in_thousands)      int64\n",
       "fuel_type                    object\n",
       "transmission                 object\n",
       "all_spec_1                   object\n",
       "price                       float64\n",
       "model                         int64\n",
       "manufacturer                 object\n",
       "dtype: object"
      ]
     },
     "execution_count": 45,
     "metadata": {},
     "output_type": "execute_result"
    }
   ],
   "source": [
    "df.dtypes"
   ]
  },
  {
   "cell_type": "markdown",
   "id": "0e4ecad5",
   "metadata": {},
   "source": [
    "# Finally, working on specifications column"
   ]
  },
  {
   "cell_type": "code",
   "execution_count": 46,
   "id": "88af668b",
   "metadata": {},
   "outputs": [],
   "source": [
    "df.rename(columns={'all_spec_1': 'specifications'}, inplace=True)"
   ]
  },
  {
   "cell_type": "code",
   "execution_count": 47,
   "id": "069b4211",
   "metadata": {},
   "outputs": [
    {
     "data": {
      "text/plain": [
       "'Mileage (ARAI)\\n19.8 kmpl\\nGround clearance\\n170 mm\\nBoot space\\n285 litres\\nSeating capacity\\n5 units\\nFuel tank capacity\\n45 litres\\nMax power\\n82 bhp\\nVIEW ALL SPECIFICATIONS'"
      ]
     },
     "execution_count": 47,
     "metadata": {},
     "output_type": "execute_result"
    }
   ],
   "source": [
    "a = df.iloc[0,4]\n",
    "a"
   ]
  },
  {
   "cell_type": "code",
   "execution_count": 48,
   "id": "1ee9ccfe",
   "metadata": {},
   "outputs": [],
   "source": [
    "b = 'Mileage (ARAI)\\n17 kmpl\\nGround clearance\\n205 mm\\nSeating capacity\\n5 units\\nFuel tank capacity\\n50 litres\\nMax power\\n138 bhp\\nVIEW ALL SPECIFICATIONS'"
   ]
  },
  {
   "cell_type": "code",
   "execution_count": 49,
   "id": "60b073f2",
   "metadata": {},
   "outputs": [
    {
     "data": {
      "text/plain": [
       "['Mileage (ARAI)',\n",
       " '19.8 kmpl',\n",
       " 'Ground clearance',\n",
       " '170 mm',\n",
       " 'Boot space',\n",
       " '285 litres',\n",
       " 'Seating capacity',\n",
       " '5 units',\n",
       " 'Fuel tank capacity',\n",
       " '45 litres',\n",
       " 'Max power',\n",
       " '82 bhp',\n",
       " 'VIEW ALL SPECIFICATIONS']"
      ]
     },
     "execution_count": 49,
     "metadata": {},
     "output_type": "execute_result"
    }
   ],
   "source": [
    "a.split(\"\\n\")"
   ]
  },
  {
   "cell_type": "code",
   "execution_count": 50,
   "id": "4c07db33",
   "metadata": {},
   "outputs": [],
   "source": [
    "def spec(x):\n",
    "    x = x.split(\"\\n\")\n",
    "    ls = ['Mileage (ARAI)', 'Ground clearance', 'Boot space', 'Seating capacity', 'Fuel tank capacity', 'Max power']\n",
    "    for i in ls:\n",
    "        if i == \"Mileage (ARAI)\":\n",
    "            try:\n",
    "                mileage = x[x.index(i)+1]\n",
    "            except:\n",
    "                mileage = np.nan\n",
    "        elif i == 'Ground clearance':\n",
    "            try:\n",
    "                ground_clearance = x[x.index(i)+1]\n",
    "            except:\n",
    "                ground_clearance = np.nan\n",
    "        elif i == 'Boot space':\n",
    "            try:\n",
    "                boot_space = x[x.index(i)+1]\n",
    "            except:\n",
    "                boot_space = np.nan\n",
    "        elif i == 'Seating capacity':\n",
    "            try:\n",
    "                seating_capacity = x[x.index(i)+1]\n",
    "            except:\n",
    "                seating_capacity = np.nan\n",
    "        elif i == 'Fuel tank capacity':\n",
    "            try:\n",
    "                fuel_tank_capacity = x[x.index(i)+1]\n",
    "            except:\n",
    "                fuel_tank_capacity = np.nan\n",
    "        elif i == 'Max power':\n",
    "            try:\n",
    "                max_power = x[x.index(i)+1]\n",
    "            except:\n",
    "                max_power = np.nan\n",
    "                \n",
    "    return mileage, ground_clearance, boot_space, seating_capacity, fuel_tank_capacity, max_power"
   ]
  },
  {
   "cell_type": "code",
   "execution_count": 51,
   "id": "83d891e6",
   "metadata": {},
   "outputs": [
    {
     "data": {
      "text/plain": [
       "('19.8 kmpl', '170 mm', '285 litres', '5 units', '45 litres', '82 bhp')"
      ]
     },
     "execution_count": 51,
     "metadata": {},
     "output_type": "execute_result"
    }
   ],
   "source": [
    "spec(a)"
   ]
  },
  {
   "cell_type": "code",
   "execution_count": 52,
   "id": "ee9068cc",
   "metadata": {},
   "outputs": [
    {
     "data": {
      "text/plain": [
       "('17 kmpl', '205 mm', nan, '5 units', '50 litres', '138 bhp')"
      ]
     },
     "execution_count": 52,
     "metadata": {},
     "output_type": "execute_result"
    }
   ],
   "source": [
    "spec(b)"
   ]
  },
  {
   "cell_type": "code",
   "execution_count": 53,
   "id": "44433dde",
   "metadata": {},
   "outputs": [],
   "source": [
    "df[['mileage', 'ground_clearance', 'boot_space', 'seating_capacity', 'fuel_tank_capacity', 'max_power']] = df['specifications'].apply(lambda x: pd.Series(spec(x)))"
   ]
  },
  {
   "cell_type": "code",
   "execution_count": 54,
   "id": "77592525",
   "metadata": {},
   "outputs": [
    {
     "data": {
      "text/plain": [
       "brand                         0\n",
       "km_driven_(in_thousands)      0\n",
       "fuel_type                     0\n",
       "transmission                  0\n",
       "specifications                0\n",
       "price                         0\n",
       "model                         0\n",
       "manufacturer                  0\n",
       "mileage                      90\n",
       "ground_clearance            153\n",
       "boot_space                  247\n",
       "seating_capacity             25\n",
       "fuel_tank_capacity           28\n",
       "max_power                   211\n",
       "dtype: int64"
      ]
     },
     "execution_count": 54,
     "metadata": {},
     "output_type": "execute_result"
    }
   ],
   "source": [
    "df.isnull().sum()"
   ]
  },
  {
   "cell_type": "markdown",
   "id": "24133882",
   "metadata": {},
   "source": [
    "**Firstly, these new columns will be cleaned & assigned proper dtype, then imputation will be done (basically let's not drop them)**"
   ]
  },
  {
   "cell_type": "code",
   "execution_count": 55,
   "id": "f70b5435",
   "metadata": {
    "scrolled": true
   },
   "outputs": [
    {
     "data": {
      "text/plain": [
       "(1394, 14)"
      ]
     },
     "execution_count": 55,
     "metadata": {},
     "output_type": "execute_result"
    }
   ],
   "source": [
    "df.shape"
   ]
  },
  {
   "cell_type": "code",
   "execution_count": 56,
   "id": "3eb138a6",
   "metadata": {},
   "outputs": [],
   "source": [
    "df.drop('specifications', axis=1, inplace=True)"
   ]
  },
  {
   "cell_type": "markdown",
   "id": "b8ce130f",
   "metadata": {},
   "source": [
    "# Cleaning/Preparing the specification columns like mileage, boot space, etc"
   ]
  },
  {
   "cell_type": "code",
   "execution_count": 57,
   "id": "fd3aaba4",
   "metadata": {},
   "outputs": [
    {
     "data": {
      "text/html": [
       "<div>\n",
       "<style scoped>\n",
       "    .dataframe tbody tr th:only-of-type {\n",
       "        vertical-align: middle;\n",
       "    }\n",
       "\n",
       "    .dataframe tbody tr th {\n",
       "        vertical-align: top;\n",
       "    }\n",
       "\n",
       "    .dataframe thead th {\n",
       "        text-align: right;\n",
       "    }\n",
       "</style>\n",
       "<table border=\"1\" class=\"dataframe\">\n",
       "  <thead>\n",
       "    <tr style=\"text-align: right;\">\n",
       "      <th></th>\n",
       "      <th>brand</th>\n",
       "      <th>km_driven_(in_thousands)</th>\n",
       "      <th>fuel_type</th>\n",
       "      <th>transmission</th>\n",
       "      <th>price</th>\n",
       "      <th>model</th>\n",
       "      <th>manufacturer</th>\n",
       "      <th>mileage</th>\n",
       "      <th>ground_clearance</th>\n",
       "      <th>boot_space</th>\n",
       "      <th>seating_capacity</th>\n",
       "      <th>fuel_tank_capacity</th>\n",
       "      <th>max_power</th>\n",
       "    </tr>\n",
       "  </thead>\n",
       "  <tbody>\n",
       "    <tr>\n",
       "      <th>0</th>\n",
       "      <td>Hyundai Elite i20 Asta 1.2 (O)</td>\n",
       "      <td>34</td>\n",
       "      <td>Petrol</td>\n",
       "      <td>Manual</td>\n",
       "      <td>6.65</td>\n",
       "      <td>2018</td>\n",
       "      <td>Hyundai</td>\n",
       "      <td>19.8 kmpl</td>\n",
       "      <td>170 mm</td>\n",
       "      <td>285 litres</td>\n",
       "      <td>5 units</td>\n",
       "      <td>45 litres</td>\n",
       "      <td>82 bhp</td>\n",
       "    </tr>\n",
       "    <tr>\n",
       "      <th>1</th>\n",
       "      <td>Hyundai Creta SX IVT Petrol</td>\n",
       "      <td>19</td>\n",
       "      <td>Petrol</td>\n",
       "      <td>Automatic</td>\n",
       "      <td>15.24</td>\n",
       "      <td>2021</td>\n",
       "      <td>Hyundai</td>\n",
       "      <td>NaN</td>\n",
       "      <td>190 mm</td>\n",
       "      <td>433 litres</td>\n",
       "      <td>5 units</td>\n",
       "      <td>50 litres</td>\n",
       "      <td>NaN</td>\n",
       "    </tr>\n",
       "  </tbody>\n",
       "</table>\n",
       "</div>"
      ],
      "text/plain": [
       "                            brand  km_driven_(in_thousands) fuel_type  \\\n",
       "0  Hyundai Elite i20 Asta 1.2 (O)                        34    Petrol   \n",
       "1     Hyundai Creta SX IVT Petrol                        19    Petrol   \n",
       "\n",
       "  transmission  price  model manufacturer    mileage ground_clearance  \\\n",
       "0       Manual   6.65   2018      Hyundai  19.8 kmpl           170 mm   \n",
       "1    Automatic  15.24   2021      Hyundai        NaN           190 mm   \n",
       "\n",
       "   boot_space seating_capacity fuel_tank_capacity max_power  \n",
       "0  285 litres          5 units          45 litres    82 bhp  \n",
       "1  433 litres          5 units          50 litres       NaN  "
      ]
     },
     "execution_count": 57,
     "metadata": {},
     "output_type": "execute_result"
    }
   ],
   "source": [
    "df.head(2)"
   ]
  },
  {
   "cell_type": "code",
   "execution_count": 58,
   "id": "3ae457f4",
   "metadata": {},
   "outputs": [],
   "source": [
    "specifications = ['mileage', 'ground_clearance', 'boot_space', 'seating_capacity', 'fuel_tank_capacity', 'max_power']"
   ]
  },
  {
   "cell_type": "code",
   "execution_count": 59,
   "id": "eba7a7d7",
   "metadata": {},
   "outputs": [],
   "source": [
    "def magnitude(x):\n",
    "    x = x.split()[0]\n",
    "    return x"
   ]
  },
  {
   "cell_type": "code",
   "execution_count": 60,
   "id": "2ea71e94",
   "metadata": {},
   "outputs": [],
   "source": [
    "for i in specifications:\n",
    "    df[i] = df[i].apply(lambda x: magnitude(x) if isinstance(x, str) else x)"
   ]
  },
  {
   "cell_type": "code",
   "execution_count": 61,
   "id": "08a6f542",
   "metadata": {},
   "outputs": [
    {
     "data": {
      "text/html": [
       "<div>\n",
       "<style scoped>\n",
       "    .dataframe tbody tr th:only-of-type {\n",
       "        vertical-align: middle;\n",
       "    }\n",
       "\n",
       "    .dataframe tbody tr th {\n",
       "        vertical-align: top;\n",
       "    }\n",
       "\n",
       "    .dataframe thead th {\n",
       "        text-align: right;\n",
       "    }\n",
       "</style>\n",
       "<table border=\"1\" class=\"dataframe\">\n",
       "  <thead>\n",
       "    <tr style=\"text-align: right;\">\n",
       "      <th></th>\n",
       "      <th>brand</th>\n",
       "      <th>km_driven_(in_thousands)</th>\n",
       "      <th>fuel_type</th>\n",
       "      <th>transmission</th>\n",
       "      <th>price</th>\n",
       "      <th>model</th>\n",
       "      <th>manufacturer</th>\n",
       "      <th>mileage</th>\n",
       "      <th>ground_clearance</th>\n",
       "      <th>boot_space</th>\n",
       "      <th>seating_capacity</th>\n",
       "      <th>fuel_tank_capacity</th>\n",
       "      <th>max_power</th>\n",
       "    </tr>\n",
       "  </thead>\n",
       "  <tbody>\n",
       "    <tr>\n",
       "      <th>0</th>\n",
       "      <td>Hyundai Elite i20 Asta 1.2 (O)</td>\n",
       "      <td>34</td>\n",
       "      <td>Petrol</td>\n",
       "      <td>Manual</td>\n",
       "      <td>6.65</td>\n",
       "      <td>2018</td>\n",
       "      <td>Hyundai</td>\n",
       "      <td>19.8</td>\n",
       "      <td>170</td>\n",
       "      <td>285</td>\n",
       "      <td>5</td>\n",
       "      <td>45</td>\n",
       "      <td>82</td>\n",
       "    </tr>\n",
       "    <tr>\n",
       "      <th>1</th>\n",
       "      <td>Hyundai Creta SX IVT Petrol</td>\n",
       "      <td>19</td>\n",
       "      <td>Petrol</td>\n",
       "      <td>Automatic</td>\n",
       "      <td>15.24</td>\n",
       "      <td>2021</td>\n",
       "      <td>Hyundai</td>\n",
       "      <td>NaN</td>\n",
       "      <td>190</td>\n",
       "      <td>433</td>\n",
       "      <td>5</td>\n",
       "      <td>50</td>\n",
       "      <td>NaN</td>\n",
       "    </tr>\n",
       "  </tbody>\n",
       "</table>\n",
       "</div>"
      ],
      "text/plain": [
       "                            brand  km_driven_(in_thousands) fuel_type  \\\n",
       "0  Hyundai Elite i20 Asta 1.2 (O)                        34    Petrol   \n",
       "1     Hyundai Creta SX IVT Petrol                        19    Petrol   \n",
       "\n",
       "  transmission  price  model manufacturer mileage ground_clearance boot_space  \\\n",
       "0       Manual   6.65   2018      Hyundai    19.8              170        285   \n",
       "1    Automatic  15.24   2021      Hyundai     NaN              190        433   \n",
       "\n",
       "  seating_capacity fuel_tank_capacity max_power  \n",
       "0                5                 45        82  \n",
       "1                5                 50       NaN  "
      ]
     },
     "execution_count": 61,
     "metadata": {},
     "output_type": "execute_result"
    }
   ],
   "source": [
    "df.head(2)"
   ]
  },
  {
   "cell_type": "code",
   "execution_count": 62,
   "id": "d0e38f26",
   "metadata": {},
   "outputs": [],
   "source": [
    "for i in specifications:\n",
    "    df[i] = pd.to_numeric(df[i], errors = 'coerce')"
   ]
  },
  {
   "cell_type": "code",
   "execution_count": 63,
   "id": "b2b9c006",
   "metadata": {},
   "outputs": [
    {
     "name": "stdout",
     "output_type": "stream",
     "text": [
      "<class 'pandas.core.frame.DataFrame'>\n",
      "Int64Index: 1394 entries, 0 to 6479\n",
      "Data columns (total 13 columns):\n",
      " #   Column                    Non-Null Count  Dtype  \n",
      "---  ------                    --------------  -----  \n",
      " 0   brand                     1394 non-null   object \n",
      " 1   km_driven_(in_thousands)  1394 non-null   int64  \n",
      " 2   fuel_type                 1394 non-null   object \n",
      " 3   transmission              1394 non-null   object \n",
      " 4   price                     1394 non-null   float64\n",
      " 5   model                     1394 non-null   int64  \n",
      " 6   manufacturer              1394 non-null   object \n",
      " 7   mileage                   1304 non-null   float64\n",
      " 8   ground_clearance          1240 non-null   float64\n",
      " 9   boot_space                1147 non-null   float64\n",
      " 10  seating_capacity          1369 non-null   float64\n",
      " 11  fuel_tank_capacity        1366 non-null   float64\n",
      " 12  max_power                 1183 non-null   float64\n",
      "dtypes: float64(7), int64(2), object(4)\n",
      "memory usage: 152.5+ KB\n"
     ]
    }
   ],
   "source": [
    "df.info()"
   ]
  },
  {
   "cell_type": "markdown",
   "id": "e202ffdf",
   "metadata": {},
   "source": [
    "## Imputation"
   ]
  },
  {
   "cell_type": "markdown",
   "id": "1c26d8f5",
   "metadata": {},
   "source": [
    "### Now handling the missing values in specifications columns"
   ]
  },
  {
   "cell_type": "code",
   "execution_count": 64,
   "id": "b7982e4d",
   "metadata": {
    "scrolled": true
   },
   "outputs": [
    {
     "name": "stderr",
     "output_type": "stream",
     "text": [
      "C:\\Users\\R\\AppData\\Local\\Temp\\ipykernel_3264\\2243265471.py:4: UserWarning: \n",
      "\n",
      "`distplot` is a deprecated function and will be removed in seaborn v0.14.0.\n",
      "\n",
      "Please adapt your code to use either `displot` (a figure-level function with\n",
      "similar flexibility) or `histplot` (an axes-level function for histograms).\n",
      "\n",
      "For a guide to updating your code to use the new functions, please see\n",
      "https://gist.github.com/mwaskom/de44147ed2974457ad6372750bbe5751\n",
      "\n",
      "  sns.distplot(df[i])\n"
     ]
    },
    {
     "data": {
      "image/png": "[encoded data removed]",
      "text/plain": [
       "<Figure size 300x200 with 1 Axes>"
      ]
     },
     "metadata": {},
     "output_type": "display_data"
    },
    {
     "name": "stderr",
     "output_type": "stream",
     "text": [
      "C:\\Users\\R\\AppData\\Local\\Temp\\ipykernel_3264\\2243265471.py:4: UserWarning: \n",
      "\n",
      "`distplot` is a deprecated function and will be removed in seaborn v0.14.0.\n",
      "\n",
      "Please adapt your code to use either `displot` (a figure-level function with\n",
      "similar flexibility) or `histplot` (an axes-level function for histograms).\n",
      "\n",
      "For a guide to updating your code to use the new functions, please see\n",
      "https://gist.github.com/mwaskom/de44147ed2974457ad6372750bbe5751\n",
      "\n",
      "  sns.distplot(df[i])\n"
     ]
    },
    {
     "data": {
      "image/png": "[encoded data removed]",
      "text/plain": [
       "<Figure size 300x200 with 1 Axes>"
      ]
     },
     "metadata": {},
     "output_type": "display_data"
    },
    {
     "name": "stderr",
     "output_type": "stream",
     "text": [
      "C:\\Users\\R\\AppData\\Local\\Temp\\ipykernel_3264\\2243265471.py:4: UserWarning: \n",
      "\n",
      "`distplot` is a deprecated function and will be removed in seaborn v0.14.0.\n",
      "\n",
      "Please adapt your code to use either `displot` (a figure-level function with\n",
      "similar flexibility) or `histplot` (an axes-level function for histograms).\n",
      "\n",
      "For a guide to updating your code to use the new functions, please see\n",
      "https://gist.github.com/mwaskom/de44147ed2974457ad6372750bbe5751\n",
      "\n",
      "  sns.distplot(df[i])\n"
     ]
    },
    {
     "data": {
      "image/png": "[encoded data removed]",
      "text/plain": [
       "<Figure size 300x200 with 1 Axes>"
      ]
     },
     "metadata": {},
     "output_type": "display_data"
    },
    {
     "name": "stderr",
     "output_type": "stream",
     "text": [
      "C:\\Users\\R\\AppData\\Local\\Temp\\ipykernel_3264\\2243265471.py:4: UserWarning: \n",
      "\n",
      "`distplot` is a deprecated function and will be removed in seaborn v0.14.0.\n",
      "\n",
      "Please adapt your code to use either `displot` (a figure-level function with\n",
      "similar flexibility) or `histplot` (an axes-level function for histograms).\n",
      "\n",
      "For a guide to updating your code to use the new functions, please see\n",
      "https://gist.github.com/mwaskom/de44147ed2974457ad6372750bbe5751\n",
      "\n",
      "  sns.distplot(df[i])\n"
     ]
    },
    {
     "data": {
      "image/png": "[encoded data removed]",
      "text/plain": [
       "<Figure size 300x200 with 1 Axes>"
      ]
     },
     "metadata": {},
     "output_type": "display_data"
    },
    {
     "name": "stderr",
     "output_type": "stream",
     "text": [
      "C:\\Users\\R\\AppData\\Local\\Temp\\ipykernel_3264\\2243265471.py:4: UserWarning: \n",
      "\n",
      "`distplot` is a deprecated function and will be removed in seaborn v0.14.0.\n",
      "\n",
      "Please adapt your code to use either `displot` (a figure-level function with\n",
      "similar flexibility) or `histplot` (an axes-level function for histograms).\n",
      "\n",
      "For a guide to updating your code to use the new functions, please see\n",
      "https://gist.github.com/mwaskom/de44147ed2974457ad6372750bbe5751\n",
      "\n",
      "  sns.distplot(df[i])\n"
     ]
    },
    {
     "data": {
      "image/png": "[encoded data removed]",
      "text/plain": [
       "<Figure size 300x200 with 1 Axes>"
      ]
     },
     "metadata": {},
     "output_type": "display_data"
    },
    {
     "name": "stderr",
     "output_type": "stream",
     "text": [
      "C:\\Users\\R\\AppData\\Local\\Temp\\ipykernel_3264\\2243265471.py:4: UserWarning: \n",
      "\n",
      "`distplot` is a deprecated function and will be removed in seaborn v0.14.0.\n",
      "\n",
      "Please adapt your code to use either `displot` (a figure-level function with\n",
      "similar flexibility) or `histplot` (an axes-level function for histograms).\n",
      "\n",
      "For a guide to updating your code to use the new functions, please see\n",
      "https://gist.github.com/mwaskom/de44147ed2974457ad6372750bbe5751\n",
      "\n",
      "  sns.distplot(df[i])\n"
     ]
    },
    {
     "data": {
      "image/png": "[encoded data removed]",
      "text/plain": [
       "<Figure size 300x200 with 1 Axes>"
      ]
     },
     "metadata": {},
     "output_type": "display_data"
    }
   ],
   "source": [
    "for i in specifications:\n",
    "#     sns.displot(df[i], height=3,aspect=2)\n",
    "    plt.figure(figsize=(3,2))\n",
    "    sns.distplot(df[i])\n",
    "    plt.xlabel(i)\n",
    "    plt.show()"
   ]
  },
  {
   "cell_type": "code",
   "execution_count": 65,
   "id": "0a7bca1f",
   "metadata": {
    "scrolled": true
   },
   "outputs": [],
   "source": [
    "# for i in specifications:\n",
    "# #     sns.displot(df[i], height=3,aspect=2)\n",
    "#     plt.figure(figsize=(3,2))\n",
    "#     df[i].plot(kind='kde')\n",
    "#     plt.xlabel(i)\n",
    "#     plt.show()"
   ]
  },
  {
   "cell_type": "markdown",
   "id": "0c84623e",
   "metadata": {},
   "source": [
    "### Normal Probability Plot (Q-Q Plot)"
   ]
  },
  {
   "cell_type": "code",
   "execution_count": 66,
   "id": "4663f3ef",
   "metadata": {},
   "outputs": [],
   "source": [
    "# import statsmodels.api as sm"
   ]
  },
  {
   "cell_type": "code",
   "execution_count": 67,
   "id": "77d17f5e",
   "metadata": {
    "scrolled": false
   },
   "outputs": [],
   "source": [
    "# for i in specifications:\n",
    "#     plt.figure(figsize=(3,2))\n",
    "#     sm.qqplot(df[i], line='s')\n",
    "#     plt.title(i)\n",
    "#     plt.show()"
   ]
  },
  {
   "cell_type": "code",
   "execution_count": 68,
   "id": "fea1b21c",
   "metadata": {},
   "outputs": [],
   "source": [
    "for i in specifications:\n",
    "    if i == 'seating_capacity':\n",
    "        df[i] = df[i].fillna(df[i].mode()[0])\n",
    "    else:\n",
    "        df[i] = df[i].fillna(df[i].median())"
   ]
  },
  {
   "cell_type": "code",
   "execution_count": 69,
   "id": "8566d48d",
   "metadata": {},
   "outputs": [
    {
     "data": {
      "text/plain": [
       "brand                       0\n",
       "km_driven_(in_thousands)    0\n",
       "fuel_type                   0\n",
       "transmission                0\n",
       "price                       0\n",
       "model                       0\n",
       "manufacturer                0\n",
       "mileage                     0\n",
       "ground_clearance            0\n",
       "boot_space                  0\n",
       "seating_capacity            0\n",
       "fuel_tank_capacity          0\n",
       "max_power                   0\n",
       "dtype: int64"
      ]
     },
     "execution_count": 69,
     "metadata": {},
     "output_type": "execute_result"
    }
   ],
   "source": [
    "df.isnull().sum()"
   ]
  },
  {
   "cell_type": "code",
   "execution_count": 70,
   "id": "14a93f0f",
   "metadata": {},
   "outputs": [
    {
     "data": {
      "text/html": [
       "<div>\n",
       "<style scoped>\n",
       "    .dataframe tbody tr th:only-of-type {\n",
       "        vertical-align: middle;\n",
       "    }\n",
       "\n",
       "    .dataframe tbody tr th {\n",
       "        vertical-align: top;\n",
       "    }\n",
       "\n",
       "    .dataframe thead th {\n",
       "        text-align: right;\n",
       "    }\n",
       "</style>\n",
       "<table border=\"1\" class=\"dataframe\">\n",
       "  <thead>\n",
       "    <tr style=\"text-align: right;\">\n",
       "      <th></th>\n",
       "      <th>brand</th>\n",
       "      <th>km_driven_(in_thousands)</th>\n",
       "      <th>fuel_type</th>\n",
       "      <th>transmission</th>\n",
       "      <th>price</th>\n",
       "      <th>model</th>\n",
       "      <th>manufacturer</th>\n",
       "      <th>mileage</th>\n",
       "      <th>ground_clearance</th>\n",
       "      <th>boot_space</th>\n",
       "      <th>seating_capacity</th>\n",
       "      <th>fuel_tank_capacity</th>\n",
       "      <th>max_power</th>\n",
       "    </tr>\n",
       "  </thead>\n",
       "  <tbody>\n",
       "    <tr>\n",
       "      <th>0</th>\n",
       "      <td>Hyundai Elite i20 Asta 1.2 (O)</td>\n",
       "      <td>34</td>\n",
       "      <td>Petrol</td>\n",
       "      <td>Manual</td>\n",
       "      <td>6.65</td>\n",
       "      <td>2018</td>\n",
       "      <td>Hyundai</td>\n",
       "      <td>19.800</td>\n",
       "      <td>170.0</td>\n",
       "      <td>285.0</td>\n",
       "      <td>5.0</td>\n",
       "      <td>45.0</td>\n",
       "      <td>82.00</td>\n",
       "    </tr>\n",
       "    <tr>\n",
       "      <th>1</th>\n",
       "      <td>Hyundai Creta SX IVT Petrol</td>\n",
       "      <td>19</td>\n",
       "      <td>Petrol</td>\n",
       "      <td>Automatic</td>\n",
       "      <td>15.24</td>\n",
       "      <td>2021</td>\n",
       "      <td>Hyundai</td>\n",
       "      <td>19.365</td>\n",
       "      <td>190.0</td>\n",
       "      <td>433.0</td>\n",
       "      <td>5.0</td>\n",
       "      <td>50.0</td>\n",
       "      <td>88.51</td>\n",
       "    </tr>\n",
       "    <tr>\n",
       "      <th>2</th>\n",
       "      <td>Hyundai Creta 1.6 SX</td>\n",
       "      <td>51</td>\n",
       "      <td>Diesel</td>\n",
       "      <td>Manual</td>\n",
       "      <td>11.88</td>\n",
       "      <td>2019</td>\n",
       "      <td>Hyundai</td>\n",
       "      <td>19.365</td>\n",
       "      <td>170.0</td>\n",
       "      <td>400.0</td>\n",
       "      <td>5.0</td>\n",
       "      <td>55.0</td>\n",
       "      <td>126.00</td>\n",
       "    </tr>\n",
       "    <tr>\n",
       "      <th>3</th>\n",
       "      <td>Hyundai Grand i10 Sportz 1.2 Kappa VTVT</td>\n",
       "      <td>44</td>\n",
       "      <td>Petrol</td>\n",
       "      <td>Manual</td>\n",
       "      <td>4.06</td>\n",
       "      <td>2015</td>\n",
       "      <td>Hyundai</td>\n",
       "      <td>18.900</td>\n",
       "      <td>165.0</td>\n",
       "      <td>350.0</td>\n",
       "      <td>5.0</td>\n",
       "      <td>43.0</td>\n",
       "      <td>81.00</td>\n",
       "    </tr>\n",
       "    <tr>\n",
       "      <th>4</th>\n",
       "      <td>Renault Kwid 1.0 RXL</td>\n",
       "      <td>12</td>\n",
       "      <td>Petrol</td>\n",
       "      <td>Manual</td>\n",
       "      <td>3.75</td>\n",
       "      <td>2021</td>\n",
       "      <td>Renault</td>\n",
       "      <td>21.700</td>\n",
       "      <td>184.0</td>\n",
       "      <td>279.0</td>\n",
       "      <td>5.0</td>\n",
       "      <td>28.0</td>\n",
       "      <td>67.00</td>\n",
       "    </tr>\n",
       "    <tr>\n",
       "      <th>...</th>\n",
       "      <td>...</td>\n",
       "      <td>...</td>\n",
       "      <td>...</td>\n",
       "      <td>...</td>\n",
       "      <td>...</td>\n",
       "      <td>...</td>\n",
       "      <td>...</td>\n",
       "      <td>...</td>\n",
       "      <td>...</td>\n",
       "      <td>...</td>\n",
       "      <td>...</td>\n",
       "      <td>...</td>\n",
       "      <td>...</td>\n",
       "    </tr>\n",
       "    <tr>\n",
       "      <th>6475</th>\n",
       "      <td>Maruti Suzuki Alto K10 LXI</td>\n",
       "      <td>60</td>\n",
       "      <td>Petrol</td>\n",
       "      <td>Manual</td>\n",
       "      <td>2.04</td>\n",
       "      <td>2012</td>\n",
       "      <td>Maruti Suzuki</td>\n",
       "      <td>20.920</td>\n",
       "      <td>160.0</td>\n",
       "      <td>350.0</td>\n",
       "      <td>5.0</td>\n",
       "      <td>35.0</td>\n",
       "      <td>67.10</td>\n",
       "    </tr>\n",
       "    <tr>\n",
       "      <th>6476</th>\n",
       "      <td>Renault Duster RXS Sandstorm edition 110PS</td>\n",
       "      <td>70</td>\n",
       "      <td>Diesel</td>\n",
       "      <td>Manual</td>\n",
       "      <td>8.49</td>\n",
       "      <td>2017</td>\n",
       "      <td>Renault</td>\n",
       "      <td>19.365</td>\n",
       "      <td>170.0</td>\n",
       "      <td>350.0</td>\n",
       "      <td>5.0</td>\n",
       "      <td>43.0</td>\n",
       "      <td>88.51</td>\n",
       "    </tr>\n",
       "    <tr>\n",
       "      <th>6477</th>\n",
       "      <td>Maruti Suzuki Ciaz Delta Petrol</td>\n",
       "      <td>18</td>\n",
       "      <td>Petrol</td>\n",
       "      <td>Manual</td>\n",
       "      <td>8.34</td>\n",
       "      <td>2020</td>\n",
       "      <td>Maruti Suzuki</td>\n",
       "      <td>20.650</td>\n",
       "      <td>170.0</td>\n",
       "      <td>510.0</td>\n",
       "      <td>5.0</td>\n",
       "      <td>43.0</td>\n",
       "      <td>103.25</td>\n",
       "    </tr>\n",
       "    <tr>\n",
       "      <th>6478</th>\n",
       "      <td>Maruti Suzuki Wagon R 1.0 LXI</td>\n",
       "      <td>40</td>\n",
       "      <td>Petrol</td>\n",
       "      <td>Manual</td>\n",
       "      <td>3.40</td>\n",
       "      <td>2013</td>\n",
       "      <td>Maruti Suzuki</td>\n",
       "      <td>18.900</td>\n",
       "      <td>165.0</td>\n",
       "      <td>180.0</td>\n",
       "      <td>5.0</td>\n",
       "      <td>35.0</td>\n",
       "      <td>67.10</td>\n",
       "    </tr>\n",
       "    <tr>\n",
       "      <th>6479</th>\n",
       "      <td>Hyundai Elite i20 Asta 1.4 CRDI Dual Tone</td>\n",
       "      <td>54</td>\n",
       "      <td>Diesel</td>\n",
       "      <td>Manual</td>\n",
       "      <td>7.53</td>\n",
       "      <td>2018</td>\n",
       "      <td>Hyundai</td>\n",
       "      <td>22.540</td>\n",
       "      <td>170.0</td>\n",
       "      <td>285.0</td>\n",
       "      <td>5.0</td>\n",
       "      <td>45.0</td>\n",
       "      <td>89.00</td>\n",
       "    </tr>\n",
       "  </tbody>\n",
       "</table>\n",
       "<p>1394 rows × 13 columns</p>\n",
       "</div>"
      ],
      "text/plain": [
       "                                           brand  km_driven_(in_thousands)  \\\n",
       "0                 Hyundai Elite i20 Asta 1.2 (O)                        34   \n",
       "1                    Hyundai Creta SX IVT Petrol                        19   \n",
       "2                           Hyundai Creta 1.6 SX                        51   \n",
       "3        Hyundai Grand i10 Sportz 1.2 Kappa VTVT                        44   \n",
       "4                           Renault Kwid 1.0 RXL                        12   \n",
       "...                                          ...                       ...   \n",
       "6475                  Maruti Suzuki Alto K10 LXI                        60   \n",
       "6476  Renault Duster RXS Sandstorm edition 110PS                        70   \n",
       "6477             Maruti Suzuki Ciaz Delta Petrol                        18   \n",
       "6478               Maruti Suzuki Wagon R 1.0 LXI                        40   \n",
       "6479   Hyundai Elite i20 Asta 1.4 CRDI Dual Tone                        54   \n",
       "\n",
       "     fuel_type transmission  price  model   manufacturer  mileage  \\\n",
       "0       Petrol       Manual   6.65   2018        Hyundai   19.800   \n",
       "1       Petrol    Automatic  15.24   2021        Hyundai   19.365   \n",
       "2       Diesel       Manual  11.88   2019        Hyundai   19.365   \n",
       "3       Petrol       Manual   4.06   2015        Hyundai   18.900   \n",
       "4       Petrol       Manual   3.75   2021        Renault   21.700   \n",
       "...        ...          ...    ...    ...            ...      ...   \n",
       "6475    Petrol       Manual   2.04   2012  Maruti Suzuki   20.920   \n",
       "6476    Diesel       Manual   8.49   2017        Renault   19.365   \n",
       "6477    Petrol       Manual   8.34   2020  Maruti Suzuki   20.650   \n",
       "6478    Petrol       Manual   3.40   2013  Maruti Suzuki   18.900   \n",
       "6479    Diesel       Manual   7.53   2018        Hyundai   22.540   \n",
       "\n",
       "      ground_clearance  boot_space  seating_capacity  fuel_tank_capacity  \\\n",
       "0                170.0       285.0               5.0                45.0   \n",
       "1                190.0       433.0               5.0                50.0   \n",
       "2                170.0       400.0               5.0                55.0   \n",
       "3                165.0       350.0               5.0                43.0   \n",
       "4                184.0       279.0               5.0                28.0   \n",
       "...                ...         ...               ...                 ...   \n",
       "6475             160.0       350.0               5.0                35.0   \n",
       "6476             170.0       350.0               5.0                43.0   \n",
       "6477             170.0       510.0               5.0                43.0   \n",
       "6478             165.0       180.0               5.0                35.0   \n",
       "6479             170.0       285.0               5.0                45.0   \n",
       "\n",
       "      max_power  \n",
       "0         82.00  \n",
       "1         88.51  \n",
       "2        126.00  \n",
       "3         81.00  \n",
       "4         67.00  \n",
       "...         ...  \n",
       "6475      67.10  \n",
       "6476      88.51  \n",
       "6477     103.25  \n",
       "6478      67.10  \n",
       "6479      89.00  \n",
       "\n",
       "[1394 rows x 13 columns]"
      ]
     },
     "execution_count": 70,
     "metadata": {},
     "output_type": "execute_result"
    }
   ],
   "source": [
    "df"
   ]
  },
  {
   "cell_type": "code",
   "execution_count": 71,
   "id": "1099be4f",
   "metadata": {},
   "outputs": [],
   "source": [
    "df.rename(columns={'km_driven_(in_thousands)':'km driven (in thousands)','price':'price (in ₹)', 'model':'model (year)',\n",
    "                   'mileage':'mileage (in kmpl)', 'ground_clearance':'ground clearance (in mm)',\n",
    "                   'boot_space':'boot space (in litres)', 'seating_capacity':'seating capacity (units)',\n",
    "                   'fuel_tank_capacity':'fuel tank capacity (in litres)', 'max_power':'max power (in bhp)'}, inplace=True)"
   ]
  },
  {
   "cell_type": "code",
   "execution_count": 72,
   "id": "e0d317cc",
   "metadata": {},
   "outputs": [
    {
     "data": {
      "text/html": [
       "<div>\n",
       "<style scoped>\n",
       "    .dataframe tbody tr th:only-of-type {\n",
       "        vertical-align: middle;\n",
       "    }\n",
       "\n",
       "    .dataframe tbody tr th {\n",
       "        vertical-align: top;\n",
       "    }\n",
       "\n",
       "    .dataframe thead th {\n",
       "        text-align: right;\n",
       "    }\n",
       "</style>\n",
       "<table border=\"1\" class=\"dataframe\">\n",
       "  <thead>\n",
       "    <tr style=\"text-align: right;\">\n",
       "      <th></th>\n",
       "      <th>brand</th>\n",
       "      <th>km driven (in thousands)</th>\n",
       "      <th>fuel_type</th>\n",
       "      <th>transmission</th>\n",
       "      <th>price (in ₹)</th>\n",
       "      <th>model (year)</th>\n",
       "      <th>manufacturer</th>\n",
       "      <th>mileage (in kmpl)</th>\n",
       "      <th>ground clearance (in mm)</th>\n",
       "      <th>boot space (in litres)</th>\n",
       "      <th>seating capacity (units)</th>\n",
       "      <th>fuel tank capacity (in litres)</th>\n",
       "      <th>max power (in bhp)</th>\n",
       "    </tr>\n",
       "  </thead>\n",
       "  <tbody>\n",
       "    <tr>\n",
       "      <th>0</th>\n",
       "      <td>Hyundai Elite i20 Asta 1.2 (O)</td>\n",
       "      <td>34</td>\n",
       "      <td>Petrol</td>\n",
       "      <td>Manual</td>\n",
       "      <td>6.65</td>\n",
       "      <td>2018</td>\n",
       "      <td>Hyundai</td>\n",
       "      <td>19.800</td>\n",
       "      <td>170.0</td>\n",
       "      <td>285.0</td>\n",
       "      <td>5.0</td>\n",
       "      <td>45.0</td>\n",
       "      <td>82.00</td>\n",
       "    </tr>\n",
       "    <tr>\n",
       "      <th>1</th>\n",
       "      <td>Hyundai Creta SX IVT Petrol</td>\n",
       "      <td>19</td>\n",
       "      <td>Petrol</td>\n",
       "      <td>Automatic</td>\n",
       "      <td>15.24</td>\n",
       "      <td>2021</td>\n",
       "      <td>Hyundai</td>\n",
       "      <td>19.365</td>\n",
       "      <td>190.0</td>\n",
       "      <td>433.0</td>\n",
       "      <td>5.0</td>\n",
       "      <td>50.0</td>\n",
       "      <td>88.51</td>\n",
       "    </tr>\n",
       "  </tbody>\n",
       "</table>\n",
       "</div>"
      ],
      "text/plain": [
       "                            brand  km driven (in thousands) fuel_type  \\\n",
       "0  Hyundai Elite i20 Asta 1.2 (O)                        34    Petrol   \n",
       "1     Hyundai Creta SX IVT Petrol                        19    Petrol   \n",
       "\n",
       "  transmission  price (in ₹)  model (year) manufacturer  mileage (in kmpl)  \\\n",
       "0       Manual          6.65          2018      Hyundai             19.800   \n",
       "1    Automatic         15.24          2021      Hyundai             19.365   \n",
       "\n",
       "   ground clearance (in mm)  boot space (in litres)  seating capacity (units)  \\\n",
       "0                     170.0                   285.0                       5.0   \n",
       "1                     190.0                   433.0                       5.0   \n",
       "\n",
       "   fuel tank capacity (in litres)  max power (in bhp)  \n",
       "0                            45.0               82.00  \n",
       "1                            50.0               88.51  "
      ]
     },
     "execution_count": 72,
     "metadata": {},
     "output_type": "execute_result"
    }
   ],
   "source": [
    "df.head(2)"
   ]
  },
  {
   "cell_type": "code",
   "execution_count": 73,
   "id": "6245c94b",
   "metadata": {},
   "outputs": [],
   "source": [
    "df = df[['manufacturer','brand','model (year)','km driven (in thousands)','mileage (in kmpl)','seating capacity (units)', 'fuel_type', 'transmission', \"ground clearance (in mm)\", \"boot space (in litres)\", \"fuel tank capacity (in litres)\", \"max power (in bhp)\", \"price (in ₹)\"]]"
   ]
  },
  {
   "cell_type": "code",
   "execution_count": 74,
   "id": "e45c53b8",
   "metadata": {},
   "outputs": [
    {
     "data": {
      "text/html": [
       "<div>\n",
       "<style scoped>\n",
       "    .dataframe tbody tr th:only-of-type {\n",
       "        vertical-align: middle;\n",
       "    }\n",
       "\n",
       "    .dataframe tbody tr th {\n",
       "        vertical-align: top;\n",
       "    }\n",
       "\n",
       "    .dataframe thead th {\n",
       "        text-align: right;\n",
       "    }\n",
       "</style>\n",
       "<table border=\"1\" class=\"dataframe\">\n",
       "  <thead>\n",
       "    <tr style=\"text-align: right;\">\n",
       "      <th></th>\n",
       "      <th>manufacturer</th>\n",
       "      <th>brand</th>\n",
       "      <th>model (year)</th>\n",
       "      <th>km driven (in thousands)</th>\n",
       "      <th>mileage (in kmpl)</th>\n",
       "      <th>seating capacity (units)</th>\n",
       "      <th>fuel_type</th>\n",
       "      <th>transmission</th>\n",
       "      <th>ground clearance (in mm)</th>\n",
       "      <th>boot space (in litres)</th>\n",
       "      <th>fuel tank capacity (in litres)</th>\n",
       "      <th>max power (in bhp)</th>\n",
       "      <th>price (in ₹)</th>\n",
       "    </tr>\n",
       "  </thead>\n",
       "  <tbody>\n",
       "    <tr>\n",
       "      <th>0</th>\n",
       "      <td>Hyundai</td>\n",
       "      <td>Hyundai Elite i20 Asta 1.2 (O)</td>\n",
       "      <td>2018</td>\n",
       "      <td>34</td>\n",
       "      <td>19.800</td>\n",
       "      <td>5.0</td>\n",
       "      <td>Petrol</td>\n",
       "      <td>Manual</td>\n",
       "      <td>170.0</td>\n",
       "      <td>285.0</td>\n",
       "      <td>45.0</td>\n",
       "      <td>82.00</td>\n",
       "      <td>6.65</td>\n",
       "    </tr>\n",
       "    <tr>\n",
       "      <th>1</th>\n",
       "      <td>Hyundai</td>\n",
       "      <td>Hyundai Creta SX IVT Petrol</td>\n",
       "      <td>2021</td>\n",
       "      <td>19</td>\n",
       "      <td>19.365</td>\n",
       "      <td>5.0</td>\n",
       "      <td>Petrol</td>\n",
       "      <td>Automatic</td>\n",
       "      <td>190.0</td>\n",
       "      <td>433.0</td>\n",
       "      <td>50.0</td>\n",
       "      <td>88.51</td>\n",
       "      <td>15.24</td>\n",
       "    </tr>\n",
       "  </tbody>\n",
       "</table>\n",
       "</div>"
      ],
      "text/plain": [
       "  manufacturer                           brand  model (year)  \\\n",
       "0      Hyundai  Hyundai Elite i20 Asta 1.2 (O)          2018   \n",
       "1      Hyundai     Hyundai Creta SX IVT Petrol          2021   \n",
       "\n",
       "   km driven (in thousands)  mileage (in kmpl)  seating capacity (units)  \\\n",
       "0                        34             19.800                       5.0   \n",
       "1                        19             19.365                       5.0   \n",
       "\n",
       "  fuel_type transmission  ground clearance (in mm)  boot space (in litres)  \\\n",
       "0    Petrol       Manual                     170.0                   285.0   \n",
       "1    Petrol    Automatic                     190.0                   433.0   \n",
       "\n",
       "   fuel tank capacity (in litres)  max power (in bhp)  price (in ₹)  \n",
       "0                            45.0               82.00          6.65  \n",
       "1                            50.0               88.51         15.24  "
      ]
     },
     "execution_count": 74,
     "metadata": {},
     "output_type": "execute_result"
    }
   ],
   "source": [
    "df.head(2)"
   ]
  },
  {
   "cell_type": "code",
   "execution_count": 75,
   "id": "ba4031b4",
   "metadata": {},
   "outputs": [],
   "source": [
    "# df.to_csv('analysis-and-model.csv',index=False)"
   ]
  },
  {
   "cell_type": "markdown",
   "id": "620537c3",
   "metadata": {},
   "source": [
    "This file will be used for analysing and drawing insights using Excel & SQL and finally for building a Linear Regression model for prediction of prices of used cars in India."
   ]
  }
 ],
 "metadata": {
  "kernelspec": {
   "display_name": "Python 3 (ipykernel)",
   "language": "python",
   "name": "python3"
  },
  "language_info": {
   "codemirror_mode": {
    "name": "ipython",
    "version": 3
   },
   "file_extension": ".py",
   "mimetype": "text/x-python",
   "name": "python",
   "nbconvert_exporter": "python",
   "pygments_lexer": "ipython3",
   "version": "3.10.6"
  }
 },
 "nbformat": 4,
 "nbformat_minor": 5
}
