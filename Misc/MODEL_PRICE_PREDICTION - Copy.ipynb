{
 "cells": [
  {
   "cell_type": "code",
   "execution_count": 1,
   "id": "3e24ec99",
   "metadata": {},
   "outputs": [],
   "source": [
    "import pandas as pd\n",
    "import numpy as np\n",
    "import matplotlib.pyplot as plt\n",
    "import seaborn as sns\n",
    "import glob\n",
    "\n",
    "from sklearn import datasets, linear_model, metrics\n",
    "from sklearn.model_selection import train_test_split\n",
    "from sklearn.preprocessing import StandardScaler\n",
    "from sklearn.linear_model import LinearRegression"
   ]
  },
  {
   "cell_type": "code",
   "execution_count": 2,
   "id": "56e49fcd",
   "metadata": {},
   "outputs": [],
   "source": [
    "path = r\"C:\\Users\\R\\Desktop\\MASAI\\PROJECT\\P2_Car price prediction model\\final-csvs\\*.csv\""
   ]
  },
  {
   "cell_type": "code",
   "execution_count": 3,
   "id": "6754c337",
   "metadata": {},
   "outputs": [],
   "source": [
    "csv_files = glob.glob(path)"
   ]
  },
  {
   "cell_type": "code",
   "execution_count": 4,
   "id": "964d7bc8",
   "metadata": {},
   "outputs": [],
   "source": [
    "datasets = []\n",
    "\n",
    "for file in csv_files:\n",
    "    df = pd.read_csv(file, index_col=0)\n",
    "    datasets.append(df)"
   ]
  },
  {
   "cell_type": "code",
   "execution_count": 5,
   "id": "4dd12f1d",
   "metadata": {},
   "outputs": [
    {
     "data": {
      "text/html": [
       "<div>\n",
       "<style scoped>\n",
       "    .dataframe tbody tr th:only-of-type {\n",
       "        vertical-align: middle;\n",
       "    }\n",
       "\n",
       "    .dataframe tbody tr th {\n",
       "        vertical-align: top;\n",
       "    }\n",
       "\n",
       "    .dataframe thead th {\n",
       "        text-align: right;\n",
       "    }\n",
       "</style>\n",
       "<table border=\"1\" class=\"dataframe\">\n",
       "  <thead>\n",
       "    <tr style=\"text-align: right;\">\n",
       "      <th></th>\n",
       "      <th>brand_and_model</th>\n",
       "      <th>km_driven</th>\n",
       "      <th>fuel_type</th>\n",
       "      <th>transmission</th>\n",
       "      <th>all_spec_1</th>\n",
       "      <th>all_spec_2</th>\n",
       "      <th>price</th>\n",
       "    </tr>\n",
       "  </thead>\n",
       "  <tbody>\n",
       "    <tr>\n",
       "      <th>0</th>\n",
       "      <td>2019 Tata Harrier XZ</td>\n",
       "      <td>38K km</td>\n",
       "      <td>· Diesel</td>\n",
       "      <td>· Manual</td>\n",
       "      <td>NaN</td>\n",
       "      <td>Mileage (ARAI)\\n17 kmpl\\nGround clearance\\n205...</td>\n",
       "      <td>₹15.65 Lakh</td>\n",
       "    </tr>\n",
       "    <tr>\n",
       "      <th>1</th>\n",
       "      <td>2019 Maruti Suzuki Baleno Zeta Petrol</td>\n",
       "      <td>25K km</td>\n",
       "      <td>· Petrol</td>\n",
       "      <td>· Manual</td>\n",
       "      <td>NaN</td>\n",
       "      <td>Mileage (ARAI)\\n21.01 kmpl\\nGround clearance\\n...</td>\n",
       "      <td>₹7.85 Lakh</td>\n",
       "    </tr>\n",
       "    <tr>\n",
       "      <th>2</th>\n",
       "      <td>2021 Mahindra XUV 300 W6 AMT Diesel</td>\n",
       "      <td>51K km</td>\n",
       "      <td>· Diesel</td>\n",
       "      <td>· Automatic</td>\n",
       "      <td>NaN</td>\n",
       "      <td>Mileage (ARAI)\\n20 kmpl\\nGround clearance\\n180...</td>\n",
       "      <td>₹11.41 Lakh</td>\n",
       "    </tr>\n",
       "    <tr>\n",
       "      <th>3</th>\n",
       "      <td>2019 Tata Nexon XZA Plus AMT Diesel</td>\n",
       "      <td>54K km</td>\n",
       "      <td>· Diesel</td>\n",
       "      <td>· Automatic</td>\n",
       "      <td>Mileage (ARAI)\\n21.5 kmpl\\nBoot space\\n350 lit...</td>\n",
       "      <td>NaN</td>\n",
       "      <td>₹9.64 Lakh</td>\n",
       "    </tr>\n",
       "    <tr>\n",
       "      <th>4</th>\n",
       "      <td>2019 Ford Freestyle Titanium 1.2</td>\n",
       "      <td>18K km</td>\n",
       "      <td>· Petrol</td>\n",
       "      <td>· Manual</td>\n",
       "      <td>NaN</td>\n",
       "      <td>Mileage (ARAI)\\n18.5 kmpl\\nBoot space\\n257 lit...</td>\n",
       "      <td>₹6.57 Lakh</td>\n",
       "    </tr>\n",
       "    <tr>\n",
       "      <th>...</th>\n",
       "      <td>...</td>\n",
       "      <td>...</td>\n",
       "      <td>...</td>\n",
       "      <td>...</td>\n",
       "      <td>...</td>\n",
       "      <td>...</td>\n",
       "      <td>...</td>\n",
       "    </tr>\n",
       "    <tr>\n",
       "      <th>1936</th>\n",
       "      <td>2021 Hyundai Venue SX 1.0 Turbo iMT</td>\n",
       "      <td>12K km</td>\n",
       "      <td>· Petrol</td>\n",
       "      <td>· Manual</td>\n",
       "      <td>Mileage (ARAI)\\n18 kmpl\\nGround clearance\\n195...</td>\n",
       "      <td>NaN</td>\n",
       "      <td>₹10.23 Lakh</td>\n",
       "    </tr>\n",
       "    <tr>\n",
       "      <th>1937</th>\n",
       "      <td>2021 Skoda Kushaq Ambition 1.0L TSI AT</td>\n",
       "      <td>11K km</td>\n",
       "      <td>· Petrol</td>\n",
       "      <td>· Automatic</td>\n",
       "      <td>NaN</td>\n",
       "      <td>Mileage (ARAI)\\n17.2 kmpl\\nGround clearance\\n1...</td>\n",
       "      <td>₹13.53 Lakh</td>\n",
       "    </tr>\n",
       "    <tr>\n",
       "      <th>1938</th>\n",
       "      <td>2020 Maruti Suzuki S-Presso VXI Opt CNG</td>\n",
       "      <td>81K km</td>\n",
       "      <td>· Petrol+cng</td>\n",
       "      <td>· Manual</td>\n",
       "      <td>NaN</td>\n",
       "      <td>Mileage (ARAI)\\n31.19 kmpl\\nGround clearance\\n...</td>\n",
       "      <td>₹4 Lakh</td>\n",
       "    </tr>\n",
       "    <tr>\n",
       "      <th>1939</th>\n",
       "      <td>2021 Tata Safari XZ Plus</td>\n",
       "      <td>36K km</td>\n",
       "      <td>· Diesel</td>\n",
       "      <td>· Manual</td>\n",
       "      <td>NaN</td>\n",
       "      <td>Mileage (ARAI)\\n16.14 kmpl\\nGround clearance\\n...</td>\n",
       "      <td>₹19.14 Lakh</td>\n",
       "    </tr>\n",
       "    <tr>\n",
       "      <th>1940</th>\n",
       "      <td>2022 Honda City ZX</td>\n",
       "      <td>13K km</td>\n",
       "      <td>· Petrol</td>\n",
       "      <td>· Manual</td>\n",
       "      <td>Mileage (ARAI)\\n18.4 kmpl\\nGround clearance\\n1...</td>\n",
       "      <td>NaN</td>\n",
       "      <td>₹13.49 Lakh</td>\n",
       "    </tr>\n",
       "  </tbody>\n",
       "</table>\n",
       "<p>1941 rows × 7 columns</p>\n",
       "</div>"
      ],
      "text/plain": [
       "                              brand_and_model km_driven      fuel_type  \\\n",
       "0                        2019 Tata Harrier XZ    38K km       · Diesel   \n",
       "1       2019 Maruti Suzuki Baleno Zeta Petrol    25K km       · Petrol   \n",
       "2         2021 Mahindra XUV 300 W6 AMT Diesel    51K km       · Diesel   \n",
       "3         2019 Tata Nexon XZA Plus AMT Diesel    54K km       · Diesel   \n",
       "4            2019 Ford Freestyle Titanium 1.2    18K km       · Petrol   \n",
       "...                                       ...       ...            ...   \n",
       "1936      2021 Hyundai Venue SX 1.0 Turbo iMT    12K km       · Petrol   \n",
       "1937   2021 Skoda Kushaq Ambition 1.0L TSI AT    11K km       · Petrol   \n",
       "1938  2020 Maruti Suzuki S-Presso VXI Opt CNG    81K km   · Petrol+cng   \n",
       "1939                 2021 Tata Safari XZ Plus    36K km       · Diesel   \n",
       "1940                       2022 Honda City ZX    13K km       · Petrol   \n",
       "\n",
       "      transmission                                         all_spec_1  \\\n",
       "0         · Manual                                                NaN   \n",
       "1         · Manual                                                NaN   \n",
       "2      · Automatic                                                NaN   \n",
       "3      · Automatic  Mileage (ARAI)\\n21.5 kmpl\\nBoot space\\n350 lit...   \n",
       "4         · Manual                                                NaN   \n",
       "...            ...                                                ...   \n",
       "1936      · Manual  Mileage (ARAI)\\n18 kmpl\\nGround clearance\\n195...   \n",
       "1937   · Automatic                                                NaN   \n",
       "1938      · Manual                                                NaN   \n",
       "1939      · Manual                                                NaN   \n",
       "1940      · Manual  Mileage (ARAI)\\n18.4 kmpl\\nGround clearance\\n1...   \n",
       "\n",
       "                                             all_spec_2        price  \n",
       "0     Mileage (ARAI)\\n17 kmpl\\nGround clearance\\n205...  ₹15.65 Lakh  \n",
       "1     Mileage (ARAI)\\n21.01 kmpl\\nGround clearance\\n...   ₹7.85 Lakh  \n",
       "2     Mileage (ARAI)\\n20 kmpl\\nGround clearance\\n180...  ₹11.41 Lakh  \n",
       "3                                                   NaN   ₹9.64 Lakh  \n",
       "4     Mileage (ARAI)\\n18.5 kmpl\\nBoot space\\n257 lit...   ₹6.57 Lakh  \n",
       "...                                                 ...          ...  \n",
       "1936                                                NaN  ₹10.23 Lakh  \n",
       "1937  Mileage (ARAI)\\n17.2 kmpl\\nGround clearance\\n1...  ₹13.53 Lakh  \n",
       "1938  Mileage (ARAI)\\n31.19 kmpl\\nGround clearance\\n...      ₹4 Lakh  \n",
       "1939  Mileage (ARAI)\\n16.14 kmpl\\nGround clearance\\n...  ₹19.14 Lakh  \n",
       "1940                                                NaN  ₹13.49 Lakh  \n",
       "\n",
       "[1941 rows x 7 columns]"
      ]
     },
     "execution_count": 5,
     "metadata": {},
     "output_type": "execute_result"
    }
   ],
   "source": [
    "df = pd.concat(datasets, axis=0, ignore_index=True)\n",
    "df"
   ]
  },
  {
   "cell_type": "code",
   "execution_count": 6,
   "id": "6f530e62",
   "metadata": {},
   "outputs": [
    {
     "data": {
      "text/plain": [
       "brand_and_model       0\n",
       "km_driven            12\n",
       "fuel_type             0\n",
       "transmission          0\n",
       "all_spec_1         1042\n",
       "all_spec_2          916\n",
       "price                 0\n",
       "dtype: int64"
      ]
     },
     "execution_count": 6,
     "metadata": {},
     "output_type": "execute_result"
    }
   ],
   "source": [
    "df.isnull().sum()"
   ]
  },
  {
   "cell_type": "markdown",
   "id": "0ef55c3f",
   "metadata": {},
   "source": [
    "# MERGING ALL SPECIFICATIONS IN SINGLE COLUMN"
   ]
  },
  {
   "cell_type": "code",
   "execution_count": 7,
   "id": "99894bd7",
   "metadata": {},
   "outputs": [],
   "source": [
    "df['all_spec_1'] = np.where(df['all_spec_1'].isnull(), df['all_spec_2'], df['all_spec_1'])"
   ]
  },
  {
   "cell_type": "code",
   "execution_count": 8,
   "id": "f5c57c28",
   "metadata": {},
   "outputs": [
    {
     "data": {
      "text/html": [
       "<div>\n",
       "<style scoped>\n",
       "    .dataframe tbody tr th:only-of-type {\n",
       "        vertical-align: middle;\n",
       "    }\n",
       "\n",
       "    .dataframe tbody tr th {\n",
       "        vertical-align: top;\n",
       "    }\n",
       "\n",
       "    .dataframe thead th {\n",
       "        text-align: right;\n",
       "    }\n",
       "</style>\n",
       "<table border=\"1\" class=\"dataframe\">\n",
       "  <thead>\n",
       "    <tr style=\"text-align: right;\">\n",
       "      <th></th>\n",
       "      <th>brand_and_model</th>\n",
       "      <th>km_driven</th>\n",
       "      <th>fuel_type</th>\n",
       "      <th>transmission</th>\n",
       "      <th>all_spec_1</th>\n",
       "      <th>all_spec_2</th>\n",
       "      <th>price</th>\n",
       "    </tr>\n",
       "  </thead>\n",
       "  <tbody>\n",
       "    <tr>\n",
       "      <th>0</th>\n",
       "      <td>2019 Tata Harrier XZ</td>\n",
       "      <td>38K km</td>\n",
       "      <td>· Diesel</td>\n",
       "      <td>· Manual</td>\n",
       "      <td>Mileage (ARAI)\\n17 kmpl\\nGround clearance\\n205...</td>\n",
       "      <td>Mileage (ARAI)\\n17 kmpl\\nGround clearance\\n205...</td>\n",
       "      <td>₹15.65 Lakh</td>\n",
       "    </tr>\n",
       "    <tr>\n",
       "      <th>1</th>\n",
       "      <td>2019 Maruti Suzuki Baleno Zeta Petrol</td>\n",
       "      <td>25K km</td>\n",
       "      <td>· Petrol</td>\n",
       "      <td>· Manual</td>\n",
       "      <td>Mileage (ARAI)\\n21.01 kmpl\\nGround clearance\\n...</td>\n",
       "      <td>Mileage (ARAI)\\n21.01 kmpl\\nGround clearance\\n...</td>\n",
       "      <td>₹7.85 Lakh</td>\n",
       "    </tr>\n",
       "    <tr>\n",
       "      <th>2</th>\n",
       "      <td>2021 Mahindra XUV 300 W6 AMT Diesel</td>\n",
       "      <td>51K km</td>\n",
       "      <td>· Diesel</td>\n",
       "      <td>· Automatic</td>\n",
       "      <td>Mileage (ARAI)\\n20 kmpl\\nGround clearance\\n180...</td>\n",
       "      <td>Mileage (ARAI)\\n20 kmpl\\nGround clearance\\n180...</td>\n",
       "      <td>₹11.41 Lakh</td>\n",
       "    </tr>\n",
       "    <tr>\n",
       "      <th>3</th>\n",
       "      <td>2019 Tata Nexon XZA Plus AMT Diesel</td>\n",
       "      <td>54K km</td>\n",
       "      <td>· Diesel</td>\n",
       "      <td>· Automatic</td>\n",
       "      <td>Mileage (ARAI)\\n21.5 kmpl\\nBoot space\\n350 lit...</td>\n",
       "      <td>NaN</td>\n",
       "      <td>₹9.64 Lakh</td>\n",
       "    </tr>\n",
       "    <tr>\n",
       "      <th>4</th>\n",
       "      <td>2019 Ford Freestyle Titanium 1.2</td>\n",
       "      <td>18K km</td>\n",
       "      <td>· Petrol</td>\n",
       "      <td>· Manual</td>\n",
       "      <td>Mileage (ARAI)\\n18.5 kmpl\\nBoot space\\n257 lit...</td>\n",
       "      <td>Mileage (ARAI)\\n18.5 kmpl\\nBoot space\\n257 lit...</td>\n",
       "      <td>₹6.57 Lakh</td>\n",
       "    </tr>\n",
       "    <tr>\n",
       "      <th>...</th>\n",
       "      <td>...</td>\n",
       "      <td>...</td>\n",
       "      <td>...</td>\n",
       "      <td>...</td>\n",
       "      <td>...</td>\n",
       "      <td>...</td>\n",
       "      <td>...</td>\n",
       "    </tr>\n",
       "    <tr>\n",
       "      <th>1936</th>\n",
       "      <td>2021 Hyundai Venue SX 1.0 Turbo iMT</td>\n",
       "      <td>12K km</td>\n",
       "      <td>· Petrol</td>\n",
       "      <td>· Manual</td>\n",
       "      <td>Mileage (ARAI)\\n18 kmpl\\nGround clearance\\n195...</td>\n",
       "      <td>NaN</td>\n",
       "      <td>₹10.23 Lakh</td>\n",
       "    </tr>\n",
       "    <tr>\n",
       "      <th>1937</th>\n",
       "      <td>2021 Skoda Kushaq Ambition 1.0L TSI AT</td>\n",
       "      <td>11K km</td>\n",
       "      <td>· Petrol</td>\n",
       "      <td>· Automatic</td>\n",
       "      <td>Mileage (ARAI)\\n17.2 kmpl\\nGround clearance\\n1...</td>\n",
       "      <td>Mileage (ARAI)\\n17.2 kmpl\\nGround clearance\\n1...</td>\n",
       "      <td>₹13.53 Lakh</td>\n",
       "    </tr>\n",
       "    <tr>\n",
       "      <th>1938</th>\n",
       "      <td>2020 Maruti Suzuki S-Presso VXI Opt CNG</td>\n",
       "      <td>81K km</td>\n",
       "      <td>· Petrol+cng</td>\n",
       "      <td>· Manual</td>\n",
       "      <td>Mileage (ARAI)\\n31.19 kmpl\\nGround clearance\\n...</td>\n",
       "      <td>Mileage (ARAI)\\n31.19 kmpl\\nGround clearance\\n...</td>\n",
       "      <td>₹4 Lakh</td>\n",
       "    </tr>\n",
       "    <tr>\n",
       "      <th>1939</th>\n",
       "      <td>2021 Tata Safari XZ Plus</td>\n",
       "      <td>36K km</td>\n",
       "      <td>· Diesel</td>\n",
       "      <td>· Manual</td>\n",
       "      <td>Mileage (ARAI)\\n16.14 kmpl\\nGround clearance\\n...</td>\n",
       "      <td>Mileage (ARAI)\\n16.14 kmpl\\nGround clearance\\n...</td>\n",
       "      <td>₹19.14 Lakh</td>\n",
       "    </tr>\n",
       "    <tr>\n",
       "      <th>1940</th>\n",
       "      <td>2022 Honda City ZX</td>\n",
       "      <td>13K km</td>\n",
       "      <td>· Petrol</td>\n",
       "      <td>· Manual</td>\n",
       "      <td>Mileage (ARAI)\\n18.4 kmpl\\nGround clearance\\n1...</td>\n",
       "      <td>NaN</td>\n",
       "      <td>₹13.49 Lakh</td>\n",
       "    </tr>\n",
       "  </tbody>\n",
       "</table>\n",
       "<p>1941 rows × 7 columns</p>\n",
       "</div>"
      ],
      "text/plain": [
       "                              brand_and_model km_driven      fuel_type  \\\n",
       "0                        2019 Tata Harrier XZ    38K km       · Diesel   \n",
       "1       2019 Maruti Suzuki Baleno Zeta Petrol    25K km       · Petrol   \n",
       "2         2021 Mahindra XUV 300 W6 AMT Diesel    51K km       · Diesel   \n",
       "3         2019 Tata Nexon XZA Plus AMT Diesel    54K km       · Diesel   \n",
       "4            2019 Ford Freestyle Titanium 1.2    18K km       · Petrol   \n",
       "...                                       ...       ...            ...   \n",
       "1936      2021 Hyundai Venue SX 1.0 Turbo iMT    12K km       · Petrol   \n",
       "1937   2021 Skoda Kushaq Ambition 1.0L TSI AT    11K km       · Petrol   \n",
       "1938  2020 Maruti Suzuki S-Presso VXI Opt CNG    81K km   · Petrol+cng   \n",
       "1939                 2021 Tata Safari XZ Plus    36K km       · Diesel   \n",
       "1940                       2022 Honda City ZX    13K km       · Petrol   \n",
       "\n",
       "      transmission                                         all_spec_1  \\\n",
       "0         · Manual  Mileage (ARAI)\\n17 kmpl\\nGround clearance\\n205...   \n",
       "1         · Manual  Mileage (ARAI)\\n21.01 kmpl\\nGround clearance\\n...   \n",
       "2      · Automatic  Mileage (ARAI)\\n20 kmpl\\nGround clearance\\n180...   \n",
       "3      · Automatic  Mileage (ARAI)\\n21.5 kmpl\\nBoot space\\n350 lit...   \n",
       "4         · Manual  Mileage (ARAI)\\n18.5 kmpl\\nBoot space\\n257 lit...   \n",
       "...            ...                                                ...   \n",
       "1936      · Manual  Mileage (ARAI)\\n18 kmpl\\nGround clearance\\n195...   \n",
       "1937   · Automatic  Mileage (ARAI)\\n17.2 kmpl\\nGround clearance\\n1...   \n",
       "1938      · Manual  Mileage (ARAI)\\n31.19 kmpl\\nGround clearance\\n...   \n",
       "1939      · Manual  Mileage (ARAI)\\n16.14 kmpl\\nGround clearance\\n...   \n",
       "1940      · Manual  Mileage (ARAI)\\n18.4 kmpl\\nGround clearance\\n1...   \n",
       "\n",
       "                                             all_spec_2        price  \n",
       "0     Mileage (ARAI)\\n17 kmpl\\nGround clearance\\n205...  ₹15.65 Lakh  \n",
       "1     Mileage (ARAI)\\n21.01 kmpl\\nGround clearance\\n...   ₹7.85 Lakh  \n",
       "2     Mileage (ARAI)\\n20 kmpl\\nGround clearance\\n180...  ₹11.41 Lakh  \n",
       "3                                                   NaN   ₹9.64 Lakh  \n",
       "4     Mileage (ARAI)\\n18.5 kmpl\\nBoot space\\n257 lit...   ₹6.57 Lakh  \n",
       "...                                                 ...          ...  \n",
       "1936                                                NaN  ₹10.23 Lakh  \n",
       "1937  Mileage (ARAI)\\n17.2 kmpl\\nGround clearance\\n1...  ₹13.53 Lakh  \n",
       "1938  Mileage (ARAI)\\n31.19 kmpl\\nGround clearance\\n...      ₹4 Lakh  \n",
       "1939  Mileage (ARAI)\\n16.14 kmpl\\nGround clearance\\n...  ₹19.14 Lakh  \n",
       "1940                                                NaN  ₹13.49 Lakh  \n",
       "\n",
       "[1941 rows x 7 columns]"
      ]
     },
     "execution_count": 8,
     "metadata": {},
     "output_type": "execute_result"
    }
   ],
   "source": [
    "df"
   ]
  },
  {
   "cell_type": "code",
   "execution_count": 9,
   "id": "9bee41b2",
   "metadata": {},
   "outputs": [
    {
     "data": {
      "text/plain": [
       "brand_and_model      0\n",
       "km_driven           12\n",
       "fuel_type            0\n",
       "transmission         0\n",
       "all_spec_1          17\n",
       "all_spec_2         916\n",
       "price                0\n",
       "dtype: int64"
      ]
     },
     "execution_count": 9,
     "metadata": {},
     "output_type": "execute_result"
    }
   ],
   "source": [
    "df.isnull().sum()"
   ]
  },
  {
   "cell_type": "code",
   "execution_count": 10,
   "id": "f223e66f",
   "metadata": {},
   "outputs": [],
   "source": [
    "df.drop('all_spec_2', axis= 1, inplace=True)"
   ]
  },
  {
   "cell_type": "code",
   "execution_count": 11,
   "id": "c1578559",
   "metadata": {},
   "outputs": [
    {
     "data": {
      "text/html": [
       "<div>\n",
       "<style scoped>\n",
       "    .dataframe tbody tr th:only-of-type {\n",
       "        vertical-align: middle;\n",
       "    }\n",
       "\n",
       "    .dataframe tbody tr th {\n",
       "        vertical-align: top;\n",
       "    }\n",
       "\n",
       "    .dataframe thead th {\n",
       "        text-align: right;\n",
       "    }\n",
       "</style>\n",
       "<table border=\"1\" class=\"dataframe\">\n",
       "  <thead>\n",
       "    <tr style=\"text-align: right;\">\n",
       "      <th></th>\n",
       "      <th>brand_and_model</th>\n",
       "      <th>km_driven</th>\n",
       "      <th>fuel_type</th>\n",
       "      <th>transmission</th>\n",
       "      <th>all_spec_1</th>\n",
       "      <th>price</th>\n",
       "    </tr>\n",
       "  </thead>\n",
       "  <tbody>\n",
       "    <tr>\n",
       "      <th>0</th>\n",
       "      <td>2019 Tata Harrier XZ</td>\n",
       "      <td>38K km</td>\n",
       "      <td>· Diesel</td>\n",
       "      <td>· Manual</td>\n",
       "      <td>Mileage (ARAI)\\n17 kmpl\\nGround clearance\\n205...</td>\n",
       "      <td>₹15.65 Lakh</td>\n",
       "    </tr>\n",
       "    <tr>\n",
       "      <th>1</th>\n",
       "      <td>2019 Maruti Suzuki Baleno Zeta Petrol</td>\n",
       "      <td>25K km</td>\n",
       "      <td>· Petrol</td>\n",
       "      <td>· Manual</td>\n",
       "      <td>Mileage (ARAI)\\n21.01 kmpl\\nGround clearance\\n...</td>\n",
       "      <td>₹7.85 Lakh</td>\n",
       "    </tr>\n",
       "  </tbody>\n",
       "</table>\n",
       "</div>"
      ],
      "text/plain": [
       "                         brand_and_model km_driven  fuel_type transmission  \\\n",
       "0                   2019 Tata Harrier XZ    38K km   · Diesel     · Manual   \n",
       "1  2019 Maruti Suzuki Baleno Zeta Petrol    25K km   · Petrol     · Manual   \n",
       "\n",
       "                                          all_spec_1        price  \n",
       "0  Mileage (ARAI)\\n17 kmpl\\nGround clearance\\n205...  ₹15.65 Lakh  \n",
       "1  Mileage (ARAI)\\n21.01 kmpl\\nGround clearance\\n...   ₹7.85 Lakh  "
      ]
     },
     "execution_count": 11,
     "metadata": {},
     "output_type": "execute_result"
    }
   ],
   "source": [
    "df.head(2)"
   ]
  },
  {
   "cell_type": "code",
   "execution_count": 12,
   "id": "072e85d9",
   "metadata": {},
   "outputs": [
    {
     "data": {
      "text/plain": [
       "brand_and_model     0\n",
       "km_driven          12\n",
       "fuel_type           0\n",
       "transmission        0\n",
       "all_spec_1         17\n",
       "price               0\n",
       "dtype: int64"
      ]
     },
     "execution_count": 12,
     "metadata": {},
     "output_type": "execute_result"
    }
   ],
   "source": [
    "df.isnull().sum()"
   ]
  },
  {
   "cell_type": "code",
   "execution_count": 13,
   "id": "8af04988",
   "metadata": {},
   "outputs": [],
   "source": [
    "df.dropna(inplace=True)"
   ]
  },
  {
   "cell_type": "code",
   "execution_count": 14,
   "id": "3391e3fc",
   "metadata": {},
   "outputs": [
    {
     "data": {
      "text/plain": [
       "(1924, 6)"
      ]
     },
     "execution_count": 14,
     "metadata": {},
     "output_type": "execute_result"
    }
   ],
   "source": [
    "df.shape"
   ]
  },
  {
   "cell_type": "code",
   "execution_count": 15,
   "id": "dd0fdd8b",
   "metadata": {},
   "outputs": [
    {
     "data": {
      "text/html": [
       "<div>\n",
       "<style scoped>\n",
       "    .dataframe tbody tr th:only-of-type {\n",
       "        vertical-align: middle;\n",
       "    }\n",
       "\n",
       "    .dataframe tbody tr th {\n",
       "        vertical-align: top;\n",
       "    }\n",
       "\n",
       "    .dataframe thead th {\n",
       "        text-align: right;\n",
       "    }\n",
       "</style>\n",
       "<table border=\"1\" class=\"dataframe\">\n",
       "  <thead>\n",
       "    <tr style=\"text-align: right;\">\n",
       "      <th></th>\n",
       "      <th>brand_and_model</th>\n",
       "      <th>km_driven</th>\n",
       "      <th>fuel_type</th>\n",
       "      <th>transmission</th>\n",
       "      <th>all_spec_1</th>\n",
       "      <th>price</th>\n",
       "    </tr>\n",
       "  </thead>\n",
       "  <tbody>\n",
       "    <tr>\n",
       "      <th>0</th>\n",
       "      <td>2019 Tata Harrier XZ</td>\n",
       "      <td>38K km</td>\n",
       "      <td>· Diesel</td>\n",
       "      <td>· Manual</td>\n",
       "      <td>Mileage (ARAI)\\n17 kmpl\\nGround clearance\\n205...</td>\n",
       "      <td>₹15.65 Lakh</td>\n",
       "    </tr>\n",
       "    <tr>\n",
       "      <th>1</th>\n",
       "      <td>2019 Maruti Suzuki Baleno Zeta Petrol</td>\n",
       "      <td>25K km</td>\n",
       "      <td>· Petrol</td>\n",
       "      <td>· Manual</td>\n",
       "      <td>Mileage (ARAI)\\n21.01 kmpl\\nGround clearance\\n...</td>\n",
       "      <td>₹7.85 Lakh</td>\n",
       "    </tr>\n",
       "  </tbody>\n",
       "</table>\n",
       "</div>"
      ],
      "text/plain": [
       "                         brand_and_model km_driven  fuel_type transmission  \\\n",
       "0                   2019 Tata Harrier XZ    38K km   · Diesel     · Manual   \n",
       "1  2019 Maruti Suzuki Baleno Zeta Petrol    25K km   · Petrol     · Manual   \n",
       "\n",
       "                                          all_spec_1        price  \n",
       "0  Mileage (ARAI)\\n17 kmpl\\nGround clearance\\n205...  ₹15.65 Lakh  \n",
       "1  Mileage (ARAI)\\n21.01 kmpl\\nGround clearance\\n...   ₹7.85 Lakh  "
      ]
     },
     "execution_count": 15,
     "metadata": {},
     "output_type": "execute_result"
    }
   ],
   "source": [
    "df.head(2)"
   ]
  },
  {
   "cell_type": "markdown",
   "id": "c6c9a20a",
   "metadata": {},
   "source": [
    "# EXTRACTING MAKE YEAR (MODEL) & MANUFACTURER NAME FROM BRAND_AND_MODEL COLUMN IN INTEGER TYPE"
   ]
  },
  {
   "cell_type": "code",
   "execution_count": 16,
   "id": "95c1d9e0",
   "metadata": {},
   "outputs": [],
   "source": [
    "df['model'] = df['brand_and_model'].apply(lambda x: int(x[:4]))"
   ]
  },
  {
   "cell_type": "code",
   "execution_count": 17,
   "id": "1deb64b2",
   "metadata": {},
   "outputs": [],
   "source": [
    "df['brand_and_model'] = df['brand_and_model'].apply(lambda x: x[5:])"
   ]
  },
  {
   "cell_type": "code",
   "execution_count": 18,
   "id": "665ba824",
   "metadata": {},
   "outputs": [],
   "source": [
    "df.rename(columns={'brand_and_model':'brand'}, inplace=True)"
   ]
  },
  {
   "cell_type": "code",
   "execution_count": 19,
   "id": "dda8c51f",
   "metadata": {},
   "outputs": [
    {
     "data": {
      "text/html": [
       "<div>\n",
       "<style scoped>\n",
       "    .dataframe tbody tr th:only-of-type {\n",
       "        vertical-align: middle;\n",
       "    }\n",
       "\n",
       "    .dataframe tbody tr th {\n",
       "        vertical-align: top;\n",
       "    }\n",
       "\n",
       "    .dataframe thead th {\n",
       "        text-align: right;\n",
       "    }\n",
       "</style>\n",
       "<table border=\"1\" class=\"dataframe\">\n",
       "  <thead>\n",
       "    <tr style=\"text-align: right;\">\n",
       "      <th></th>\n",
       "      <th>brand</th>\n",
       "      <th>km_driven</th>\n",
       "      <th>fuel_type</th>\n",
       "      <th>transmission</th>\n",
       "      <th>all_spec_1</th>\n",
       "      <th>price</th>\n",
       "      <th>model</th>\n",
       "    </tr>\n",
       "  </thead>\n",
       "  <tbody>\n",
       "    <tr>\n",
       "      <th>0</th>\n",
       "      <td>Tata Harrier XZ</td>\n",
       "      <td>38K km</td>\n",
       "      <td>· Diesel</td>\n",
       "      <td>· Manual</td>\n",
       "      <td>Mileage (ARAI)\\n17 kmpl\\nGround clearance\\n205...</td>\n",
       "      <td>₹15.65 Lakh</td>\n",
       "      <td>2019</td>\n",
       "    </tr>\n",
       "    <tr>\n",
       "      <th>1</th>\n",
       "      <td>Maruti Suzuki Baleno Zeta Petrol</td>\n",
       "      <td>25K km</td>\n",
       "      <td>· Petrol</td>\n",
       "      <td>· Manual</td>\n",
       "      <td>Mileage (ARAI)\\n21.01 kmpl\\nGround clearance\\n...</td>\n",
       "      <td>₹7.85 Lakh</td>\n",
       "      <td>2019</td>\n",
       "    </tr>\n",
       "  </tbody>\n",
       "</table>\n",
       "</div>"
      ],
      "text/plain": [
       "                              brand km_driven  fuel_type transmission  \\\n",
       "0                   Tata Harrier XZ    38K km   · Diesel     · Manual   \n",
       "1  Maruti Suzuki Baleno Zeta Petrol    25K km   · Petrol     · Manual   \n",
       "\n",
       "                                          all_spec_1        price  model  \n",
       "0  Mileage (ARAI)\\n17 kmpl\\nGround clearance\\n205...  ₹15.65 Lakh   2019  \n",
       "1  Mileage (ARAI)\\n21.01 kmpl\\nGround clearance\\n...   ₹7.85 Lakh   2019  "
      ]
     },
     "execution_count": 19,
     "metadata": {},
     "output_type": "execute_result"
    }
   ],
   "source": [
    "df.head(2)"
   ]
  },
  {
   "cell_type": "code",
   "execution_count": 20,
   "id": "239560da",
   "metadata": {},
   "outputs": [
    {
     "data": {
      "text/plain": [
       "array([2019, 2021, 2014, 2016, 2013, 2020, 2015, 2017, 2018, 2012, 2022,\n",
       "       2011, 2010], dtype=int64)"
      ]
     },
     "execution_count": 20,
     "metadata": {},
     "output_type": "execute_result"
    }
   ],
   "source": [
    "df.model.unique()"
   ]
  },
  {
   "cell_type": "code",
   "execution_count": 21,
   "id": "a1dd4c5e",
   "metadata": {},
   "outputs": [
    {
     "data": {
      "text/plain": [
       "brand           object\n",
       "km_driven       object\n",
       "fuel_type       object\n",
       "transmission    object\n",
       "all_spec_1      object\n",
       "price           object\n",
       "model            int64\n",
       "dtype: object"
      ]
     },
     "execution_count": 21,
     "metadata": {},
     "output_type": "execute_result"
    }
   ],
   "source": [
    "df.dtypes"
   ]
  },
  {
   "cell_type": "code",
   "execution_count": 22,
   "id": "61b54436",
   "metadata": {},
   "outputs": [],
   "source": [
    "car_brands = ['Audi','Bentley','BMW','Bugatti','Chevrolet','Datsun','Ferrari','Fiat','Ford','Honda','Hyundai','Jaguar','Jeep','Kia',\n",
    "              'Lamborghini','Land Rover','Mahindra','Maruti','Mercedes-Benz','MG','Mitsubishi','Nissan','Porsche','Renault','Rolls-Royce',\n",
    "              'SEAT','Skoda','Suzuki','Tata','Tesla','Toyota','Volkswagen','Volvo']"
   ]
  },
  {
   "cell_type": "code",
   "execution_count": 23,
   "id": "1ccda184",
   "metadata": {},
   "outputs": [],
   "source": [
    "def manufacturer(x):\n",
    "    x = x.split()\n",
    "    for i in x:\n",
    "        if i in car_brands:\n",
    "            return i\n",
    "        else:\n",
    "            pass"
   ]
  },
  {
   "cell_type": "code",
   "execution_count": 24,
   "id": "083502d8",
   "metadata": {},
   "outputs": [
    {
     "data": {
      "text/plain": [
       "'Tata'"
      ]
     },
     "execution_count": 24,
     "metadata": {},
     "output_type": "execute_result"
    }
   ],
   "source": [
    "manufacturer(df.iloc[0,0])"
   ]
  },
  {
   "cell_type": "code",
   "execution_count": 25,
   "id": "562ccceb",
   "metadata": {},
   "outputs": [],
   "source": [
    "df['manufacturer'] = df['brand'].apply(lambda x: manufacturer(x))"
   ]
  },
  {
   "cell_type": "code",
   "execution_count": 26,
   "id": "7056884e",
   "metadata": {},
   "outputs": [
    {
     "data": {
      "text/html": [
       "<div>\n",
       "<style scoped>\n",
       "    .dataframe tbody tr th:only-of-type {\n",
       "        vertical-align: middle;\n",
       "    }\n",
       "\n",
       "    .dataframe tbody tr th {\n",
       "        vertical-align: top;\n",
       "    }\n",
       "\n",
       "    .dataframe thead th {\n",
       "        text-align: right;\n",
       "    }\n",
       "</style>\n",
       "<table border=\"1\" class=\"dataframe\">\n",
       "  <thead>\n",
       "    <tr style=\"text-align: right;\">\n",
       "      <th></th>\n",
       "      <th>brand</th>\n",
       "      <th>km_driven</th>\n",
       "      <th>fuel_type</th>\n",
       "      <th>transmission</th>\n",
       "      <th>all_spec_1</th>\n",
       "      <th>price</th>\n",
       "      <th>model</th>\n",
       "      <th>manufacturer</th>\n",
       "    </tr>\n",
       "  </thead>\n",
       "  <tbody>\n",
       "    <tr>\n",
       "      <th>0</th>\n",
       "      <td>Tata Harrier XZ</td>\n",
       "      <td>38K km</td>\n",
       "      <td>· Diesel</td>\n",
       "      <td>· Manual</td>\n",
       "      <td>Mileage (ARAI)\\n17 kmpl\\nGround clearance\\n205...</td>\n",
       "      <td>₹15.65 Lakh</td>\n",
       "      <td>2019</td>\n",
       "      <td>Tata</td>\n",
       "    </tr>\n",
       "    <tr>\n",
       "      <th>1</th>\n",
       "      <td>Maruti Suzuki Baleno Zeta Petrol</td>\n",
       "      <td>25K km</td>\n",
       "      <td>· Petrol</td>\n",
       "      <td>· Manual</td>\n",
       "      <td>Mileage (ARAI)\\n21.01 kmpl\\nGround clearance\\n...</td>\n",
       "      <td>₹7.85 Lakh</td>\n",
       "      <td>2019</td>\n",
       "      <td>Maruti</td>\n",
       "    </tr>\n",
       "    <tr>\n",
       "      <th>2</th>\n",
       "      <td>Mahindra XUV 300 W6 AMT Diesel</td>\n",
       "      <td>51K km</td>\n",
       "      <td>· Diesel</td>\n",
       "      <td>· Automatic</td>\n",
       "      <td>Mileage (ARAI)\\n20 kmpl\\nGround clearance\\n180...</td>\n",
       "      <td>₹11.41 Lakh</td>\n",
       "      <td>2021</td>\n",
       "      <td>Mahindra</td>\n",
       "    </tr>\n",
       "    <tr>\n",
       "      <th>3</th>\n",
       "      <td>Tata Nexon XZA Plus AMT Diesel</td>\n",
       "      <td>54K km</td>\n",
       "      <td>· Diesel</td>\n",
       "      <td>· Automatic</td>\n",
       "      <td>Mileage (ARAI)\\n21.5 kmpl\\nBoot space\\n350 lit...</td>\n",
       "      <td>₹9.64 Lakh</td>\n",
       "      <td>2019</td>\n",
       "      <td>Tata</td>\n",
       "    </tr>\n",
       "    <tr>\n",
       "      <th>4</th>\n",
       "      <td>Ford Freestyle Titanium 1.2</td>\n",
       "      <td>18K km</td>\n",
       "      <td>· Petrol</td>\n",
       "      <td>· Manual</td>\n",
       "      <td>Mileage (ARAI)\\n18.5 kmpl\\nBoot space\\n257 lit...</td>\n",
       "      <td>₹6.57 Lakh</td>\n",
       "      <td>2019</td>\n",
       "      <td>Ford</td>\n",
       "    </tr>\n",
       "  </tbody>\n",
       "</table>\n",
       "</div>"
      ],
      "text/plain": [
       "                              brand km_driven  fuel_type  transmission  \\\n",
       "0                   Tata Harrier XZ    38K km   · Diesel      · Manual   \n",
       "1  Maruti Suzuki Baleno Zeta Petrol    25K km   · Petrol      · Manual   \n",
       "2    Mahindra XUV 300 W6 AMT Diesel    51K km   · Diesel   · Automatic   \n",
       "3    Tata Nexon XZA Plus AMT Diesel    54K km   · Diesel   · Automatic   \n",
       "4       Ford Freestyle Titanium 1.2    18K km   · Petrol      · Manual   \n",
       "\n",
       "                                          all_spec_1        price  model  \\\n",
       "0  Mileage (ARAI)\\n17 kmpl\\nGround clearance\\n205...  ₹15.65 Lakh   2019   \n",
       "1  Mileage (ARAI)\\n21.01 kmpl\\nGround clearance\\n...   ₹7.85 Lakh   2019   \n",
       "2  Mileage (ARAI)\\n20 kmpl\\nGround clearance\\n180...  ₹11.41 Lakh   2021   \n",
       "3  Mileage (ARAI)\\n21.5 kmpl\\nBoot space\\n350 lit...   ₹9.64 Lakh   2019   \n",
       "4  Mileage (ARAI)\\n18.5 kmpl\\nBoot space\\n257 lit...   ₹6.57 Lakh   2019   \n",
       "\n",
       "  manufacturer  \n",
       "0         Tata  \n",
       "1       Maruti  \n",
       "2     Mahindra  \n",
       "3         Tata  \n",
       "4         Ford  "
      ]
     },
     "execution_count": 26,
     "metadata": {},
     "output_type": "execute_result"
    }
   ],
   "source": [
    "df.head()"
   ]
  },
  {
   "cell_type": "markdown",
   "id": "095f19d6",
   "metadata": {},
   "source": [
    "As Maruti does not sell its cars in india as a solo brand, but only sells as Maruti Suzuki as a joint venture, hence replacing"
   ]
  },
  {
   "cell_type": "code",
   "execution_count": 27,
   "id": "24039210",
   "metadata": {
    "scrolled": true
   },
   "outputs": [],
   "source": [
    "df['manufacturer'].replace('Maruti',\"Maruti Suzuki\", inplace=True)"
   ]
  },
  {
   "cell_type": "code",
   "execution_count": 28,
   "id": "9645dba1",
   "metadata": {},
   "outputs": [
    {
     "data": {
      "text/html": [
       "<div>\n",
       "<style scoped>\n",
       "    .dataframe tbody tr th:only-of-type {\n",
       "        vertical-align: middle;\n",
       "    }\n",
       "\n",
       "    .dataframe tbody tr th {\n",
       "        vertical-align: top;\n",
       "    }\n",
       "\n",
       "    .dataframe thead th {\n",
       "        text-align: right;\n",
       "    }\n",
       "</style>\n",
       "<table border=\"1\" class=\"dataframe\">\n",
       "  <thead>\n",
       "    <tr style=\"text-align: right;\">\n",
       "      <th></th>\n",
       "      <th>brand</th>\n",
       "      <th>km_driven</th>\n",
       "      <th>fuel_type</th>\n",
       "      <th>transmission</th>\n",
       "      <th>all_spec_1</th>\n",
       "      <th>price</th>\n",
       "      <th>model</th>\n",
       "      <th>manufacturer</th>\n",
       "    </tr>\n",
       "  </thead>\n",
       "  <tbody>\n",
       "    <tr>\n",
       "      <th>0</th>\n",
       "      <td>Tata Harrier XZ</td>\n",
       "      <td>38K km</td>\n",
       "      <td>· Diesel</td>\n",
       "      <td>· Manual</td>\n",
       "      <td>Mileage (ARAI)\\n17 kmpl\\nGround clearance\\n205...</td>\n",
       "      <td>₹15.65 Lakh</td>\n",
       "      <td>2019</td>\n",
       "      <td>Tata</td>\n",
       "    </tr>\n",
       "    <tr>\n",
       "      <th>1</th>\n",
       "      <td>Maruti Suzuki Baleno Zeta Petrol</td>\n",
       "      <td>25K km</td>\n",
       "      <td>· Petrol</td>\n",
       "      <td>· Manual</td>\n",
       "      <td>Mileage (ARAI)\\n21.01 kmpl\\nGround clearance\\n...</td>\n",
       "      <td>₹7.85 Lakh</td>\n",
       "      <td>2019</td>\n",
       "      <td>Maruti Suzuki</td>\n",
       "    </tr>\n",
       "    <tr>\n",
       "      <th>2</th>\n",
       "      <td>Mahindra XUV 300 W6 AMT Diesel</td>\n",
       "      <td>51K km</td>\n",
       "      <td>· Diesel</td>\n",
       "      <td>· Automatic</td>\n",
       "      <td>Mileage (ARAI)\\n20 kmpl\\nGround clearance\\n180...</td>\n",
       "      <td>₹11.41 Lakh</td>\n",
       "      <td>2021</td>\n",
       "      <td>Mahindra</td>\n",
       "    </tr>\n",
       "    <tr>\n",
       "      <th>3</th>\n",
       "      <td>Tata Nexon XZA Plus AMT Diesel</td>\n",
       "      <td>54K km</td>\n",
       "      <td>· Diesel</td>\n",
       "      <td>· Automatic</td>\n",
       "      <td>Mileage (ARAI)\\n21.5 kmpl\\nBoot space\\n350 lit...</td>\n",
       "      <td>₹9.64 Lakh</td>\n",
       "      <td>2019</td>\n",
       "      <td>Tata</td>\n",
       "    </tr>\n",
       "    <tr>\n",
       "      <th>4</th>\n",
       "      <td>Ford Freestyle Titanium 1.2</td>\n",
       "      <td>18K km</td>\n",
       "      <td>· Petrol</td>\n",
       "      <td>· Manual</td>\n",
       "      <td>Mileage (ARAI)\\n18.5 kmpl\\nBoot space\\n257 lit...</td>\n",
       "      <td>₹6.57 Lakh</td>\n",
       "      <td>2019</td>\n",
       "      <td>Ford</td>\n",
       "    </tr>\n",
       "  </tbody>\n",
       "</table>\n",
       "</div>"
      ],
      "text/plain": [
       "                              brand km_driven  fuel_type  transmission  \\\n",
       "0                   Tata Harrier XZ    38K km   · Diesel      · Manual   \n",
       "1  Maruti Suzuki Baleno Zeta Petrol    25K km   · Petrol      · Manual   \n",
       "2    Mahindra XUV 300 W6 AMT Diesel    51K km   · Diesel   · Automatic   \n",
       "3    Tata Nexon XZA Plus AMT Diesel    54K km   · Diesel   · Automatic   \n",
       "4       Ford Freestyle Titanium 1.2    18K km   · Petrol      · Manual   \n",
       "\n",
       "                                          all_spec_1        price  model  \\\n",
       "0  Mileage (ARAI)\\n17 kmpl\\nGround clearance\\n205...  ₹15.65 Lakh   2019   \n",
       "1  Mileage (ARAI)\\n21.01 kmpl\\nGround clearance\\n...   ₹7.85 Lakh   2019   \n",
       "2  Mileage (ARAI)\\n20 kmpl\\nGround clearance\\n180...  ₹11.41 Lakh   2021   \n",
       "3  Mileage (ARAI)\\n21.5 kmpl\\nBoot space\\n350 lit...   ₹9.64 Lakh   2019   \n",
       "4  Mileage (ARAI)\\n18.5 kmpl\\nBoot space\\n257 lit...   ₹6.57 Lakh   2019   \n",
       "\n",
       "    manufacturer  \n",
       "0           Tata  \n",
       "1  Maruti Suzuki  \n",
       "2       Mahindra  \n",
       "3           Tata  \n",
       "4           Ford  "
      ]
     },
     "execution_count": 28,
     "metadata": {},
     "output_type": "execute_result"
    }
   ],
   "source": [
    "df.head()"
   ]
  },
  {
   "cell_type": "code",
   "execution_count": 29,
   "id": "5fcf46f3",
   "metadata": {},
   "outputs": [
    {
     "data": {
      "text/plain": [
       "brand           0\n",
       "km_driven       0\n",
       "fuel_type       0\n",
       "transmission    0\n",
       "all_spec_1      0\n",
       "price           0\n",
       "model           0\n",
       "manufacturer    0\n",
       "dtype: int64"
      ]
     },
     "execution_count": 29,
     "metadata": {},
     "output_type": "execute_result"
    }
   ],
   "source": [
    "df.isnull().sum()"
   ]
  },
  {
   "cell_type": "markdown",
   "id": "1af0826c",
   "metadata": {},
   "source": [
    "# CLEANING FUEL TYPE AND TRANSMISSION COLUMNS"
   ]
  },
  {
   "cell_type": "code",
   "execution_count": 30,
   "id": "d76b0b6c",
   "metadata": {},
   "outputs": [],
   "source": [
    "def clean(x):\n",
    "    x = x[3:]\n",
    "    return x"
   ]
  },
  {
   "cell_type": "code",
   "execution_count": 31,
   "id": "62a5e658",
   "metadata": {},
   "outputs": [],
   "source": [
    "df['fuel_type'] = df['fuel_type'].apply(lambda x: clean(x))"
   ]
  },
  {
   "cell_type": "code",
   "execution_count": 32,
   "id": "30952ec7",
   "metadata": {},
   "outputs": [],
   "source": [
    "df['transmission'] = df['transmission'].apply(lambda x: clean(x))"
   ]
  },
  {
   "cell_type": "code",
   "execution_count": 33,
   "id": "8b4777a0",
   "metadata": {},
   "outputs": [
    {
     "data": {
      "text/html": [
       "<div>\n",
       "<style scoped>\n",
       "    .dataframe tbody tr th:only-of-type {\n",
       "        vertical-align: middle;\n",
       "    }\n",
       "\n",
       "    .dataframe tbody tr th {\n",
       "        vertical-align: top;\n",
       "    }\n",
       "\n",
       "    .dataframe thead th {\n",
       "        text-align: right;\n",
       "    }\n",
       "</style>\n",
       "<table border=\"1\" class=\"dataframe\">\n",
       "  <thead>\n",
       "    <tr style=\"text-align: right;\">\n",
       "      <th></th>\n",
       "      <th>brand</th>\n",
       "      <th>km_driven</th>\n",
       "      <th>fuel_type</th>\n",
       "      <th>transmission</th>\n",
       "      <th>all_spec_1</th>\n",
       "      <th>price</th>\n",
       "      <th>model</th>\n",
       "      <th>manufacturer</th>\n",
       "    </tr>\n",
       "  </thead>\n",
       "  <tbody>\n",
       "    <tr>\n",
       "      <th>0</th>\n",
       "      <td>Tata Harrier XZ</td>\n",
       "      <td>38K km</td>\n",
       "      <td>Diesel</td>\n",
       "      <td>Manual</td>\n",
       "      <td>Mileage (ARAI)\\n17 kmpl\\nGround clearance\\n205...</td>\n",
       "      <td>₹15.65 Lakh</td>\n",
       "      <td>2019</td>\n",
       "      <td>Tata</td>\n",
       "    </tr>\n",
       "    <tr>\n",
       "      <th>1</th>\n",
       "      <td>Maruti Suzuki Baleno Zeta Petrol</td>\n",
       "      <td>25K km</td>\n",
       "      <td>Petrol</td>\n",
       "      <td>Manual</td>\n",
       "      <td>Mileage (ARAI)\\n21.01 kmpl\\nGround clearance\\n...</td>\n",
       "      <td>₹7.85 Lakh</td>\n",
       "      <td>2019</td>\n",
       "      <td>Maruti Suzuki</td>\n",
       "    </tr>\n",
       "  </tbody>\n",
       "</table>\n",
       "</div>"
      ],
      "text/plain": [
       "                              brand km_driven fuel_type transmission  \\\n",
       "0                   Tata Harrier XZ    38K km    Diesel       Manual   \n",
       "1  Maruti Suzuki Baleno Zeta Petrol    25K km    Petrol       Manual   \n",
       "\n",
       "                                          all_spec_1        price  model  \\\n",
       "0  Mileage (ARAI)\\n17 kmpl\\nGround clearance\\n205...  ₹15.65 Lakh   2019   \n",
       "1  Mileage (ARAI)\\n21.01 kmpl\\nGround clearance\\n...   ₹7.85 Lakh   2019   \n",
       "\n",
       "    manufacturer  \n",
       "0           Tata  \n",
       "1  Maruti Suzuki  "
      ]
     },
     "execution_count": 33,
     "metadata": {},
     "output_type": "execute_result"
    }
   ],
   "source": [
    "df.head(2)"
   ]
  },
  {
   "cell_type": "markdown",
   "id": "a2f1272b",
   "metadata": {},
   "source": [
    "# CLEANING KM DRIVEN INTO INT FORM"
   ]
  },
  {
   "cell_type": "code",
   "execution_count": 34,
   "id": "90264820",
   "metadata": {},
   "outputs": [
    {
     "data": {
      "text/plain": [
       "array(['38K km', '25K km', '51K km', '54K km', '18K km', '20K km',\n",
       "       '71K km', '40K km', '10K km', '15K km', '98K km', '72K km',\n",
       "       '21K km', '35K km', '79K km', '45K km', '65K km', '29K km',\n",
       "       '50K km', '22K km', '39K km', '64K km', '82K km', '16K km',\n",
       "       '32K km', '84K km', '80K km', '49K km', '52K km', '3K km',\n",
       "       '53K km', '66K km', '78K km', '47K km', '58K km', '67K km',\n",
       "       '9K km', '31K km', '8K km', '7K km', '44K km', '59K km', '30K km',\n",
       "       '57K km', '60K km', '61K km', '94K km', '87K km', '96K km',\n",
       "       '33K km', '14K km', '56K km', '17K km', '92K km', '41K km',\n",
       "       '62K km', '77K km', '28K km', '24K km', '23K km', '42K km',\n",
       "       '69K km', '114K km', '81K km', '75K km', '55K km', '74K km',\n",
       "       '46K km', '105K km', '4K km', '37K km', '83K km', '12K km',\n",
       "       '19K km', '11K km', '5K km', '88K km', '89K km', '93K km',\n",
       "       '26K km', '95K km', '13K km', '36K km', '73K km', '27K km',\n",
       "       '118K km', '76K km', '108K km', '85K km', '97K km', '91K km',\n",
       "       '100K km', '34K km', '99K km', '90K km', '6K km', '68K km',\n",
       "       '63K km', '102K km', '116K km', '43K km', '48K km', '86K km',\n",
       "       '70K km'], dtype=object)"
      ]
     },
     "execution_count": 34,
     "metadata": {},
     "output_type": "execute_result"
    }
   ],
   "source": [
    "df.km_driven.unique()"
   ]
  },
  {
   "cell_type": "code",
   "execution_count": 35,
   "id": "d60d3bf5",
   "metadata": {},
   "outputs": [],
   "source": [
    "def driven(x):\n",
    "    x = int(x.replace(x[-4:], \"\"))\n",
    "    return x"
   ]
  },
  {
   "cell_type": "code",
   "execution_count": 36,
   "id": "612e98dd",
   "metadata": {},
   "outputs": [],
   "source": [
    "a = \"26K km\""
   ]
  },
  {
   "cell_type": "code",
   "execution_count": 37,
   "id": "809b1161",
   "metadata": {},
   "outputs": [
    {
     "data": {
      "text/plain": [
       "26"
      ]
     },
     "execution_count": 37,
     "metadata": {},
     "output_type": "execute_result"
    }
   ],
   "source": [
    "driven(a)"
   ]
  },
  {
   "cell_type": "code",
   "execution_count": 38,
   "id": "8f3efb61",
   "metadata": {},
   "outputs": [],
   "source": [
    "df['km_driven'] = df['km_driven'].apply(lambda x: driven(x))"
   ]
  },
  {
   "cell_type": "code",
   "execution_count": 39,
   "id": "20fb861d",
   "metadata": {},
   "outputs": [],
   "source": [
    "df = df.rename(columns = {'km_driven':'km_driven_(in_thousands)'})"
   ]
  },
  {
   "cell_type": "code",
   "execution_count": 40,
   "id": "031f9429",
   "metadata": {},
   "outputs": [
    {
     "data": {
      "text/html": [
       "<div>\n",
       "<style scoped>\n",
       "    .dataframe tbody tr th:only-of-type {\n",
       "        vertical-align: middle;\n",
       "    }\n",
       "\n",
       "    .dataframe tbody tr th {\n",
       "        vertical-align: top;\n",
       "    }\n",
       "\n",
       "    .dataframe thead th {\n",
       "        text-align: right;\n",
       "    }\n",
       "</style>\n",
       "<table border=\"1\" class=\"dataframe\">\n",
       "  <thead>\n",
       "    <tr style=\"text-align: right;\">\n",
       "      <th></th>\n",
       "      <th>brand</th>\n",
       "      <th>km_driven_(in_thousands)</th>\n",
       "      <th>fuel_type</th>\n",
       "      <th>transmission</th>\n",
       "      <th>all_spec_1</th>\n",
       "      <th>price</th>\n",
       "      <th>model</th>\n",
       "      <th>manufacturer</th>\n",
       "    </tr>\n",
       "  </thead>\n",
       "  <tbody>\n",
       "    <tr>\n",
       "      <th>0</th>\n",
       "      <td>Tata Harrier XZ</td>\n",
       "      <td>38</td>\n",
       "      <td>Diesel</td>\n",
       "      <td>Manual</td>\n",
       "      <td>Mileage (ARAI)\\n17 kmpl\\nGround clearance\\n205...</td>\n",
       "      <td>₹15.65 Lakh</td>\n",
       "      <td>2019</td>\n",
       "      <td>Tata</td>\n",
       "    </tr>\n",
       "    <tr>\n",
       "      <th>1</th>\n",
       "      <td>Maruti Suzuki Baleno Zeta Petrol</td>\n",
       "      <td>25</td>\n",
       "      <td>Petrol</td>\n",
       "      <td>Manual</td>\n",
       "      <td>Mileage (ARAI)\\n21.01 kmpl\\nGround clearance\\n...</td>\n",
       "      <td>₹7.85 Lakh</td>\n",
       "      <td>2019</td>\n",
       "      <td>Maruti Suzuki</td>\n",
       "    </tr>\n",
       "  </tbody>\n",
       "</table>\n",
       "</div>"
      ],
      "text/plain": [
       "                              brand  km_driven_(in_thousands) fuel_type  \\\n",
       "0                   Tata Harrier XZ                        38    Diesel   \n",
       "1  Maruti Suzuki Baleno Zeta Petrol                        25    Petrol   \n",
       "\n",
       "  transmission                                         all_spec_1  \\\n",
       "0       Manual  Mileage (ARAI)\\n17 kmpl\\nGround clearance\\n205...   \n",
       "1       Manual  Mileage (ARAI)\\n21.01 kmpl\\nGround clearance\\n...   \n",
       "\n",
       "         price  model   manufacturer  \n",
       "0  ₹15.65 Lakh   2019           Tata  \n",
       "1   ₹7.85 Lakh   2019  Maruti Suzuki  "
      ]
     },
     "execution_count": 40,
     "metadata": {},
     "output_type": "execute_result"
    }
   ],
   "source": [
    "df.head(2)"
   ]
  },
  {
   "cell_type": "markdown",
   "id": "024c7e0a",
   "metadata": {},
   "source": [
    "# CLEANING PRICE COLUMN IN INT FORM"
   ]
  },
  {
   "cell_type": "code",
   "execution_count": 41,
   "id": "3149b8d8",
   "metadata": {
    "scrolled": true
   },
   "outputs": [
    {
     "data": {
      "text/plain": [
       "array(['₹15.65 Lakh', '₹7.85 Lakh', '₹11.41 Lakh', '₹9.64 Lakh',\n",
       "       '₹6.57 Lakh', '₹2.12 Lakh', '₹19.05 Lakh', '₹7.21 Lakh',\n",
       "       '₹9.41 Lakh', '₹10.76 Lakh', '₹7.18 Lakh', '₹7.49 Lakh',\n",
       "       '₹7.25 Lakh', '₹3.12 Lakh', '₹4.96 Lakh', '₹6.43 Lakh',\n",
       "       '₹9.36 Lakh', '₹9.98 Lakh', '₹5.61 Lakh', '₹5.79 Lakh',\n",
       "       '₹7.26 Lakh', '₹10.70 Lakh', '₹5.64 Lakh', '₹5.60 Lakh',\n",
       "       '₹5.27 Lakh', '₹9.76 Lakh', '₹6.41 Lakh', '₹12.99 Lakh',\n",
       "       '₹7.64 Lakh', '₹6.71 Lakh', '₹8.58 Lakh', '₹3.18 Lakh',\n",
       "       '₹8.82 Lakh', '₹6.64 Lakh', '₹3.07 Lakh', '₹9.49 Lakh',\n",
       "       '₹7.40 Lakh', '₹16.39 Lakh', '₹6.93 Lakh', '₹16.38 Lakh',\n",
       "       '₹7.53 Lakh', '₹10.01 Lakh', '₹9.91 Lakh', '₹6.99 Lakh',\n",
       "       '₹8.51 Lakh', '₹5.07 Lakh', '₹6.63 Lakh', '₹7.54 Lakh',\n",
       "       '₹6.09 Lakh', '₹10.12 Lakh', '₹4.53 Lakh', '₹16.97 Lakh',\n",
       "       '₹14.12 Lakh', '₹4.62 Lakh', '₹10.73 Lakh', '₹4.67 Lakh',\n",
       "       '₹18.30 Lakh', '₹7.77 Lakh', '₹6.79 Lakh', '₹5.48 Lakh',\n",
       "       '₹15.13 Lakh', '₹4.32 Lakh', '₹4.99 Lakh', '₹12.62 Lakh',\n",
       "       '₹4.85 Lakh', '₹8.96 Lakh', '₹34.48 Lakh', '₹10.22 Lakh',\n",
       "       '₹5.26 Lakh', '₹10.33 Lakh', '₹4.36 Lakh', '₹6.33 Lakh',\n",
       "       '₹12.69 Lakh', '₹13.57 Lakh', '₹8.12 Lakh', '₹4.55 Lakh',\n",
       "       '₹6.30 Lakh', '₹5.94 Lakh', '₹4.72 Lakh', '₹6.31 Lakh',\n",
       "       '₹8.83 Lakh', '₹2.41 Lakh', '₹18.01 Lakh', '₹3.38 Lakh',\n",
       "       '₹8.95 Lakh', '₹3.14 Lakh', '₹5.85 Lakh', '₹6.01 Lakh',\n",
       "       '₹9.78 Lakh', '₹6.84 Lakh', '₹9.26 Lakh', '₹6.61 Lakh',\n",
       "       '₹5.83 Lakh', '₹8.40 Lakh', '₹2.89 Lakh', '₹14.56 Lakh',\n",
       "       '₹8.38 Lakh', '₹8.65 Lakh', '₹9.68 Lakh', '₹11.69 Lakh',\n",
       "       '₹5.24 Lakh', '₹9.71 Lakh', '₹2.35 Lakh', '₹8.30 Lakh',\n",
       "       '₹5.10 Lakh', '₹4.90 Lakh', '₹3.33 Lakh', '₹2.43 Lakh',\n",
       "       '₹3.81 Lakh', '₹8.29 Lakh', '₹9.27 Lakh', '₹7.03 Lakh',\n",
       "       '₹11.58 Lakh', '₹5.89 Lakh', '₹6.81 Lakh', '₹9.17 Lakh', '₹4 Lakh',\n",
       "       '₹11.21 Lakh', '₹4.61 Lakh', '₹6.65 Lakh', '₹6.10 Lakh',\n",
       "       '₹5.74 Lakh', '₹9.85 Lakh', '₹13.83 Lakh', '₹6.62 Lakh',\n",
       "       '₹7.43 Lakh', '₹5.09 Lakh', '₹5.23 Lakh', '₹5.38 Lakh',\n",
       "       '₹8.55 Lakh', '₹9.32 Lakh', '₹9.02 Lakh', '₹3.76 Lakh',\n",
       "       '₹5.49 Lakh', '₹7.05 Lakh', '₹7.87 Lakh', '₹7.08 Lakh',\n",
       "       '₹18.89 Lakh', '₹8.90 Lakh', '₹14.36 Lakh', '₹8.16 Lakh',\n",
       "       '₹8.45 Lakh', '₹6.38 Lakh', '₹2.49 Lakh', '₹14.62 Lakh',\n",
       "       '₹9.75 Lakh', '₹14.24 Lakh', '₹13.02 Lakh', '₹9.88 Lakh',\n",
       "       '₹4.25 Lakh', '₹5.19 Lakh', '₹9.97 Lakh', '₹5.03 Lakh',\n",
       "       '₹6.17 Lakh', '₹15.57 Lakh', '₹8.73 Lakh', '₹9.06 Lakh',\n",
       "       '₹8.89 Lakh', '₹16.12 Lakh', '₹15.08 Lakh', '₹14.53 Lakh',\n",
       "       '₹13.38 Lakh', '₹2.39 Lakh', '₹6.60 Lakh', '₹8.76 Lakh',\n",
       "       '₹2.68 Lakh', '₹4.24 Lakh', '₹7.90 Lakh', '₹17.26 Lakh',\n",
       "       '₹3.90 Lakh', '₹5.68 Lakh', '₹13.12 Lakh', '₹1.87 Lakh',\n",
       "       '₹5.53 Lakh', '₹6.52 Lakh', '₹5.46 Lakh', '₹5.80 Lakh',\n",
       "       '₹6.23 Lakh', '₹3.46 Lakh', '₹3.11 Lakh', '₹6.21 Lakh',\n",
       "       '₹4.83 Lakh', '₹2.14 Lakh', '₹14.82 Lakh', '₹7.10 Lakh',\n",
       "       '₹3.42 Lakh', '₹8.98 Lakh', '₹6.89 Lakh', '₹10.93 Lakh',\n",
       "       '₹8.59 Lakh', '₹6.58 Lakh', '₹6.91 Lakh', '₹15.61 Lakh',\n",
       "       '₹3.93 Lakh', '₹4.11 Lakh', '₹6.34 Lakh', '₹9.29 Lakh',\n",
       "       '₹6.69 Lakh', '₹7.14 Lakh', '₹6.49 Lakh', '₹13.39 Lakh',\n",
       "       '₹5.65 Lakh', '₹8.49 Lakh', '₹8.36 Lakh', '₹10.15 Lakh',\n",
       "       '₹7.24 Lakh', '₹16.08 Lakh', '₹7.31 Lakh', '₹21.20 Lakh',\n",
       "       '₹13.98 Lakh', '₹6.12 Lakh', '₹12.13 Lakh', '₹11.17 Lakh',\n",
       "       '₹8.67 Lakh', '₹6.47 Lakh', '₹8.21 Lakh', '₹8.24 Lakh',\n",
       "       '₹10.81 Lakh', '₹7.50 Lakh', '₹6.83 Lakh', '₹9.43 Lakh',\n",
       "       '₹8.53 Lakh', '₹8.77 Lakh', '₹11.75 Lakh', '₹10.82 Lakh',\n",
       "       '₹9.24 Lakh', '₹10.92 Lakh', '₹11.05 Lakh', '₹9.01 Lakh',\n",
       "       '₹4.95 Lakh', '₹6.51 Lakh', '₹3.84 Lakh', '₹4.01 Lakh',\n",
       "       '₹7.99 Lakh', '₹5.30 Lakh', '₹11.99 Lakh', '₹7.76 Lakh',\n",
       "       '₹8.56 Lakh', '₹7.60 Lakh', '₹10.14 Lakh', '₹10.11 Lakh',\n",
       "       '₹15.09 Lakh', '₹3.36 Lakh', '₹8.05 Lakh', '₹8.10 Lakh',\n",
       "       '₹3.86 Lakh', '₹3.20 Lakh', '₹9.50 Lakh', '₹15.52 Lakh',\n",
       "       '₹5.12 Lakh', '₹14.58 Lakh', '₹6.82 Lakh', '₹9.13 Lakh',\n",
       "       '₹7.30 Lakh', '₹6.74 Lakh', '₹7.45 Lakh', '₹10.45 Lakh',\n",
       "       '₹12.16 Lakh', '₹4.12 Lakh', '₹6.45 Lakh', '₹11.03 Lakh',\n",
       "       '₹4.75 Lakh', '₹2.17 Lakh', '₹3.94 Lakh', '₹4.13 Lakh',\n",
       "       '₹7.61 Lakh', '₹4.87 Lakh', '₹2.60 Lakh', '₹4.37 Lakh',\n",
       "       '₹4.50 Lakh', '₹5.43 Lakh', '₹9.81 Lakh', '₹10.50 Lakh',\n",
       "       '₹23.60 Lakh', '₹21.51 Lakh', '₹8.99 Lakh', '₹3.19 Lakh',\n",
       "       '₹11.29 Lakh', '₹3.06 Lakh', '₹2.45 Lakh', '₹5.05 Lakh',\n",
       "       '₹4.21 Lakh', '₹3.70 Lakh', '₹2.76 Lakh', '₹9.47 Lakh',\n",
       "       '₹9.95 Lakh', '₹3.54 Lakh', '₹13.49 Lakh', '₹5.81 Lakh',\n",
       "       '₹12.84 Lakh', '₹7.79 Lakh', '₹20.20 Lakh', '₹13.52 Lakh',\n",
       "       '₹8.43 Lakh', '₹12.25 Lakh', '₹8.03 Lakh', '₹3.34 Lakh',\n",
       "       '₹4.31 Lakh', '₹7.29 Lakh', '₹4.59 Lakh', '₹8.27 Lakh',\n",
       "       '₹8.69 Lakh', '₹13.76 Lakh', '₹6.97 Lakh', '₹3.08 Lakh',\n",
       "       '₹12.29 Lakh', '₹10.58 Lakh', '₹10.99 Lakh', '₹16.99 Lakh',\n",
       "       '₹6.95 Lakh', '₹19.90 Lakh', '₹4.91 Lakh', '₹19.28 Lakh',\n",
       "       '₹4.29 Lakh', '₹3.99 Lakh', '₹3.95 Lakh', '₹11.76 Lakh',\n",
       "       '₹7.62 Lakh', '₹4.44 Lakh', '₹3.21 Lakh', '₹16.67 Lakh',\n",
       "       '₹4.68 Lakh', '₹11.66 Lakh', '₹16.71 Lakh', '₹17.49 Lakh',\n",
       "       '₹19.99 Lakh', '₹10 Lakh', '₹10.75 Lakh', '₹8.70 Lakh',\n",
       "       '₹6.88 Lakh', '₹14.28 Lakh', '₹9.40 Lakh', '₹3.01 Lakh',\n",
       "       '₹14.96 Lakh', '₹7.75 Lakh', '₹7.96 Lakh', '₹3 Lakh', '₹8.08 Lakh',\n",
       "       '₹17.85 Lakh', '₹11.14 Lakh', '₹9.19 Lakh', '₹5.88 Lakh',\n",
       "       '₹13.10 Lakh', '₹4.35 Lakh', '₹8.11 Lakh', '₹4.27 Lakh',\n",
       "       '₹9.55 Lakh', '₹10.56 Lakh', '₹11.65 Lakh', '₹18.96 Lakh',\n",
       "       '₹15.62 Lakh', '₹4.94 Lakh', '₹7.57 Lakh', '₹16.73 Lakh',\n",
       "       '₹9.84 Lakh', '₹9.42 Lakh', '₹4.46 Lakh', '₹13.31 Lakh',\n",
       "       '₹9.57 Lakh', '₹11.46 Lakh', '₹9.56 Lakh', '₹8.09 Lakh',\n",
       "       '₹8.20 Lakh', '₹3.25 Lakh', '₹6.48 Lakh', '₹10.08 Lakh',\n",
       "       '₹7.38 Lakh', '₹17.42 Lakh', '₹11.36 Lakh', '₹8.62 Lakh',\n",
       "       '₹10.40 Lakh', '₹14.90 Lakh', '₹10.13 Lakh', '₹6.73 Lakh',\n",
       "       '₹8.25 Lakh', '₹7.86 Lakh', '₹5.95 Lakh', '₹10.38 Lakh',\n",
       "       '₹17.62 Lakh', '₹11.34 Lakh', '₹13.05 Lakh', '₹8.66 Lakh',\n",
       "       '₹16.17 Lakh', '₹8.19 Lakh', '₹18.12 Lakh', '₹3.10 Lakh',\n",
       "       '₹20.06 Lakh', '₹9.90 Lakh', '₹18.29 Lakh', '₹11.09 Lakh',\n",
       "       '₹7.17 Lakh', '₹15.54 Lakh', '₹19.67 Lakh', '₹8.48 Lakh',\n",
       "       '₹7.36 Lakh', '₹16.85 Lakh', '₹8.18 Lakh', '₹18.98 Lakh',\n",
       "       '₹7.92 Lakh', '₹9.15 Lakh', '₹14.74 Lakh', '₹6.56 Lakh',\n",
       "       '₹10.35 Lakh', '₹11.92 Lakh', '₹13.61 Lakh', '₹10.79 Lakh',\n",
       "       '₹11.10 Lakh', '₹21.80 Lakh', '₹16.72 Lakh', '₹16.93 Lakh',\n",
       "       '₹11.01 Lakh', '₹7.12 Lakh', '₹15.60 Lakh', '₹6.28 Lakh',\n",
       "       '₹8.13 Lakh', '₹27.33 Lakh', '₹17.54 Lakh', '₹9.25 Lakh',\n",
       "       '₹14.64 Lakh', '₹21.68 Lakh', '₹9.21 Lakh', '₹7.02 Lakh',\n",
       "       '₹11.35 Lakh', '₹6.94 Lakh', '₹7.13 Lakh', '₹14.48 Lakh',\n",
       "       '₹10.47 Lakh', '₹10.30 Lakh', '₹12.57 Lakh', '₹18.94 Lakh',\n",
       "       '₹18.48 Lakh', '₹12.48 Lakh', '₹19.84 Lakh', '₹14.97 Lakh',\n",
       "       '₹5.70 Lakh', '₹8.47 Lakh', '₹2.73 Lakh', '₹12.90 Lakh',\n",
       "       '₹2.19 Lakh', '₹3.32 Lakh', '₹16.69 Lakh', '₹5.42 Lakh',\n",
       "       '₹18.10 Lakh', '₹7.69 Lakh', '₹3.49 Lakh', '₹4.92 Lakh',\n",
       "       '₹4.98 Lakh', '₹7.84 Lakh', '₹9.22 Lakh', '₹5.20 Lakh',\n",
       "       '₹11.72 Lakh', '₹10.23 Lakh', '₹13.53 Lakh', '₹7.95 Lakh',\n",
       "       '₹5.15 Lakh', '₹6.80 Lakh', '₹3.37 Lakh', '₹19.14 Lakh',\n",
       "       '₹11.18 Lakh', '₹6.96 Lakh', '₹4.47 Lakh', '₹11.20 Lakh',\n",
       "       '₹5.39 Lakh', '₹14.42 Lakh', '₹13.82 Lakh', '₹3.57 Lakh',\n",
       "       '₹18.40 Lakh', '₹6.90 Lakh', '₹9.73 Lakh', '₹3.28 Lakh',\n",
       "       '₹2.18 Lakh', '₹5.73 Lakh', '₹13.72 Lakh', '₹11.55 Lakh',\n",
       "       '₹2.83 Lakh', '₹4.03 Lakh', '₹5.40 Lakh', '₹8.54 Lakh',\n",
       "       '₹6.98 Lakh', '₹7.81 Lakh', '₹10.83 Lakh', '₹6 Lakh', '₹6.22 Lakh',\n",
       "       '₹4.77 Lakh', '₹8.46 Lakh', '₹7.07 Lakh', '₹9.62 Lakh',\n",
       "       '₹18.16 Lakh', '₹2.61 Lakh', '₹4.49 Lakh', '₹7.59 Lakh',\n",
       "       '₹15.44 Lakh', '₹9.86 Lakh'], dtype=object)"
      ]
     },
     "execution_count": 41,
     "metadata": {},
     "output_type": "execute_result"
    }
   ],
   "source": [
    "df.price.unique()"
   ]
  },
  {
   "cell_type": "code",
   "execution_count": 42,
   "id": "81619f9a",
   "metadata": {},
   "outputs": [],
   "source": [
    "def price(x):\n",
    "    x = x[1:].split()[0]\n",
    "    return float(x)"
   ]
  },
  {
   "cell_type": "code",
   "execution_count": 43,
   "id": "314f9c8f",
   "metadata": {},
   "outputs": [],
   "source": [
    "df['price'] = df['price'].apply(lambda x: price(x))"
   ]
  },
  {
   "cell_type": "code",
   "execution_count": 44,
   "id": "4975fa1d",
   "metadata": {},
   "outputs": [
    {
     "data": {
      "text/html": [
       "<div>\n",
       "<style scoped>\n",
       "    .dataframe tbody tr th:only-of-type {\n",
       "        vertical-align: middle;\n",
       "    }\n",
       "\n",
       "    .dataframe tbody tr th {\n",
       "        vertical-align: top;\n",
       "    }\n",
       "\n",
       "    .dataframe thead th {\n",
       "        text-align: right;\n",
       "    }\n",
       "</style>\n",
       "<table border=\"1\" class=\"dataframe\">\n",
       "  <thead>\n",
       "    <tr style=\"text-align: right;\">\n",
       "      <th></th>\n",
       "      <th>brand</th>\n",
       "      <th>km_driven_(in_thousands)</th>\n",
       "      <th>fuel_type</th>\n",
       "      <th>transmission</th>\n",
       "      <th>all_spec_1</th>\n",
       "      <th>price</th>\n",
       "      <th>model</th>\n",
       "      <th>manufacturer</th>\n",
       "    </tr>\n",
       "  </thead>\n",
       "  <tbody>\n",
       "    <tr>\n",
       "      <th>0</th>\n",
       "      <td>Tata Harrier XZ</td>\n",
       "      <td>38</td>\n",
       "      <td>Diesel</td>\n",
       "      <td>Manual</td>\n",
       "      <td>Mileage (ARAI)\\n17 kmpl\\nGround clearance\\n205...</td>\n",
       "      <td>15.65</td>\n",
       "      <td>2019</td>\n",
       "      <td>Tata</td>\n",
       "    </tr>\n",
       "    <tr>\n",
       "      <th>1</th>\n",
       "      <td>Maruti Suzuki Baleno Zeta Petrol</td>\n",
       "      <td>25</td>\n",
       "      <td>Petrol</td>\n",
       "      <td>Manual</td>\n",
       "      <td>Mileage (ARAI)\\n21.01 kmpl\\nGround clearance\\n...</td>\n",
       "      <td>7.85</td>\n",
       "      <td>2019</td>\n",
       "      <td>Maruti Suzuki</td>\n",
       "    </tr>\n",
       "  </tbody>\n",
       "</table>\n",
       "</div>"
      ],
      "text/plain": [
       "                              brand  km_driven_(in_thousands) fuel_type  \\\n",
       "0                   Tata Harrier XZ                        38    Diesel   \n",
       "1  Maruti Suzuki Baleno Zeta Petrol                        25    Petrol   \n",
       "\n",
       "  transmission                                         all_spec_1  price  \\\n",
       "0       Manual  Mileage (ARAI)\\n17 kmpl\\nGround clearance\\n205...  15.65   \n",
       "1       Manual  Mileage (ARAI)\\n21.01 kmpl\\nGround clearance\\n...   7.85   \n",
       "\n",
       "   model   manufacturer  \n",
       "0   2019           Tata  \n",
       "1   2019  Maruti Suzuki  "
      ]
     },
     "execution_count": 44,
     "metadata": {},
     "output_type": "execute_result"
    }
   ],
   "source": [
    "df.head(2)"
   ]
  },
  {
   "cell_type": "code",
   "execution_count": 45,
   "id": "031ddfdc",
   "metadata": {},
   "outputs": [
    {
     "data": {
      "text/plain": [
       "brand                        object\n",
       "km_driven_(in_thousands)      int64\n",
       "fuel_type                    object\n",
       "transmission                 object\n",
       "all_spec_1                   object\n",
       "price                       float64\n",
       "model                         int64\n",
       "manufacturer                 object\n",
       "dtype: object"
      ]
     },
     "execution_count": 45,
     "metadata": {},
     "output_type": "execute_result"
    }
   ],
   "source": [
    "df.dtypes"
   ]
  },
  {
   "cell_type": "markdown",
   "id": "96d6a649",
   "metadata": {},
   "source": [
    "# FINALLY WORKING ON SPECIFICATIONS COLUMN"
   ]
  },
  {
   "cell_type": "code",
   "execution_count": 46,
   "id": "c6e09488",
   "metadata": {},
   "outputs": [],
   "source": [
    "df.rename(columns={'all_spec_1': 'specifications'}, inplace=True)"
   ]
  },
  {
   "cell_type": "code",
   "execution_count": 47,
   "id": "2c2efa67",
   "metadata": {},
   "outputs": [
    {
     "data": {
      "text/plain": [
       "'Mileage (ARAI)\\n17 kmpl\\nGround clearance\\n205 mm\\nBoot space\\n425 litres\\nSeating capacity\\n5 units\\nFuel tank capacity\\n50 litres\\nMax power\\n138 bhp\\nVIEW ALL SPECIFICATIONS'"
      ]
     },
     "execution_count": 47,
     "metadata": {},
     "output_type": "execute_result"
    }
   ],
   "source": [
    "a = df.iloc[0,4]\n",
    "a"
   ]
  },
  {
   "cell_type": "code",
   "execution_count": 48,
   "id": "776e27d2",
   "metadata": {},
   "outputs": [],
   "source": [
    "b = 'Mileage (ARAI)\\n17 kmpl\\nGround clearance\\n205 mm\\nSeating capacity\\n5 units\\nFuel tank capacity\\n50 litres\\nMax power\\n138 bhp\\nVIEW ALL SPECIFICATIONS'"
   ]
  },
  {
   "cell_type": "code",
   "execution_count": 49,
   "id": "9ac90058",
   "metadata": {},
   "outputs": [
    {
     "data": {
      "text/plain": [
       "['Mileage (ARAI)',\n",
       " '17 kmpl',\n",
       " 'Ground clearance',\n",
       " '205 mm',\n",
       " 'Boot space',\n",
       " '425 litres',\n",
       " 'Seating capacity',\n",
       " '5 units',\n",
       " 'Fuel tank capacity',\n",
       " '50 litres',\n",
       " 'Max power',\n",
       " '138 bhp',\n",
       " 'VIEW ALL SPECIFICATIONS']"
      ]
     },
     "execution_count": 49,
     "metadata": {},
     "output_type": "execute_result"
    }
   ],
   "source": [
    "a.split(\"\\n\")"
   ]
  },
  {
   "cell_type": "code",
   "execution_count": 50,
   "id": "3faa6cce",
   "metadata": {},
   "outputs": [],
   "source": [
    "def spec(x):\n",
    "    x = x.split(\"\\n\")\n",
    "    ls = ['Mileage (ARAI)', 'Ground clearance', 'Boot space', 'Seating capacity', 'Fuel tank capacity', 'Max power']\n",
    "    for i in ls:\n",
    "        if i == \"Mileage (ARAI)\":\n",
    "            try:\n",
    "                mileage = x[x.index(i)+1]\n",
    "            except:\n",
    "                mileage = np.nan\n",
    "        elif i == 'Ground clearance':\n",
    "            try:\n",
    "                ground_clearance = x[x.index(i)+1]\n",
    "            except:\n",
    "                ground_clearance = np.nan\n",
    "        elif i == 'Boot space':\n",
    "            try:\n",
    "                boot_space = x[x.index(i)+1]\n",
    "            except:\n",
    "                boot_space = np.nan\n",
    "        elif i == 'Seating capacity':\n",
    "            try:\n",
    "                seating_capacity = x[x.index(i)+1]\n",
    "            except:\n",
    "                seating_capacity = np.nan\n",
    "        elif i == 'Fuel tank capacity':\n",
    "            try:\n",
    "                fuel_tank_capacity = x[x.index(i)+1]\n",
    "            except:\n",
    "                fuel_tank_capacity = np.nan\n",
    "        elif i == 'Max power':\n",
    "            try:\n",
    "                max_power = x[x.index(i)+1]\n",
    "            except:\n",
    "                max_power = np.nan\n",
    "                \n",
    "    return mileage, ground_clearance, boot_space, seating_capacity, fuel_tank_capacity, max_power"
   ]
  },
  {
   "cell_type": "code",
   "execution_count": 51,
   "id": "2cb252f3",
   "metadata": {},
   "outputs": [
    {
     "data": {
      "text/plain": [
       "('17 kmpl', '205 mm', '425 litres', '5 units', '50 litres', '138 bhp')"
      ]
     },
     "execution_count": 51,
     "metadata": {},
     "output_type": "execute_result"
    }
   ],
   "source": [
    "spec(a)"
   ]
  },
  {
   "cell_type": "code",
   "execution_count": 52,
   "id": "8276dfb9",
   "metadata": {},
   "outputs": [
    {
     "data": {
      "text/plain": [
       "('17 kmpl', '205 mm', nan, '5 units', '50 litres', '138 bhp')"
      ]
     },
     "execution_count": 52,
     "metadata": {},
     "output_type": "execute_result"
    }
   ],
   "source": [
    "spec(b)"
   ]
  },
  {
   "cell_type": "code",
   "execution_count": 53,
   "id": "411e7890",
   "metadata": {},
   "outputs": [],
   "source": [
    "df[['mileage', 'ground_clearance', 'boot_space', 'seating_capacity', 'fuel_tank_capacity', 'max_power']] = df['specifications'].apply(lambda x: pd.Series(spec(x)))"
   ]
  },
  {
   "cell_type": "code",
   "execution_count": 54,
   "id": "ac628b8e",
   "metadata": {},
   "outputs": [
    {
     "data": {
      "text/html": [
       "<div>\n",
       "<style scoped>\n",
       "    .dataframe tbody tr th:only-of-type {\n",
       "        vertical-align: middle;\n",
       "    }\n",
       "\n",
       "    .dataframe tbody tr th {\n",
       "        vertical-align: top;\n",
       "    }\n",
       "\n",
       "    .dataframe thead th {\n",
       "        text-align: right;\n",
       "    }\n",
       "</style>\n",
       "<table border=\"1\" class=\"dataframe\">\n",
       "  <thead>\n",
       "    <tr style=\"text-align: right;\">\n",
       "      <th></th>\n",
       "      <th>brand</th>\n",
       "      <th>km_driven_(in_thousands)</th>\n",
       "      <th>fuel_type</th>\n",
       "      <th>transmission</th>\n",
       "      <th>specifications</th>\n",
       "      <th>price</th>\n",
       "      <th>model</th>\n",
       "      <th>manufacturer</th>\n",
       "      <th>mileage</th>\n",
       "      <th>ground_clearance</th>\n",
       "      <th>boot_space</th>\n",
       "      <th>seating_capacity</th>\n",
       "      <th>fuel_tank_capacity</th>\n",
       "      <th>max_power</th>\n",
       "    </tr>\n",
       "  </thead>\n",
       "  <tbody>\n",
       "    <tr>\n",
       "      <th>0</th>\n",
       "      <td>Tata Harrier XZ</td>\n",
       "      <td>38</td>\n",
       "      <td>Diesel</td>\n",
       "      <td>Manual</td>\n",
       "      <td>Mileage (ARAI)\\n17 kmpl\\nGround clearance\\n205...</td>\n",
       "      <td>15.65</td>\n",
       "      <td>2019</td>\n",
       "      <td>Tata</td>\n",
       "      <td>17 kmpl</td>\n",
       "      <td>205 mm</td>\n",
       "      <td>425 litres</td>\n",
       "      <td>5 units</td>\n",
       "      <td>50 litres</td>\n",
       "      <td>138 bhp</td>\n",
       "    </tr>\n",
       "    <tr>\n",
       "      <th>1</th>\n",
       "      <td>Maruti Suzuki Baleno Zeta Petrol</td>\n",
       "      <td>25</td>\n",
       "      <td>Petrol</td>\n",
       "      <td>Manual</td>\n",
       "      <td>Mileage (ARAI)\\n21.01 kmpl\\nGround clearance\\n...</td>\n",
       "      <td>7.85</td>\n",
       "      <td>2019</td>\n",
       "      <td>Maruti Suzuki</td>\n",
       "      <td>21.01 kmpl</td>\n",
       "      <td>170 mm</td>\n",
       "      <td>339 litres</td>\n",
       "      <td>5 units</td>\n",
       "      <td>37 litres</td>\n",
       "      <td>81.80 bhp</td>\n",
       "    </tr>\n",
       "    <tr>\n",
       "      <th>2</th>\n",
       "      <td>Mahindra XUV 300 W6 AMT Diesel</td>\n",
       "      <td>51</td>\n",
       "      <td>Diesel</td>\n",
       "      <td>Automatic</td>\n",
       "      <td>Mileage (ARAI)\\n20 kmpl\\nGround clearance\\n180...</td>\n",
       "      <td>11.41</td>\n",
       "      <td>2021</td>\n",
       "      <td>Mahindra</td>\n",
       "      <td>20 kmpl</td>\n",
       "      <td>180 mm</td>\n",
       "      <td>259 litres</td>\n",
       "      <td>5 units</td>\n",
       "      <td>42 litres</td>\n",
       "      <td>115 bhp</td>\n",
       "    </tr>\n",
       "    <tr>\n",
       "      <th>3</th>\n",
       "      <td>Tata Nexon XZA Plus AMT Diesel</td>\n",
       "      <td>54</td>\n",
       "      <td>Diesel</td>\n",
       "      <td>Automatic</td>\n",
       "      <td>Mileage (ARAI)\\n21.5 kmpl\\nBoot space\\n350 lit...</td>\n",
       "      <td>9.64</td>\n",
       "      <td>2019</td>\n",
       "      <td>Tata</td>\n",
       "      <td>21.5 kmpl</td>\n",
       "      <td>NaN</td>\n",
       "      <td>350 litres</td>\n",
       "      <td>5 units</td>\n",
       "      <td>44 litres</td>\n",
       "      <td>NaN</td>\n",
       "    </tr>\n",
       "    <tr>\n",
       "      <th>4</th>\n",
       "      <td>Ford Freestyle Titanium 1.2</td>\n",
       "      <td>18</td>\n",
       "      <td>Petrol</td>\n",
       "      <td>Manual</td>\n",
       "      <td>Mileage (ARAI)\\n18.5 kmpl\\nBoot space\\n257 lit...</td>\n",
       "      <td>6.57</td>\n",
       "      <td>2019</td>\n",
       "      <td>Ford</td>\n",
       "      <td>18.5 kmpl</td>\n",
       "      <td>NaN</td>\n",
       "      <td>257 litres</td>\n",
       "      <td>5 units</td>\n",
       "      <td>42 litres</td>\n",
       "      <td>94.93 bhp</td>\n",
       "    </tr>\n",
       "  </tbody>\n",
       "</table>\n",
       "</div>"
      ],
      "text/plain": [
       "                              brand  km_driven_(in_thousands) fuel_type  \\\n",
       "0                   Tata Harrier XZ                        38    Diesel   \n",
       "1  Maruti Suzuki Baleno Zeta Petrol                        25    Petrol   \n",
       "2    Mahindra XUV 300 W6 AMT Diesel                        51    Diesel   \n",
       "3    Tata Nexon XZA Plus AMT Diesel                        54    Diesel   \n",
       "4       Ford Freestyle Titanium 1.2                        18    Petrol   \n",
       "\n",
       "  transmission                                     specifications  price  \\\n",
       "0       Manual  Mileage (ARAI)\\n17 kmpl\\nGround clearance\\n205...  15.65   \n",
       "1       Manual  Mileage (ARAI)\\n21.01 kmpl\\nGround clearance\\n...   7.85   \n",
       "2    Automatic  Mileage (ARAI)\\n20 kmpl\\nGround clearance\\n180...  11.41   \n",
       "3    Automatic  Mileage (ARAI)\\n21.5 kmpl\\nBoot space\\n350 lit...   9.64   \n",
       "4       Manual  Mileage (ARAI)\\n18.5 kmpl\\nBoot space\\n257 lit...   6.57   \n",
       "\n",
       "   model   manufacturer     mileage ground_clearance  boot_space  \\\n",
       "0   2019           Tata     17 kmpl           205 mm  425 litres   \n",
       "1   2019  Maruti Suzuki  21.01 kmpl           170 mm  339 litres   \n",
       "2   2021       Mahindra     20 kmpl           180 mm  259 litres   \n",
       "3   2019           Tata   21.5 kmpl              NaN  350 litres   \n",
       "4   2019           Ford   18.5 kmpl              NaN  257 litres   \n",
       "\n",
       "  seating_capacity fuel_tank_capacity  max_power  \n",
       "0          5 units          50 litres    138 bhp  \n",
       "1          5 units          37 litres  81.80 bhp  \n",
       "2          5 units          42 litres    115 bhp  \n",
       "3          5 units          44 litres        NaN  \n",
       "4          5 units          42 litres  94.93 bhp  "
      ]
     },
     "execution_count": 54,
     "metadata": {},
     "output_type": "execute_result"
    }
   ],
   "source": [
    "df.head()"
   ]
  },
  {
   "cell_type": "code",
   "execution_count": 55,
   "id": "f86481b2",
   "metadata": {},
   "outputs": [
    {
     "data": {
      "text/plain": [
       "brand                         0\n",
       "km_driven_(in_thousands)      0\n",
       "fuel_type                     0\n",
       "transmission                  0\n",
       "specifications                0\n",
       "price                         0\n",
       "model                         0\n",
       "manufacturer                  0\n",
       "mileage                     112\n",
       "ground_clearance            196\n",
       "boot_space                  276\n",
       "seating_capacity             23\n",
       "fuel_tank_capacity           22\n",
       "max_power                   343\n",
       "dtype: int64"
      ]
     },
     "execution_count": 55,
     "metadata": {},
     "output_type": "execute_result"
    }
   ],
   "source": [
    "df.isnull().sum()"
   ]
  },
  {
   "cell_type": "code",
   "execution_count": 56,
   "id": "e89440ea",
   "metadata": {},
   "outputs": [],
   "source": [
    "df.dropna(inplace=True)"
   ]
  },
  {
   "cell_type": "code",
   "execution_count": 57,
   "id": "650c989c",
   "metadata": {},
   "outputs": [
    {
     "data": {
      "text/plain": [
       "(1203, 14)"
      ]
     },
     "execution_count": 57,
     "metadata": {},
     "output_type": "execute_result"
    }
   ],
   "source": [
    "df.shape"
   ]
  },
  {
   "cell_type": "code",
   "execution_count": 58,
   "id": "bcb5ad04",
   "metadata": {},
   "outputs": [],
   "source": [
    "df.drop('specifications', axis=1, inplace=True)"
   ]
  },
  {
   "cell_type": "markdown",
   "id": "97bb4674",
   "metadata": {},
   "source": [
    "# CLEANING ALL SPECIFICATIONS COLUMNS & ASSIGNING PROPER DATA TYPE"
   ]
  },
  {
   "cell_type": "code",
   "execution_count": 59,
   "id": "a7c380e7",
   "metadata": {},
   "outputs": [
    {
     "data": {
      "text/html": [
       "<div>\n",
       "<style scoped>\n",
       "    .dataframe tbody tr th:only-of-type {\n",
       "        vertical-align: middle;\n",
       "    }\n",
       "\n",
       "    .dataframe tbody tr th {\n",
       "        vertical-align: top;\n",
       "    }\n",
       "\n",
       "    .dataframe thead th {\n",
       "        text-align: right;\n",
       "    }\n",
       "</style>\n",
       "<table border=\"1\" class=\"dataframe\">\n",
       "  <thead>\n",
       "    <tr style=\"text-align: right;\">\n",
       "      <th></th>\n",
       "      <th>brand</th>\n",
       "      <th>km_driven_(in_thousands)</th>\n",
       "      <th>fuel_type</th>\n",
       "      <th>transmission</th>\n",
       "      <th>price</th>\n",
       "      <th>model</th>\n",
       "      <th>manufacturer</th>\n",
       "      <th>mileage</th>\n",
       "      <th>ground_clearance</th>\n",
       "      <th>boot_space</th>\n",
       "      <th>seating_capacity</th>\n",
       "      <th>fuel_tank_capacity</th>\n",
       "      <th>max_power</th>\n",
       "    </tr>\n",
       "  </thead>\n",
       "  <tbody>\n",
       "    <tr>\n",
       "      <th>0</th>\n",
       "      <td>Tata Harrier XZ</td>\n",
       "      <td>38</td>\n",
       "      <td>Diesel</td>\n",
       "      <td>Manual</td>\n",
       "      <td>15.65</td>\n",
       "      <td>2019</td>\n",
       "      <td>Tata</td>\n",
       "      <td>17 kmpl</td>\n",
       "      <td>205 mm</td>\n",
       "      <td>425 litres</td>\n",
       "      <td>5 units</td>\n",
       "      <td>50 litres</td>\n",
       "      <td>138 bhp</td>\n",
       "    </tr>\n",
       "    <tr>\n",
       "      <th>1</th>\n",
       "      <td>Maruti Suzuki Baleno Zeta Petrol</td>\n",
       "      <td>25</td>\n",
       "      <td>Petrol</td>\n",
       "      <td>Manual</td>\n",
       "      <td>7.85</td>\n",
       "      <td>2019</td>\n",
       "      <td>Maruti Suzuki</td>\n",
       "      <td>21.01 kmpl</td>\n",
       "      <td>170 mm</td>\n",
       "      <td>339 litres</td>\n",
       "      <td>5 units</td>\n",
       "      <td>37 litres</td>\n",
       "      <td>81.80 bhp</td>\n",
       "    </tr>\n",
       "  </tbody>\n",
       "</table>\n",
       "</div>"
      ],
      "text/plain": [
       "                              brand  km_driven_(in_thousands) fuel_type  \\\n",
       "0                   Tata Harrier XZ                        38    Diesel   \n",
       "1  Maruti Suzuki Baleno Zeta Petrol                        25    Petrol   \n",
       "\n",
       "  transmission  price  model   manufacturer     mileage ground_clearance  \\\n",
       "0       Manual  15.65   2019           Tata     17 kmpl           205 mm   \n",
       "1       Manual   7.85   2019  Maruti Suzuki  21.01 kmpl           170 mm   \n",
       "\n",
       "   boot_space seating_capacity fuel_tank_capacity  max_power  \n",
       "0  425 litres          5 units          50 litres    138 bhp  \n",
       "1  339 litres          5 units          37 litres  81.80 bhp  "
      ]
     },
     "execution_count": 59,
     "metadata": {},
     "output_type": "execute_result"
    }
   ],
   "source": [
    "df.head(2)"
   ]
  },
  {
   "cell_type": "code",
   "execution_count": 60,
   "id": "5342033f",
   "metadata": {},
   "outputs": [],
   "source": [
    "specifications = ['mileage', 'ground_clearance', 'boot_space', 'seating_capacity', 'fuel_tank_capacity', 'max_power']"
   ]
  },
  {
   "cell_type": "code",
   "execution_count": 61,
   "id": "fe88f988",
   "metadata": {},
   "outputs": [],
   "source": [
    "def magnitude(x):\n",
    "    x = x.split()[0]\n",
    "    return x"
   ]
  },
  {
   "cell_type": "code",
   "execution_count": 62,
   "id": "1e62b343",
   "metadata": {},
   "outputs": [],
   "source": [
    "for i in specifications:\n",
    "    df[i] = df[i].apply(lambda x: magnitude(x))"
   ]
  },
  {
   "cell_type": "code",
   "execution_count": 63,
   "id": "007b84bd",
   "metadata": {},
   "outputs": [
    {
     "data": {
      "text/html": [
       "<div>\n",
       "<style scoped>\n",
       "    .dataframe tbody tr th:only-of-type {\n",
       "        vertical-align: middle;\n",
       "    }\n",
       "\n",
       "    .dataframe tbody tr th {\n",
       "        vertical-align: top;\n",
       "    }\n",
       "\n",
       "    .dataframe thead th {\n",
       "        text-align: right;\n",
       "    }\n",
       "</style>\n",
       "<table border=\"1\" class=\"dataframe\">\n",
       "  <thead>\n",
       "    <tr style=\"text-align: right;\">\n",
       "      <th></th>\n",
       "      <th>brand</th>\n",
       "      <th>km_driven_(in_thousands)</th>\n",
       "      <th>fuel_type</th>\n",
       "      <th>transmission</th>\n",
       "      <th>price</th>\n",
       "      <th>model</th>\n",
       "      <th>manufacturer</th>\n",
       "      <th>mileage</th>\n",
       "      <th>ground_clearance</th>\n",
       "      <th>boot_space</th>\n",
       "      <th>seating_capacity</th>\n",
       "      <th>fuel_tank_capacity</th>\n",
       "      <th>max_power</th>\n",
       "    </tr>\n",
       "  </thead>\n",
       "  <tbody>\n",
       "    <tr>\n",
       "      <th>0</th>\n",
       "      <td>Tata Harrier XZ</td>\n",
       "      <td>38</td>\n",
       "      <td>Diesel</td>\n",
       "      <td>Manual</td>\n",
       "      <td>15.65</td>\n",
       "      <td>2019</td>\n",
       "      <td>Tata</td>\n",
       "      <td>17</td>\n",
       "      <td>205</td>\n",
       "      <td>425</td>\n",
       "      <td>5</td>\n",
       "      <td>50</td>\n",
       "      <td>138</td>\n",
       "    </tr>\n",
       "    <tr>\n",
       "      <th>1</th>\n",
       "      <td>Maruti Suzuki Baleno Zeta Petrol</td>\n",
       "      <td>25</td>\n",
       "      <td>Petrol</td>\n",
       "      <td>Manual</td>\n",
       "      <td>7.85</td>\n",
       "      <td>2019</td>\n",
       "      <td>Maruti Suzuki</td>\n",
       "      <td>21.01</td>\n",
       "      <td>170</td>\n",
       "      <td>339</td>\n",
       "      <td>5</td>\n",
       "      <td>37</td>\n",
       "      <td>81.80</td>\n",
       "    </tr>\n",
       "  </tbody>\n",
       "</table>\n",
       "</div>"
      ],
      "text/plain": [
       "                              brand  km_driven_(in_thousands) fuel_type  \\\n",
       "0                   Tata Harrier XZ                        38    Diesel   \n",
       "1  Maruti Suzuki Baleno Zeta Petrol                        25    Petrol   \n",
       "\n",
       "  transmission  price  model   manufacturer mileage ground_clearance  \\\n",
       "0       Manual  15.65   2019           Tata      17              205   \n",
       "1       Manual   7.85   2019  Maruti Suzuki   21.01              170   \n",
       "\n",
       "  boot_space seating_capacity fuel_tank_capacity max_power  \n",
       "0        425                5                 50       138  \n",
       "1        339                5                 37     81.80  "
      ]
     },
     "execution_count": 63,
     "metadata": {},
     "output_type": "execute_result"
    }
   ],
   "source": [
    "df.head(2)"
   ]
  },
  {
   "cell_type": "code",
   "execution_count": 64,
   "id": "0b96e76a",
   "metadata": {},
   "outputs": [],
   "source": [
    "for i in specifications:\n",
    "    df[i] = pd.to_numeric(df[i], errors = 'ignore')"
   ]
  },
  {
   "cell_type": "code",
   "execution_count": 65,
   "id": "60778c68",
   "metadata": {},
   "outputs": [
    {
     "data": {
      "text/plain": [
       "brand                        object\n",
       "km_driven_(in_thousands)      int64\n",
       "fuel_type                    object\n",
       "transmission                 object\n",
       "price                       float64\n",
       "model                         int64\n",
       "manufacturer                 object\n",
       "mileage                     float64\n",
       "ground_clearance              int64\n",
       "boot_space                    int64\n",
       "seating_capacity              int64\n",
       "fuel_tank_capacity            int64\n",
       "max_power                   float64\n",
       "dtype: object"
      ]
     },
     "execution_count": 65,
     "metadata": {},
     "output_type": "execute_result"
    }
   ],
   "source": [
    "df.dtypes"
   ]
  },
  {
   "cell_type": "code",
   "execution_count": 66,
   "id": "2177acc6",
   "metadata": {},
   "outputs": [],
   "source": [
    "df.rename(columns={'km_driven_(in_thousands)':'km driven (in thousands)','price':'price (in ₹)', 'model':'model (year)', 'mileage':'mileage (in kmpl)', 'ground_clearance':'ground clearance (in mm)','boot_space':'boot space (in litres)', 'seating_capacity':'seating capacity (units)', 'fuel_tank_capacity':'fuel tank capacity (in litres)', 'max_power':'max power (in bhp)'}, inplace=True)"
   ]
  },
  {
   "cell_type": "code",
   "execution_count": 67,
   "id": "13bbb353",
   "metadata": {},
   "outputs": [
    {
     "data": {
      "text/html": [
       "<div>\n",
       "<style scoped>\n",
       "    .dataframe tbody tr th:only-of-type {\n",
       "        vertical-align: middle;\n",
       "    }\n",
       "\n",
       "    .dataframe tbody tr th {\n",
       "        vertical-align: top;\n",
       "    }\n",
       "\n",
       "    .dataframe thead th {\n",
       "        text-align: right;\n",
       "    }\n",
       "</style>\n",
       "<table border=\"1\" class=\"dataframe\">\n",
       "  <thead>\n",
       "    <tr style=\"text-align: right;\">\n",
       "      <th></th>\n",
       "      <th>brand</th>\n",
       "      <th>km driven (in thousands)</th>\n",
       "      <th>fuel_type</th>\n",
       "      <th>transmission</th>\n",
       "      <th>price (in ₹)</th>\n",
       "      <th>model (year)</th>\n",
       "      <th>manufacturer</th>\n",
       "      <th>mileage (in kmpl)</th>\n",
       "      <th>ground clearance (in mm)</th>\n",
       "      <th>boot space (in litres)</th>\n",
       "      <th>seating capacity (units)</th>\n",
       "      <th>fuel tank capacity (in litres)</th>\n",
       "      <th>max power (in bhp)</th>\n",
       "    </tr>\n",
       "  </thead>\n",
       "  <tbody>\n",
       "    <tr>\n",
       "      <th>0</th>\n",
       "      <td>Tata Harrier XZ</td>\n",
       "      <td>38</td>\n",
       "      <td>Diesel</td>\n",
       "      <td>Manual</td>\n",
       "      <td>15.65</td>\n",
       "      <td>2019</td>\n",
       "      <td>Tata</td>\n",
       "      <td>17.00</td>\n",
       "      <td>205</td>\n",
       "      <td>425</td>\n",
       "      <td>5</td>\n",
       "      <td>50</td>\n",
       "      <td>138.0</td>\n",
       "    </tr>\n",
       "    <tr>\n",
       "      <th>1</th>\n",
       "      <td>Maruti Suzuki Baleno Zeta Petrol</td>\n",
       "      <td>25</td>\n",
       "      <td>Petrol</td>\n",
       "      <td>Manual</td>\n",
       "      <td>7.85</td>\n",
       "      <td>2019</td>\n",
       "      <td>Maruti Suzuki</td>\n",
       "      <td>21.01</td>\n",
       "      <td>170</td>\n",
       "      <td>339</td>\n",
       "      <td>5</td>\n",
       "      <td>37</td>\n",
       "      <td>81.8</td>\n",
       "    </tr>\n",
       "  </tbody>\n",
       "</table>\n",
       "</div>"
      ],
      "text/plain": [
       "                              brand  km driven (in thousands) fuel_type  \\\n",
       "0                   Tata Harrier XZ                        38    Diesel   \n",
       "1  Maruti Suzuki Baleno Zeta Petrol                        25    Petrol   \n",
       "\n",
       "  transmission  price (in ₹)  model (year)   manufacturer  mileage (in kmpl)  \\\n",
       "0       Manual         15.65          2019           Tata              17.00   \n",
       "1       Manual          7.85          2019  Maruti Suzuki              21.01   \n",
       "\n",
       "   ground clearance (in mm)  boot space (in litres)  seating capacity (units)  \\\n",
       "0                       205                     425                         5   \n",
       "1                       170                     339                         5   \n",
       "\n",
       "   fuel tank capacity (in litres)  max power (in bhp)  \n",
       "0                              50               138.0  \n",
       "1                              37                81.8  "
      ]
     },
     "execution_count": 67,
     "metadata": {},
     "output_type": "execute_result"
    }
   ],
   "source": [
    "df.head(2)"
   ]
  },
  {
   "cell_type": "code",
   "execution_count": 68,
   "id": "82082766",
   "metadata": {},
   "outputs": [],
   "source": [
    "df_cleaned = df"
   ]
  },
  {
   "cell_type": "code",
   "execution_count": 69,
   "id": "58fdcedb",
   "metadata": {},
   "outputs": [
    {
     "data": {
      "text/html": [
       "<div>\n",
       "<style scoped>\n",
       "    .dataframe tbody tr th:only-of-type {\n",
       "        vertical-align: middle;\n",
       "    }\n",
       "\n",
       "    .dataframe tbody tr th {\n",
       "        vertical-align: top;\n",
       "    }\n",
       "\n",
       "    .dataframe thead th {\n",
       "        text-align: right;\n",
       "    }\n",
       "</style>\n",
       "<table border=\"1\" class=\"dataframe\">\n",
       "  <thead>\n",
       "    <tr style=\"text-align: right;\">\n",
       "      <th></th>\n",
       "      <th>brand</th>\n",
       "      <th>km driven (in thousands)</th>\n",
       "      <th>fuel_type</th>\n",
       "      <th>transmission</th>\n",
       "      <th>price (in ₹)</th>\n",
       "      <th>model (year)</th>\n",
       "      <th>manufacturer</th>\n",
       "      <th>mileage (in kmpl)</th>\n",
       "      <th>ground clearance (in mm)</th>\n",
       "      <th>boot space (in litres)</th>\n",
       "      <th>seating capacity (units)</th>\n",
       "      <th>fuel tank capacity (in litres)</th>\n",
       "      <th>max power (in bhp)</th>\n",
       "    </tr>\n",
       "  </thead>\n",
       "  <tbody>\n",
       "    <tr>\n",
       "      <th>0</th>\n",
       "      <td>Tata Harrier XZ</td>\n",
       "      <td>38</td>\n",
       "      <td>Diesel</td>\n",
       "      <td>Manual</td>\n",
       "      <td>15.65</td>\n",
       "      <td>2019</td>\n",
       "      <td>Tata</td>\n",
       "      <td>17.00</td>\n",
       "      <td>205</td>\n",
       "      <td>425</td>\n",
       "      <td>5</td>\n",
       "      <td>50</td>\n",
       "      <td>138.0</td>\n",
       "    </tr>\n",
       "    <tr>\n",
       "      <th>1</th>\n",
       "      <td>Maruti Suzuki Baleno Zeta Petrol</td>\n",
       "      <td>25</td>\n",
       "      <td>Petrol</td>\n",
       "      <td>Manual</td>\n",
       "      <td>7.85</td>\n",
       "      <td>2019</td>\n",
       "      <td>Maruti Suzuki</td>\n",
       "      <td>21.01</td>\n",
       "      <td>170</td>\n",
       "      <td>339</td>\n",
       "      <td>5</td>\n",
       "      <td>37</td>\n",
       "      <td>81.8</td>\n",
       "    </tr>\n",
       "  </tbody>\n",
       "</table>\n",
       "</div>"
      ],
      "text/plain": [
       "                              brand  km driven (in thousands) fuel_type  \\\n",
       "0                   Tata Harrier XZ                        38    Diesel   \n",
       "1  Maruti Suzuki Baleno Zeta Petrol                        25    Petrol   \n",
       "\n",
       "  transmission  price (in ₹)  model (year)   manufacturer  mileage (in kmpl)  \\\n",
       "0       Manual         15.65          2019           Tata              17.00   \n",
       "1       Manual          7.85          2019  Maruti Suzuki              21.01   \n",
       "\n",
       "   ground clearance (in mm)  boot space (in litres)  seating capacity (units)  \\\n",
       "0                       205                     425                         5   \n",
       "1                       170                     339                         5   \n",
       "\n",
       "   fuel tank capacity (in litres)  max power (in bhp)  \n",
       "0                              50               138.0  \n",
       "1                              37                81.8  "
      ]
     },
     "execution_count": 69,
     "metadata": {},
     "output_type": "execute_result"
    }
   ],
   "source": [
    "df_cleaned.head(2)"
   ]
  },
  {
   "cell_type": "code",
   "execution_count": 70,
   "id": "3ea95e41",
   "metadata": {},
   "outputs": [],
   "source": [
    "df_cleaned = df_cleaned[['manufacturer','brand','model (year)','km driven (in thousands)','mileage (in kmpl)','seating capacity (units)', 'fuel_type', 'transmission', \"ground clearance (in mm)\", \"boot space (in litres)\", \"fuel tank capacity (in litres)\", \"max power (in bhp)\", \"price (in ₹)\"]]"
   ]
  },
  {
   "cell_type": "code",
   "execution_count": 99,
   "id": "a1acb790",
   "metadata": {},
   "outputs": [],
   "source": [
    "df_cleaned.to_csv('sql_project.csv',index=False)"
   ]
  },
  {
   "cell_type": "markdown",
   "id": "7742338c",
   "metadata": {},
   "source": [
    "# DROPING IRRELEVANT COLUMNS | ENCODING | SCALING"
   ]
  },
  {
   "cell_type": "code",
   "execution_count": 72,
   "id": "38b0da7a",
   "metadata": {},
   "outputs": [],
   "source": [
    "df.drop(['brand','manufacturer'], axis = 1, inplace = True)"
   ]
  },
  {
   "cell_type": "code",
   "execution_count": 73,
   "id": "6d6cce25",
   "metadata": {},
   "outputs": [
    {
     "data": {
      "text/html": [
       "<div>\n",
       "<style scoped>\n",
       "    .dataframe tbody tr th:only-of-type {\n",
       "        vertical-align: middle;\n",
       "    }\n",
       "\n",
       "    .dataframe tbody tr th {\n",
       "        vertical-align: top;\n",
       "    }\n",
       "\n",
       "    .dataframe thead th {\n",
       "        text-align: right;\n",
       "    }\n",
       "</style>\n",
       "<table border=\"1\" class=\"dataframe\">\n",
       "  <thead>\n",
       "    <tr style=\"text-align: right;\">\n",
       "      <th></th>\n",
       "      <th>km driven (in thousands)</th>\n",
       "      <th>fuel_type</th>\n",
       "      <th>transmission</th>\n",
       "      <th>price (in ₹)</th>\n",
       "      <th>model (year)</th>\n",
       "      <th>mileage (in kmpl)</th>\n",
       "      <th>ground clearance (in mm)</th>\n",
       "      <th>boot space (in litres)</th>\n",
       "      <th>seating capacity (units)</th>\n",
       "      <th>fuel tank capacity (in litres)</th>\n",
       "      <th>max power (in bhp)</th>\n",
       "    </tr>\n",
       "  </thead>\n",
       "  <tbody>\n",
       "    <tr>\n",
       "      <th>0</th>\n",
       "      <td>38</td>\n",
       "      <td>Diesel</td>\n",
       "      <td>Manual</td>\n",
       "      <td>15.65</td>\n",
       "      <td>2019</td>\n",
       "      <td>17.00</td>\n",
       "      <td>205</td>\n",
       "      <td>425</td>\n",
       "      <td>5</td>\n",
       "      <td>50</td>\n",
       "      <td>138.0</td>\n",
       "    </tr>\n",
       "    <tr>\n",
       "      <th>1</th>\n",
       "      <td>25</td>\n",
       "      <td>Petrol</td>\n",
       "      <td>Manual</td>\n",
       "      <td>7.85</td>\n",
       "      <td>2019</td>\n",
       "      <td>21.01</td>\n",
       "      <td>170</td>\n",
       "      <td>339</td>\n",
       "      <td>5</td>\n",
       "      <td>37</td>\n",
       "      <td>81.8</td>\n",
       "    </tr>\n",
       "  </tbody>\n",
       "</table>\n",
       "</div>"
      ],
      "text/plain": [
       "   km driven (in thousands) fuel_type transmission  price (in ₹)  \\\n",
       "0                        38    Diesel       Manual         15.65   \n",
       "1                        25    Petrol       Manual          7.85   \n",
       "\n",
       "   model (year)  mileage (in kmpl)  ground clearance (in mm)  \\\n",
       "0          2019              17.00                       205   \n",
       "1          2019              21.01                       170   \n",
       "\n",
       "   boot space (in litres)  seating capacity (units)  \\\n",
       "0                     425                         5   \n",
       "1                     339                         5   \n",
       "\n",
       "   fuel tank capacity (in litres)  max power (in bhp)  \n",
       "0                              50               138.0  \n",
       "1                              37                81.8  "
      ]
     },
     "execution_count": 73,
     "metadata": {},
     "output_type": "execute_result"
    }
   ],
   "source": [
    "df.head(2)"
   ]
  },
  {
   "cell_type": "code",
   "execution_count": 74,
   "id": "3082eedc",
   "metadata": {},
   "outputs": [],
   "source": [
    "cat = []\n",
    "num = []\n",
    "\n",
    "for i in df.columns:\n",
    "    if df[i].dtypes == \"O\":\n",
    "        cat.append(i)\n",
    "    else:\n",
    "        num.append(i)"
   ]
  },
  {
   "cell_type": "code",
   "execution_count": 75,
   "id": "0c3055e8",
   "metadata": {},
   "outputs": [
    {
     "data": {
      "text/plain": [
       "['fuel_type', 'transmission']"
      ]
     },
     "execution_count": 75,
     "metadata": {},
     "output_type": "execute_result"
    }
   ],
   "source": [
    "cat"
   ]
  },
  {
   "cell_type": "code",
   "execution_count": 76,
   "id": "ca73a826",
   "metadata": {},
   "outputs": [],
   "source": [
    "df = pd.get_dummies(data = df, columns= cat)"
   ]
  },
  {
   "cell_type": "code",
   "execution_count": 77,
   "id": "45ebc7a9",
   "metadata": {},
   "outputs": [],
   "source": [
    "df = df[['model (year)','km driven (in thousands)','mileage (in kmpl)','seating capacity (units)', 'fuel_type_Petrol','fuel_type_Diesel','fuel_type_Petrol+cng', 'transmission_Automatic', 'transmission_Manual','ground clearance (in mm)', 'boot space (in litres)','fuel tank capacity (in litres)', 'max power (in bhp)', 'price (in ₹)']]"
   ]
  },
  {
   "cell_type": "code",
   "execution_count": 78,
   "id": "114b593d",
   "metadata": {},
   "outputs": [
    {
     "data": {
      "text/html": [
       "<div>\n",
       "<style scoped>\n",
       "    .dataframe tbody tr th:only-of-type {\n",
       "        vertical-align: middle;\n",
       "    }\n",
       "\n",
       "    .dataframe tbody tr th {\n",
       "        vertical-align: top;\n",
       "    }\n",
       "\n",
       "    .dataframe thead th {\n",
       "        text-align: right;\n",
       "    }\n",
       "</style>\n",
       "<table border=\"1\" class=\"dataframe\">\n",
       "  <thead>\n",
       "    <tr style=\"text-align: right;\">\n",
       "      <th></th>\n",
       "      <th>model (year)</th>\n",
       "      <th>km driven (in thousands)</th>\n",
       "      <th>mileage (in kmpl)</th>\n",
       "      <th>seating capacity (units)</th>\n",
       "      <th>fuel_type_Petrol</th>\n",
       "      <th>fuel_type_Diesel</th>\n",
       "      <th>fuel_type_Petrol+cng</th>\n",
       "      <th>transmission_Automatic</th>\n",
       "      <th>transmission_Manual</th>\n",
       "      <th>ground clearance (in mm)</th>\n",
       "      <th>boot space (in litres)</th>\n",
       "      <th>fuel tank capacity (in litres)</th>\n",
       "      <th>max power (in bhp)</th>\n",
       "      <th>price (in ₹)</th>\n",
       "    </tr>\n",
       "  </thead>\n",
       "  <tbody>\n",
       "    <tr>\n",
       "      <th>0</th>\n",
       "      <td>2019</td>\n",
       "      <td>38</td>\n",
       "      <td>17.00</td>\n",
       "      <td>5</td>\n",
       "      <td>0</td>\n",
       "      <td>1</td>\n",
       "      <td>0</td>\n",
       "      <td>0</td>\n",
       "      <td>1</td>\n",
       "      <td>205</td>\n",
       "      <td>425</td>\n",
       "      <td>50</td>\n",
       "      <td>138.0</td>\n",
       "      <td>15.65</td>\n",
       "    </tr>\n",
       "    <tr>\n",
       "      <th>1</th>\n",
       "      <td>2019</td>\n",
       "      <td>25</td>\n",
       "      <td>21.01</td>\n",
       "      <td>5</td>\n",
       "      <td>1</td>\n",
       "      <td>0</td>\n",
       "      <td>0</td>\n",
       "      <td>0</td>\n",
       "      <td>1</td>\n",
       "      <td>170</td>\n",
       "      <td>339</td>\n",
       "      <td>37</td>\n",
       "      <td>81.8</td>\n",
       "      <td>7.85</td>\n",
       "    </tr>\n",
       "    <tr>\n",
       "      <th>2</th>\n",
       "      <td>2021</td>\n",
       "      <td>51</td>\n",
       "      <td>20.00</td>\n",
       "      <td>5</td>\n",
       "      <td>0</td>\n",
       "      <td>1</td>\n",
       "      <td>0</td>\n",
       "      <td>1</td>\n",
       "      <td>0</td>\n",
       "      <td>180</td>\n",
       "      <td>259</td>\n",
       "      <td>42</td>\n",
       "      <td>115.0</td>\n",
       "      <td>11.41</td>\n",
       "    </tr>\n",
       "    <tr>\n",
       "      <th>5</th>\n",
       "      <td>2014</td>\n",
       "      <td>20</td>\n",
       "      <td>25.40</td>\n",
       "      <td>4</td>\n",
       "      <td>1</td>\n",
       "      <td>0</td>\n",
       "      <td>0</td>\n",
       "      <td>0</td>\n",
       "      <td>1</td>\n",
       "      <td>180</td>\n",
       "      <td>80</td>\n",
       "      <td>15</td>\n",
       "      <td>37.5</td>\n",
       "      <td>2.12</td>\n",
       "    </tr>\n",
       "    <tr>\n",
       "      <th>7</th>\n",
       "      <td>2016</td>\n",
       "      <td>40</td>\n",
       "      <td>19.56</td>\n",
       "      <td>5</td>\n",
       "      <td>1</td>\n",
       "      <td>0</td>\n",
       "      <td>0</td>\n",
       "      <td>1</td>\n",
       "      <td>0</td>\n",
       "      <td>170</td>\n",
       "      <td>339</td>\n",
       "      <td>37</td>\n",
       "      <td>81.8</td>\n",
       "      <td>7.21</td>\n",
       "    </tr>\n",
       "  </tbody>\n",
       "</table>\n",
       "</div>"
      ],
      "text/plain": [
       "   model (year)  km driven (in thousands)  mileage (in kmpl)  \\\n",
       "0          2019                        38              17.00   \n",
       "1          2019                        25              21.01   \n",
       "2          2021                        51              20.00   \n",
       "5          2014                        20              25.40   \n",
       "7          2016                        40              19.56   \n",
       "\n",
       "   seating capacity (units)  fuel_type_Petrol  fuel_type_Diesel  \\\n",
       "0                         5                 0                 1   \n",
       "1                         5                 1                 0   \n",
       "2                         5                 0                 1   \n",
       "5                         4                 1                 0   \n",
       "7                         5                 1                 0   \n",
       "\n",
       "   fuel_type_Petrol+cng  transmission_Automatic  transmission_Manual  \\\n",
       "0                     0                       0                    1   \n",
       "1                     0                       0                    1   \n",
       "2                     0                       1                    0   \n",
       "5                     0                       0                    1   \n",
       "7                     0                       1                    0   \n",
       "\n",
       "   ground clearance (in mm)  boot space (in litres)  \\\n",
       "0                       205                     425   \n",
       "1                       170                     339   \n",
       "2                       180                     259   \n",
       "5                       180                      80   \n",
       "7                       170                     339   \n",
       "\n",
       "   fuel tank capacity (in litres)  max power (in bhp)  price (in ₹)  \n",
       "0                              50               138.0         15.65  \n",
       "1                              37                81.8          7.85  \n",
       "2                              42               115.0         11.41  \n",
       "5                              15                37.5          2.12  \n",
       "7                              37                81.8          7.21  "
      ]
     },
     "execution_count": 78,
     "metadata": {},
     "output_type": "execute_result"
    }
   ],
   "source": [
    "df.head()"
   ]
  },
  {
   "cell_type": "markdown",
   "id": "5d3f1b15",
   "metadata": {},
   "source": [
    "### SCALING"
   ]
  },
  {
   "cell_type": "code",
   "execution_count": 79,
   "id": "106e4de6",
   "metadata": {},
   "outputs": [],
   "source": [
    "# num"
   ]
  },
  {
   "cell_type": "code",
   "execution_count": 80,
   "id": "319638d6",
   "metadata": {},
   "outputs": [],
   "source": [
    "# num.remove('price (in ₹)')"
   ]
  },
  {
   "cell_type": "code",
   "execution_count": 81,
   "id": "6d0a7152",
   "metadata": {},
   "outputs": [],
   "source": [
    "# sc = StandardScaler()"
   ]
  },
  {
   "cell_type": "code",
   "execution_count": 82,
   "id": "952be8c5",
   "metadata": {},
   "outputs": [],
   "source": [
    "# df[num] = sc.fit_transform(df[num])"
   ]
  },
  {
   "cell_type": "code",
   "execution_count": 83,
   "id": "4e934bf9",
   "metadata": {},
   "outputs": [],
   "source": [
    "# df.head(2)"
   ]
  },
  {
   "cell_type": "markdown",
   "id": "ddbb8508",
   "metadata": {},
   "source": [
    "### ANALYSING CORRELATION BETWEEN DIFFERENT FEATURES"
   ]
  },
  {
   "cell_type": "code",
   "execution_count": 84,
   "id": "bd14f117",
   "metadata": {},
   "outputs": [
    {
     "data": {
      "text/plain": [
       "<AxesSubplot: >"
      ]
     },
     "execution_count": 84,
     "metadata": {},
     "output_type": "execute_result"
    },
    {
     "data": {
      "image/png": "[encoded data removed]",
      "text/plain": [
       "<Figure size 2500x1500 with 2 Axes>"
      ]
     },
     "metadata": {},
     "output_type": "display_data"
    }
   ],
   "source": [
    "plt.figure(figsize=(25,15))\n",
    "sns.heatmap(df.corr(), annot=True)"
   ]
  },
  {
   "cell_type": "markdown",
   "id": "44f27677",
   "metadata": {},
   "source": [
    "# MODEL PREPARATION"
   ]
  },
  {
   "cell_type": "code",
   "execution_count": 85,
   "id": "c2a2cb31",
   "metadata": {},
   "outputs": [],
   "source": [
    "x = df.drop('price (in ₹)', axis=1)\n",
    "y = df['price (in ₹)']"
   ]
  },
  {
   "cell_type": "code",
   "execution_count": 86,
   "id": "e83dd6d9",
   "metadata": {},
   "outputs": [],
   "source": [
    "x_train, x_test, y_train, y_test = train_test_split(x, y, test_size = 0.3, random_state=42)"
   ]
  },
  {
   "cell_type": "code",
   "execution_count": 87,
   "id": "82672592",
   "metadata": {},
   "outputs": [],
   "source": [
    "lr = LinearRegression()"
   ]
  },
  {
   "cell_type": "code",
   "execution_count": 88,
   "id": "44b0b40e",
   "metadata": {},
   "outputs": [
    {
     "data": {
      "text/html": [
       "<style>#sk-container-id-1 {color: black;background-color: white;}#sk-container-id-1 pre{padding: 0;}#sk-container-id-1 div.sk-toggleable {background-color: white;}#sk-container-id-1 label.sk-toggleable__label {cursor: pointer;display: block;width: 100%;margin-bottom: 0;padding: 0.3em;box-sizing: border-box;text-align: center;}#sk-container-id-1 label.sk-toggleable__label-arrow:before {content: \"▸\";float: left;margin-right: 0.25em;color: #696969;}#sk-container-id-1 label.sk-toggleable__label-arrow:hover:before {color: black;}#sk-container-id-1 div.sk-estimator:hover label.sk-toggleable__label-arrow:before {color: black;}#sk-container-id-1 div.sk-toggleable__content {max-height: 0;max-width: 0;overflow: hidden;text-align: left;background-color: #f0f8ff;}#sk-container-id-1 div.sk-toggleable__content pre {margin: 0.2em;color: black;border-radius: 0.25em;background-color: #f0f8ff;}#sk-container-id-1 input.sk-toggleable__control:checked~div.sk-toggleable__content {max-height: 200px;max-width: 100%;overflow: auto;}#sk-container-id-1 input.sk-toggleable__control:checked~label.sk-toggleable__label-arrow:before {content: \"▾\";}#sk-container-id-1 div.sk-estimator input.sk-toggleable__control:checked~label.sk-toggleable__label {background-color: #d4ebff;}#sk-container-id-1 div.sk-label input.sk-toggleable__control:checked~label.sk-toggleable__label {background-color: #d4ebff;}#sk-container-id-1 input.sk-hidden--visually {border: 0;clip: rect(1px 1px 1px 1px);clip: rect(1px, 1px, 1px, 1px);height: 1px;margin: -1px;overflow: hidden;padding: 0;position: absolute;width: 1px;}#sk-container-id-1 div.sk-estimator {font-family: monospace;background-color: #f0f8ff;border: 1px dotted black;border-radius: 0.25em;box-sizing: border-box;margin-bottom: 0.5em;}#sk-container-id-1 div.sk-estimator:hover {background-color: #d4ebff;}#sk-container-id-1 div.sk-parallel-item::after {content: \"\";width: 100%;border-bottom: 1px solid gray;flex-grow: 1;}#sk-container-id-1 div.sk-label:hover label.sk-toggleable__label {background-color: #d4ebff;}#sk-container-id-1 div.sk-serial::before {content: \"\";position: absolute;border-left: 1px solid gray;box-sizing: border-box;top: 0;bottom: 0;left: 50%;z-index: 0;}#sk-container-id-1 div.sk-serial {display: flex;flex-direction: column;align-items: center;background-color: white;padding-right: 0.2em;padding-left: 0.2em;position: relative;}#sk-container-id-1 div.sk-item {position: relative;z-index: 1;}#sk-container-id-1 div.sk-parallel {display: flex;align-items: stretch;justify-content: center;background-color: white;position: relative;}#sk-container-id-1 div.sk-item::before, #sk-container-id-1 div.sk-parallel-item::before {content: \"\";position: absolute;border-left: 1px solid gray;box-sizing: border-box;top: 0;bottom: 0;left: 50%;z-index: -1;}#sk-container-id-1 div.sk-parallel-item {display: flex;flex-direction: column;z-index: 1;position: relative;background-color: white;}#sk-container-id-1 div.sk-parallel-item:first-child::after {align-self: flex-end;width: 50%;}#sk-container-id-1 div.sk-parallel-item:last-child::after {align-self: flex-start;width: 50%;}#sk-container-id-1 div.sk-parallel-item:only-child::after {width: 0;}#sk-container-id-1 div.sk-dashed-wrapped {border: 1px dashed gray;margin: 0 0.4em 0.5em 0.4em;box-sizing: border-box;padding-bottom: 0.4em;background-color: white;}#sk-container-id-1 div.sk-label label {font-family: monospace;font-weight: bold;display: inline-block;line-height: 1.2em;}#sk-container-id-1 div.sk-label-container {text-align: center;}#sk-container-id-1 div.sk-container {/* jupyter's `normalize.less` sets `[hidden] { display: none; }` but bootstrap.min.css set `[hidden] { display: none !important; }` so we also need the `!important` here to be able to override the default hidden behavior on the sphinx rendered scikit-learn.org. See: https://github.com/scikit-learn/scikit-learn/issues/21755 */display: inline-block !important;position: relative;}#sk-container-id-1 div.sk-text-repr-fallback {display: none;}</style><div id=\"sk-container-id-1\" class=\"sk-top-container\"><div class=\"sk-text-repr-fallback\"><pre>LinearRegression()</pre><b>In a Jupyter environment, please rerun this cell to show the HTML representation or trust the notebook. <br />On GitHub, the HTML representation is unable to render, please try loading this page with nbviewer.org.</b></div><div class=\"sk-container\" hidden><div class=\"sk-item\"><div class=\"sk-estimator sk-toggleable\"><input class=\"sk-toggleable__control sk-hidden--visually\" id=\"sk-estimator-id-1\" type=\"checkbox\" checked><label for=\"sk-estimator-id-1\" class=\"sk-toggleable__label sk-toggleable__label-arrow\">LinearRegression</label><div class=\"sk-toggleable__content\"><pre>LinearRegression()</pre></div></div></div></div></div>"
      ],
      "text/plain": [
       "LinearRegression()"
      ]
     },
     "execution_count": 88,
     "metadata": {},
     "output_type": "execute_result"
    }
   ],
   "source": [
    "lr.fit(x_train, y_train)"
   ]
  },
  {
   "cell_type": "code",
   "execution_count": 89,
   "id": "b8e7df56",
   "metadata": {},
   "outputs": [],
   "source": [
    "y_pred = lr.predict(x_test)"
   ]
  },
  {
   "cell_type": "code",
   "execution_count": 90,
   "id": "ff13db73",
   "metadata": {},
   "outputs": [
    {
     "data": {
      "text/plain": [
       "array([ 0.47695093, -0.02413339, -0.10376618, -0.20687218, -1.03657711,\n",
       "        0.64160949,  0.39496763,  0.62256714, -0.62256714, -0.00566288,\n",
       "       -0.00171559,  0.09427588,  0.07990158])"
      ]
     },
     "execution_count": 90,
     "metadata": {},
     "output_type": "execute_result"
    }
   ],
   "source": [
    "lr.coef_"
   ]
  },
  {
   "cell_type": "code",
   "execution_count": 91,
   "id": "dd0da0a6",
   "metadata": {},
   "outputs": [
    {
     "data": {
      "text/plain": [
       "-959.361595602704"
      ]
     },
     "execution_count": 91,
     "metadata": {},
     "output_type": "execute_result"
    }
   ],
   "source": [
    "lr.intercept_"
   ]
  },
  {
   "cell_type": "markdown",
   "id": "8498b5c0",
   "metadata": {},
   "source": [
    "### EVALUATING THE MODEL"
   ]
  },
  {
   "cell_type": "code",
   "execution_count": 92,
   "id": "20f29277",
   "metadata": {},
   "outputs": [
    {
     "data": {
      "text/plain": [
       "0.8411607398365913"
      ]
     },
     "execution_count": 92,
     "metadata": {},
     "output_type": "execute_result"
    }
   ],
   "source": [
    "r2_score = metrics.r2_score(y_test, y_pred)\n",
    "r2_score"
   ]
  },
  {
   "cell_type": "markdown",
   "id": "827903eb",
   "metadata": {},
   "source": [
    "Adjusted R² = 1 - [(1 - R²) * (n - 1) / (n - p - 1)]\n",
    "\n",
    "Where:\n",
    "\n",
    "* R² is the regular R-squared score\n",
    "* n refers to the number of observations in the training dataset\n",
    "* p represents the number of predictors or independent variables in the model"
   ]
  },
  {
   "cell_type": "code",
   "execution_count": 93,
   "id": "9255300e",
   "metadata": {},
   "outputs": [
    {
     "data": {
      "text/plain": [
       "842"
      ]
     },
     "execution_count": 93,
     "metadata": {},
     "output_type": "execute_result"
    }
   ],
   "source": [
    "n = x_train.shape[0]\n",
    "n"
   ]
  },
  {
   "cell_type": "code",
   "execution_count": 94,
   "id": "c7526f08",
   "metadata": {},
   "outputs": [
    {
     "data": {
      "text/plain": [
       "13"
      ]
     },
     "execution_count": 94,
     "metadata": {},
     "output_type": "execute_result"
    }
   ],
   "source": [
    "p = x_train.shape[1]\n",
    "p"
   ]
  },
  {
   "cell_type": "code",
   "execution_count": 95,
   "id": "3b8911ce",
   "metadata": {},
   "outputs": [
    {
     "data": {
      "text/plain": [
       "0.8386668867180838"
      ]
     },
     "execution_count": 95,
     "metadata": {},
     "output_type": "execute_result"
    }
   ],
   "source": [
    "adjusted_r2_score = 1 - ((1 - r2_score)*(n-1)/(n-p-1))\n",
    "adjusted_r2_score"
   ]
  },
  {
   "cell_type": "markdown",
   "id": "826a270a",
   "metadata": {},
   "source": [
    "## OUR MODEL IS PERFORMING VERY WELL! HURREY!!!"
   ]
  },
  {
   "cell_type": "markdown",
   "id": "8c3e5c33",
   "metadata": {},
   "source": [
    "### PREDICTING PRICE OF A USED CAR BASED ON INPUTS PROVIDED AS A BUYER"
   ]
  },
  {
   "cell_type": "code",
   "execution_count": 96,
   "id": "2e68578c",
   "metadata": {},
   "outputs": [
    {
     "data": {
      "text/html": [
       "<div>\n",
       "<style scoped>\n",
       "    .dataframe tbody tr th:only-of-type {\n",
       "        vertical-align: middle;\n",
       "    }\n",
       "\n",
       "    .dataframe tbody tr th {\n",
       "        vertical-align: top;\n",
       "    }\n",
       "\n",
       "    .dataframe thead th {\n",
       "        text-align: right;\n",
       "    }\n",
       "</style>\n",
       "<table border=\"1\" class=\"dataframe\">\n",
       "  <thead>\n",
       "    <tr style=\"text-align: right;\">\n",
       "      <th></th>\n",
       "      <th>model (year)</th>\n",
       "      <th>km driven (in thousands)</th>\n",
       "      <th>mileage (in kmpl)</th>\n",
       "      <th>seating capacity (units)</th>\n",
       "      <th>fuel_type_Petrol</th>\n",
       "      <th>fuel_type_Diesel</th>\n",
       "      <th>fuel_type_Petrol+cng</th>\n",
       "      <th>transmission_Automatic</th>\n",
       "      <th>transmission_Manual</th>\n",
       "      <th>ground clearance (in mm)</th>\n",
       "      <th>boot space (in litres)</th>\n",
       "      <th>fuel tank capacity (in litres)</th>\n",
       "      <th>max power (in bhp)</th>\n",
       "      <th>price (in ₹)</th>\n",
       "    </tr>\n",
       "  </thead>\n",
       "  <tbody>\n",
       "    <tr>\n",
       "      <th>0</th>\n",
       "      <td>2019</td>\n",
       "      <td>38</td>\n",
       "      <td>17.0</td>\n",
       "      <td>5</td>\n",
       "      <td>0</td>\n",
       "      <td>1</td>\n",
       "      <td>0</td>\n",
       "      <td>0</td>\n",
       "      <td>1</td>\n",
       "      <td>205</td>\n",
       "      <td>425</td>\n",
       "      <td>50</td>\n",
       "      <td>138.0</td>\n",
       "      <td>15.65</td>\n",
       "    </tr>\n",
       "  </tbody>\n",
       "</table>\n",
       "</div>"
      ],
      "text/plain": [
       "   model (year)  km driven (in thousands)  mileage (in kmpl)  \\\n",
       "0          2019                        38               17.0   \n",
       "\n",
       "   seating capacity (units)  fuel_type_Petrol  fuel_type_Diesel  \\\n",
       "0                         5                 0                 1   \n",
       "\n",
       "   fuel_type_Petrol+cng  transmission_Automatic  transmission_Manual  \\\n",
       "0                     0                       0                    1   \n",
       "\n",
       "   ground clearance (in mm)  boot space (in litres)  \\\n",
       "0                       205                     425   \n",
       "\n",
       "   fuel tank capacity (in litres)  max power (in bhp)  price (in ₹)  \n",
       "0                              50               138.0         15.65  "
      ]
     },
     "execution_count": 96,
     "metadata": {},
     "output_type": "execute_result"
    }
   ],
   "source": [
    "df.head(1)"
   ]
  },
  {
   "cell_type": "markdown",
   "id": "3ab50caf",
   "metadata": {},
   "source": [
    "## Predicting price of a used car having:\n",
    "* model (year) = 2016\n",
    "* km driven (in thousands) = not more than 60k\n",
    "* mileage (in kmpl) = at least 18 kmpl\n",
    "* seating capacity (units) = 5\n",
    "* fuel_type_ Petrol = yes\n",
    "* fuel_type_ Diesel = no\n",
    "* fuel_type_ Petrol+cng = no\n",
    "* transmission_ Automatic = no\n",
    "* transmission_ Manual = yes\n",
    "* ground clearance (in mm) = not less than 180 mm\n",
    "* boot space (in litres) = at least 350 litres\n",
    "* fuel tank capacity (in litres) = 35 litres is enough\n",
    "* max power (in bhp) = 120 bhp"
   ]
  },
  {
   "cell_type": "code",
   "execution_count": 97,
   "id": "8062ecff",
   "metadata": {},
   "outputs": [
    {
     "name": "stderr",
     "output_type": "stream",
     "text": [
      "C:\\Users\\R\\AppData\\Local\\Programs\\Python\\Python310\\lib\\site-packages\\sklearn\\base.py:439: UserWarning: X does not have valid feature names, but LinearRegression was fitted with feature names\n",
      "  warnings.warn(\n"
     ]
    },
    {
     "data": {
      "text/plain": [
       "array([7.37362618])"
      ]
     },
     "execution_count": 97,
     "metadata": {},
     "output_type": "execute_result"
    }
   ],
   "source": [
    "lr.predict([[2016,60,18,5,1,0,0,0,1,190,350,35,120]])"
   ]
  },
  {
   "cell_type": "markdown",
   "id": "95a021a6",
   "metadata": {},
   "source": [
    "A used car having the above desired features and details will cost a buyer around ₹7.3 lakhs."
   ]
  },
  {
   "cell_type": "markdown",
   "id": "e93a8d70",
   "metadata": {},
   "source": [
    "### This model can also be used by sellers (1st/2nd/3rd owners) to get an idea of prices they can expect"
   ]
  },
  {
   "cell_type": "markdown",
   "id": "c00d2f17",
   "metadata": {},
   "source": [
    "# _______________________________________THANKS___________________"
   ]
  }
 ],
 "metadata": {
  "kernelspec": {
   "display_name": "Python 3 (ipykernel)",
   "language": "python",
   "name": "python3"
  },
  "language_info": {
   "codemirror_mode": {
    "name": "ipython",
    "version": 3
   },
   "file_extension": ".py",
   "mimetype": "text/x-python",
   "name": "python",
   "nbconvert_exporter": "python",
   "pygments_lexer": "ipython3",
   "version": "3.10.6"
  }
 },
 "nbformat": 4,
 "nbformat_minor": 5
}
