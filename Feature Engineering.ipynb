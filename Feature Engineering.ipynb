{
 "cells": [
  {
   "cell_type": "code",
   "execution_count": 1,
   "id": "88ca0ddd",
   "metadata": {},
   "outputs": [],
   "source": [
    "import pandas as pd\n",
    "import numpy as np\n",
    "import matplotlib.pyplot as plt\n",
    "import seaborn as sns\n",
    "import glob"
   ]
  },
  {
   "cell_type": "code",
   "execution_count": 2,
   "id": "b1983ac1",
   "metadata": {},
   "outputs": [],
   "source": [
    "path = r\"C:\\Users\\R\\Desktop\\MASAI\\PROJECT\\P2_Car price prediction model\\final-csvs\\*.csv\""
   ]
  },
  {
   "cell_type": "code",
   "execution_count": 3,
   "id": "d443dba7",
   "metadata": {},
   "outputs": [],
   "source": [
    "csv_files = glob.glob(path)"
   ]
  },
  {
   "cell_type": "code",
   "execution_count": 4,
   "id": "c5802255",
   "metadata": {},
   "outputs": [],
   "source": [
    "datasets = []\n",
    "\n",
    "for file in csv_files:\n",
    "    df = pd.read_csv(file, index_col=0)\n",
    "    datasets.append(df)"
   ]
  },
  {
   "cell_type": "code",
   "execution_count": 5,
   "id": "01e4d6cb",
   "metadata": {},
   "outputs": [
    {
     "data": {
      "text/html": [
       "<div>\n",
       "<style scoped>\n",
       "    .dataframe tbody tr th:only-of-type {\n",
       "        vertical-align: middle;\n",
       "    }\n",
       "\n",
       "    .dataframe tbody tr th {\n",
       "        vertical-align: top;\n",
       "    }\n",
       "\n",
       "    .dataframe thead th {\n",
       "        text-align: right;\n",
       "    }\n",
       "</style>\n",
       "<table border=\"1\" class=\"dataframe\">\n",
       "  <thead>\n",
       "    <tr style=\"text-align: right;\">\n",
       "      <th></th>\n",
       "      <th>brand_and_model</th>\n",
       "      <th>km_driven</th>\n",
       "      <th>fuel_type</th>\n",
       "      <th>transmission</th>\n",
       "      <th>all_spec_1</th>\n",
       "      <th>all_spec_2</th>\n",
       "      <th>price</th>\n",
       "    </tr>\n",
       "  </thead>\n",
       "  <tbody>\n",
       "    <tr>\n",
       "      <th>0</th>\n",
       "      <td>2019 Tata Harrier XZ</td>\n",
       "      <td>38K km</td>\n",
       "      <td>· Diesel</td>\n",
       "      <td>· Manual</td>\n",
       "      <td>NaN</td>\n",
       "      <td>Mileage (ARAI)\\n17 kmpl\\nGround clearance\\n205...</td>\n",
       "      <td>₹15.65 Lakh</td>\n",
       "    </tr>\n",
       "    <tr>\n",
       "      <th>1</th>\n",
       "      <td>2019 Maruti Suzuki Baleno Zeta Petrol</td>\n",
       "      <td>25K km</td>\n",
       "      <td>· Petrol</td>\n",
       "      <td>· Manual</td>\n",
       "      <td>NaN</td>\n",
       "      <td>Mileage (ARAI)\\n21.01 kmpl\\nGround clearance\\n...</td>\n",
       "      <td>₹7.85 Lakh</td>\n",
       "    </tr>\n",
       "  </tbody>\n",
       "</table>\n",
       "</div>"
      ],
      "text/plain": [
       "                         brand_and_model km_driven  fuel_type transmission  \\\n",
       "0                   2019 Tata Harrier XZ    38K km   · Diesel     · Manual   \n",
       "1  2019 Maruti Suzuki Baleno Zeta Petrol    25K km   · Petrol     · Manual   \n",
       "\n",
       "  all_spec_1                                         all_spec_2        price  \n",
       "0        NaN  Mileage (ARAI)\\n17 kmpl\\nGround clearance\\n205...  ₹15.65 Lakh  \n",
       "1        NaN  Mileage (ARAI)\\n21.01 kmpl\\nGround clearance\\n...   ₹7.85 Lakh  "
      ]
     },
     "execution_count": 5,
     "metadata": {},
     "output_type": "execute_result"
    }
   ],
   "source": [
    "df = pd.concat(datasets, axis=0, ignore_index=True)\n",
    "df.head(2)"
   ]
  },
  {
   "cell_type": "code",
   "execution_count": 6,
   "id": "92efda20",
   "metadata": {},
   "outputs": [
    {
     "data": {
      "text/plain": [
       "brand_and_model       0\n",
       "km_driven            12\n",
       "fuel_type             0\n",
       "transmission          0\n",
       "all_spec_1         1042\n",
       "all_spec_2          916\n",
       "price                 0\n",
       "dtype: int64"
      ]
     },
     "execution_count": 6,
     "metadata": {},
     "output_type": "execute_result"
    }
   ],
   "source": [
    "df.isnull().sum()"
   ]
  },
  {
   "cell_type": "markdown",
   "id": "0e6e452e",
   "metadata": {},
   "source": [
    "### Dropping duplicate records"
   ]
  },
  {
   "cell_type": "code",
   "execution_count": 7,
   "id": "4dfcecb6",
   "metadata": {},
   "outputs": [
    {
     "data": {
      "text/html": [
       "<div>\n",
       "<style scoped>\n",
       "    .dataframe tbody tr th:only-of-type {\n",
       "        vertical-align: middle;\n",
       "    }\n",
       "\n",
       "    .dataframe tbody tr th {\n",
       "        vertical-align: top;\n",
       "    }\n",
       "\n",
       "    .dataframe thead th {\n",
       "        text-align: right;\n",
       "    }\n",
       "</style>\n",
       "<table border=\"1\" class=\"dataframe\">\n",
       "  <thead>\n",
       "    <tr style=\"text-align: right;\">\n",
       "      <th></th>\n",
       "      <th>brand_and_model</th>\n",
       "      <th>km_driven</th>\n",
       "      <th>fuel_type</th>\n",
       "      <th>transmission</th>\n",
       "      <th>all_spec_1</th>\n",
       "      <th>all_spec_2</th>\n",
       "      <th>price</th>\n",
       "    </tr>\n",
       "  </thead>\n",
       "  <tbody>\n",
       "    <tr>\n",
       "      <th>894</th>\n",
       "      <td>2010 Nissan Micra XV Petrol</td>\n",
       "      <td>38K km</td>\n",
       "      <td>· Petrol</td>\n",
       "      <td>· Manual</td>\n",
       "      <td>NaN</td>\n",
       "      <td>Mileage (ARAI)\\n18.6 kmpl\\nGround clearance\\n1...</td>\n",
       "      <td>₹3.25 Lakh</td>\n",
       "    </tr>\n",
       "    <tr>\n",
       "      <th>994</th>\n",
       "      <td>2010 Nissan Micra XV Petrol</td>\n",
       "      <td>38K km</td>\n",
       "      <td>· Petrol</td>\n",
       "      <td>· Manual</td>\n",
       "      <td>NaN</td>\n",
       "      <td>Mileage (ARAI)\\n18.6 kmpl\\nGround clearance\\n1...</td>\n",
       "      <td>₹3.25 Lakh</td>\n",
       "    </tr>\n",
       "    <tr>\n",
       "      <th>1254</th>\n",
       "      <td>2010 Nissan Micra XV Petrol</td>\n",
       "      <td>38K km</td>\n",
       "      <td>· Petrol</td>\n",
       "      <td>· Manual</td>\n",
       "      <td>NaN</td>\n",
       "      <td>Mileage (ARAI)\\n18.6 kmpl\\nGround clearance\\n1...</td>\n",
       "      <td>₹3.25 Lakh</td>\n",
       "    </tr>\n",
       "    <tr>\n",
       "      <th>1594</th>\n",
       "      <td>2010 Nissan Micra XV Petrol</td>\n",
       "      <td>38K km</td>\n",
       "      <td>· Petrol</td>\n",
       "      <td>· Manual</td>\n",
       "      <td>NaN</td>\n",
       "      <td>Mileage (ARAI)\\n18.6 kmpl\\nGround clearance\\n1...</td>\n",
       "      <td>₹3.25 Lakh</td>\n",
       "    </tr>\n",
       "    <tr>\n",
       "      <th>1114</th>\n",
       "      <td>2010 Nissan Micra XV Petrol</td>\n",
       "      <td>38K km</td>\n",
       "      <td>· Petrol</td>\n",
       "      <td>· Manual</td>\n",
       "      <td>NaN</td>\n",
       "      <td>Mileage (ARAI)\\n18.6 kmpl\\nGround clearance\\n1...</td>\n",
       "      <td>₹3.25 Lakh</td>\n",
       "    </tr>\n",
       "    <tr>\n",
       "      <th>...</th>\n",
       "      <td>...</td>\n",
       "      <td>...</td>\n",
       "      <td>...</td>\n",
       "      <td>...</td>\n",
       "      <td>...</td>\n",
       "      <td>...</td>\n",
       "      <td>...</td>\n",
       "    </tr>\n",
       "    <tr>\n",
       "      <th>283</th>\n",
       "      <td>2022 Tata Punch Creative AMT Dual Tone</td>\n",
       "      <td>20K km</td>\n",
       "      <td>· Petrol</td>\n",
       "      <td>· Automatic</td>\n",
       "      <td>NaN</td>\n",
       "      <td>Mileage (ARAI)\\n18.9 kmpl\\nGround clearance\\n1...</td>\n",
       "      <td>₹8.90 Lakh</td>\n",
       "    </tr>\n",
       "    <tr>\n",
       "      <th>119</th>\n",
       "      <td>2022 Tata Tigor Revotron XZ+</td>\n",
       "      <td>3K km</td>\n",
       "      <td>· Petrol</td>\n",
       "      <td>· Manual</td>\n",
       "      <td>Boot space\\n419 litres\\nSeating capacity\\n5 un...</td>\n",
       "      <td>NaN</td>\n",
       "      <td>₹7.53 Lakh</td>\n",
       "    </tr>\n",
       "    <tr>\n",
       "      <th>1656</th>\n",
       "      <td>2022 Volkswagen Virtus Comfortline 1.0 TSI MT</td>\n",
       "      <td>4K km</td>\n",
       "      <td>· Petrol</td>\n",
       "      <td>· Manual</td>\n",
       "      <td>Mileage (ARAI)\\n19.4 kmpl\\nGround clearance\\n1...</td>\n",
       "      <td>NaN</td>\n",
       "      <td>₹11.92 Lakh</td>\n",
       "    </tr>\n",
       "    <tr>\n",
       "      <th>1316</th>\n",
       "      <td>2022 Volkswagen Virtus Comfortline 1.0 TSI MT</td>\n",
       "      <td>4K km</td>\n",
       "      <td>· Petrol</td>\n",
       "      <td>· Manual</td>\n",
       "      <td>Mileage (ARAI)\\n19.4 kmpl\\nGround clearance\\n1...</td>\n",
       "      <td>NaN</td>\n",
       "      <td>₹11.92 Lakh</td>\n",
       "    </tr>\n",
       "    <tr>\n",
       "      <th>1476</th>\n",
       "      <td>2022 Volkswagen Virtus Comfortline 1.0 TSI MT</td>\n",
       "      <td>4K km</td>\n",
       "      <td>· Petrol</td>\n",
       "      <td>· Manual</td>\n",
       "      <td>Mileage (ARAI)\\n19.4 kmpl\\nGround clearance\\n1...</td>\n",
       "      <td>NaN</td>\n",
       "      <td>₹11.92 Lakh</td>\n",
       "    </tr>\n",
       "  </tbody>\n",
       "</table>\n",
       "<p>1282 rows × 7 columns</p>\n",
       "</div>"
      ],
      "text/plain": [
       "                                    brand_and_model km_driven  fuel_type  \\\n",
       "894                     2010 Nissan Micra XV Petrol    38K km   · Petrol   \n",
       "994                     2010 Nissan Micra XV Petrol    38K km   · Petrol   \n",
       "1254                    2010 Nissan Micra XV Petrol    38K km   · Petrol   \n",
       "1594                    2010 Nissan Micra XV Petrol    38K km   · Petrol   \n",
       "1114                    2010 Nissan Micra XV Petrol    38K km   · Petrol   \n",
       "...                                             ...       ...        ...   \n",
       "283          2022 Tata Punch Creative AMT Dual Tone    20K km   · Petrol   \n",
       "119                    2022 Tata Tigor Revotron XZ+     3K km   · Petrol   \n",
       "1656  2022 Volkswagen Virtus Comfortline 1.0 TSI MT     4K km   · Petrol   \n",
       "1316  2022 Volkswagen Virtus Comfortline 1.0 TSI MT     4K km   · Petrol   \n",
       "1476  2022 Volkswagen Virtus Comfortline 1.0 TSI MT     4K km   · Petrol   \n",
       "\n",
       "      transmission                                         all_spec_1  \\\n",
       "894       · Manual                                                NaN   \n",
       "994       · Manual                                                NaN   \n",
       "1254      · Manual                                                NaN   \n",
       "1594      · Manual                                                NaN   \n",
       "1114      · Manual                                                NaN   \n",
       "...            ...                                                ...   \n",
       "283    · Automatic                                                NaN   \n",
       "119       · Manual  Boot space\\n419 litres\\nSeating capacity\\n5 un...   \n",
       "1656      · Manual  Mileage (ARAI)\\n19.4 kmpl\\nGround clearance\\n1...   \n",
       "1316      · Manual  Mileage (ARAI)\\n19.4 kmpl\\nGround clearance\\n1...   \n",
       "1476      · Manual  Mileage (ARAI)\\n19.4 kmpl\\nGround clearance\\n1...   \n",
       "\n",
       "                                             all_spec_2        price  \n",
       "894   Mileage (ARAI)\\n18.6 kmpl\\nGround clearance\\n1...   ₹3.25 Lakh  \n",
       "994   Mileage (ARAI)\\n18.6 kmpl\\nGround clearance\\n1...   ₹3.25 Lakh  \n",
       "1254  Mileage (ARAI)\\n18.6 kmpl\\nGround clearance\\n1...   ₹3.25 Lakh  \n",
       "1594  Mileage (ARAI)\\n18.6 kmpl\\nGround clearance\\n1...   ₹3.25 Lakh  \n",
       "1114  Mileage (ARAI)\\n18.6 kmpl\\nGround clearance\\n1...   ₹3.25 Lakh  \n",
       "...                                                 ...          ...  \n",
       "283   Mileage (ARAI)\\n18.9 kmpl\\nGround clearance\\n1...   ₹8.90 Lakh  \n",
       "119                                                 NaN   ₹7.53 Lakh  \n",
       "1656                                                NaN  ₹11.92 Lakh  \n",
       "1316                                                NaN  ₹11.92 Lakh  \n",
       "1476                                                NaN  ₹11.92 Lakh  \n",
       "\n",
       "[1282 rows x 7 columns]"
      ]
     },
     "execution_count": 7,
     "metadata": {},
     "output_type": "execute_result"
    }
   ],
   "source": [
    "df[df.duplicated()].sort_values('brand_and_model')"
   ]
  },
  {
   "cell_type": "code",
   "execution_count": 8,
   "id": "fb9f8652",
   "metadata": {},
   "outputs": [],
   "source": [
    "df = df.drop_duplicates()"
   ]
  },
  {
   "cell_type": "code",
   "execution_count": 9,
   "id": "61b9693a",
   "metadata": {},
   "outputs": [
    {
     "data": {
      "text/plain": [
       "(659, 7)"
      ]
     },
     "execution_count": 9,
     "metadata": {},
     "output_type": "execute_result"
    }
   ],
   "source": [
    "df.shape"
   ]
  },
  {
   "cell_type": "markdown",
   "id": "a79b941e",
   "metadata": {},
   "source": [
    "# Merging the two specifications column into single one"
   ]
  },
  {
   "cell_type": "code",
   "execution_count": 10,
   "id": "94da7c5d",
   "metadata": {},
   "outputs": [],
   "source": [
    "df['all_spec_1'] = np.where(df['all_spec_1'].isnull(), df['all_spec_2'], df['all_spec_1'])"
   ]
  },
  {
   "cell_type": "code",
   "execution_count": 11,
   "id": "a729a77a",
   "metadata": {},
   "outputs": [
    {
     "data": {
      "text/html": [
       "<div>\n",
       "<style scoped>\n",
       "    .dataframe tbody tr th:only-of-type {\n",
       "        vertical-align: middle;\n",
       "    }\n",
       "\n",
       "    .dataframe tbody tr th {\n",
       "        vertical-align: top;\n",
       "    }\n",
       "\n",
       "    .dataframe thead th {\n",
       "        text-align: right;\n",
       "    }\n",
       "</style>\n",
       "<table border=\"1\" class=\"dataframe\">\n",
       "  <thead>\n",
       "    <tr style=\"text-align: right;\">\n",
       "      <th></th>\n",
       "      <th>brand_and_model</th>\n",
       "      <th>km_driven</th>\n",
       "      <th>fuel_type</th>\n",
       "      <th>transmission</th>\n",
       "      <th>all_spec_1</th>\n",
       "      <th>all_spec_2</th>\n",
       "      <th>price</th>\n",
       "    </tr>\n",
       "  </thead>\n",
       "  <tbody>\n",
       "    <tr>\n",
       "      <th>0</th>\n",
       "      <td>2019 Tata Harrier XZ</td>\n",
       "      <td>38K km</td>\n",
       "      <td>· Diesel</td>\n",
       "      <td>· Manual</td>\n",
       "      <td>Mileage (ARAI)\\n17 kmpl\\nGround clearance\\n205...</td>\n",
       "      <td>Mileage (ARAI)\\n17 kmpl\\nGround clearance\\n205...</td>\n",
       "      <td>₹15.65 Lakh</td>\n",
       "    </tr>\n",
       "    <tr>\n",
       "      <th>1</th>\n",
       "      <td>2019 Maruti Suzuki Baleno Zeta Petrol</td>\n",
       "      <td>25K km</td>\n",
       "      <td>· Petrol</td>\n",
       "      <td>· Manual</td>\n",
       "      <td>Mileage (ARAI)\\n21.01 kmpl\\nGround clearance\\n...</td>\n",
       "      <td>Mileage (ARAI)\\n21.01 kmpl\\nGround clearance\\n...</td>\n",
       "      <td>₹7.85 Lakh</td>\n",
       "    </tr>\n",
       "    <tr>\n",
       "      <th>2</th>\n",
       "      <td>2021 Mahindra XUV 300 W6 AMT Diesel</td>\n",
       "      <td>51K km</td>\n",
       "      <td>· Diesel</td>\n",
       "      <td>· Automatic</td>\n",
       "      <td>Mileage (ARAI)\\n20 kmpl\\nGround clearance\\n180...</td>\n",
       "      <td>Mileage (ARAI)\\n20 kmpl\\nGround clearance\\n180...</td>\n",
       "      <td>₹11.41 Lakh</td>\n",
       "    </tr>\n",
       "    <tr>\n",
       "      <th>3</th>\n",
       "      <td>2019 Tata Nexon XZA Plus AMT Diesel</td>\n",
       "      <td>54K km</td>\n",
       "      <td>· Diesel</td>\n",
       "      <td>· Automatic</td>\n",
       "      <td>Mileage (ARAI)\\n21.5 kmpl\\nBoot space\\n350 lit...</td>\n",
       "      <td>NaN</td>\n",
       "      <td>₹9.64 Lakh</td>\n",
       "    </tr>\n",
       "    <tr>\n",
       "      <th>4</th>\n",
       "      <td>2019 Ford Freestyle Titanium 1.2</td>\n",
       "      <td>18K km</td>\n",
       "      <td>· Petrol</td>\n",
       "      <td>· Manual</td>\n",
       "      <td>Mileage (ARAI)\\n18.5 kmpl\\nBoot space\\n257 lit...</td>\n",
       "      <td>Mileage (ARAI)\\n18.5 kmpl\\nBoot space\\n257 lit...</td>\n",
       "      <td>₹6.57 Lakh</td>\n",
       "    </tr>\n",
       "  </tbody>\n",
       "</table>\n",
       "</div>"
      ],
      "text/plain": [
       "                         brand_and_model km_driven  fuel_type  transmission  \\\n",
       "0                   2019 Tata Harrier XZ    38K km   · Diesel      · Manual   \n",
       "1  2019 Maruti Suzuki Baleno Zeta Petrol    25K km   · Petrol      · Manual   \n",
       "2    2021 Mahindra XUV 300 W6 AMT Diesel    51K km   · Diesel   · Automatic   \n",
       "3    2019 Tata Nexon XZA Plus AMT Diesel    54K km   · Diesel   · Automatic   \n",
       "4       2019 Ford Freestyle Titanium 1.2    18K km   · Petrol      · Manual   \n",
       "\n",
       "                                          all_spec_1  \\\n",
       "0  Mileage (ARAI)\\n17 kmpl\\nGround clearance\\n205...   \n",
       "1  Mileage (ARAI)\\n21.01 kmpl\\nGround clearance\\n...   \n",
       "2  Mileage (ARAI)\\n20 kmpl\\nGround clearance\\n180...   \n",
       "3  Mileage (ARAI)\\n21.5 kmpl\\nBoot space\\n350 lit...   \n",
       "4  Mileage (ARAI)\\n18.5 kmpl\\nBoot space\\n257 lit...   \n",
       "\n",
       "                                          all_spec_2        price  \n",
       "0  Mileage (ARAI)\\n17 kmpl\\nGround clearance\\n205...  ₹15.65 Lakh  \n",
       "1  Mileage (ARAI)\\n21.01 kmpl\\nGround clearance\\n...   ₹7.85 Lakh  \n",
       "2  Mileage (ARAI)\\n20 kmpl\\nGround clearance\\n180...  ₹11.41 Lakh  \n",
       "3                                                NaN   ₹9.64 Lakh  \n",
       "4  Mileage (ARAI)\\n18.5 kmpl\\nBoot space\\n257 lit...   ₹6.57 Lakh  "
      ]
     },
     "execution_count": 11,
     "metadata": {},
     "output_type": "execute_result"
    }
   ],
   "source": [
    "df.head()"
   ]
  },
  {
   "cell_type": "code",
   "execution_count": 12,
   "id": "4b821593",
   "metadata": {},
   "outputs": [
    {
     "data": {
      "text/plain": [
       "brand_and_model      0\n",
       "km_driven            2\n",
       "fuel_type            0\n",
       "transmission         0\n",
       "all_spec_1           3\n",
       "all_spec_2         308\n",
       "price                0\n",
       "dtype: int64"
      ]
     },
     "execution_count": 12,
     "metadata": {},
     "output_type": "execute_result"
    }
   ],
   "source": [
    "df.isnull().sum()"
   ]
  },
  {
   "cell_type": "code",
   "execution_count": 13,
   "id": "336ffbe4",
   "metadata": {},
   "outputs": [],
   "source": [
    "df.drop('all_spec_2', axis= 1, inplace=True)"
   ]
  },
  {
   "cell_type": "code",
   "execution_count": 14,
   "id": "ec8089ec",
   "metadata": {},
   "outputs": [
    {
     "data": {
      "text/html": [
       "<div>\n",
       "<style scoped>\n",
       "    .dataframe tbody tr th:only-of-type {\n",
       "        vertical-align: middle;\n",
       "    }\n",
       "\n",
       "    .dataframe tbody tr th {\n",
       "        vertical-align: top;\n",
       "    }\n",
       "\n",
       "    .dataframe thead th {\n",
       "        text-align: right;\n",
       "    }\n",
       "</style>\n",
       "<table border=\"1\" class=\"dataframe\">\n",
       "  <thead>\n",
       "    <tr style=\"text-align: right;\">\n",
       "      <th></th>\n",
       "      <th>brand_and_model</th>\n",
       "      <th>km_driven</th>\n",
       "      <th>fuel_type</th>\n",
       "      <th>transmission</th>\n",
       "      <th>all_spec_1</th>\n",
       "      <th>price</th>\n",
       "    </tr>\n",
       "  </thead>\n",
       "  <tbody>\n",
       "    <tr>\n",
       "      <th>0</th>\n",
       "      <td>2019 Tata Harrier XZ</td>\n",
       "      <td>38K km</td>\n",
       "      <td>· Diesel</td>\n",
       "      <td>· Manual</td>\n",
       "      <td>Mileage (ARAI)\\n17 kmpl\\nGround clearance\\n205...</td>\n",
       "      <td>₹15.65 Lakh</td>\n",
       "    </tr>\n",
       "    <tr>\n",
       "      <th>1</th>\n",
       "      <td>2019 Maruti Suzuki Baleno Zeta Petrol</td>\n",
       "      <td>25K km</td>\n",
       "      <td>· Petrol</td>\n",
       "      <td>· Manual</td>\n",
       "      <td>Mileage (ARAI)\\n21.01 kmpl\\nGround clearance\\n...</td>\n",
       "      <td>₹7.85 Lakh</td>\n",
       "    </tr>\n",
       "  </tbody>\n",
       "</table>\n",
       "</div>"
      ],
      "text/plain": [
       "                         brand_and_model km_driven  fuel_type transmission  \\\n",
       "0                   2019 Tata Harrier XZ    38K km   · Diesel     · Manual   \n",
       "1  2019 Maruti Suzuki Baleno Zeta Petrol    25K km   · Petrol     · Manual   \n",
       "\n",
       "                                          all_spec_1        price  \n",
       "0  Mileage (ARAI)\\n17 kmpl\\nGround clearance\\n205...  ₹15.65 Lakh  \n",
       "1  Mileage (ARAI)\\n21.01 kmpl\\nGround clearance\\n...   ₹7.85 Lakh  "
      ]
     },
     "execution_count": 14,
     "metadata": {},
     "output_type": "execute_result"
    }
   ],
   "source": [
    "df.head(2)"
   ]
  },
  {
   "cell_type": "code",
   "execution_count": 15,
   "id": "80634645",
   "metadata": {},
   "outputs": [
    {
     "data": {
      "text/plain": [
       "brand_and_model    0\n",
       "km_driven          2\n",
       "fuel_type          0\n",
       "transmission       0\n",
       "all_spec_1         3\n",
       "price              0\n",
       "dtype: int64"
      ]
     },
     "execution_count": 15,
     "metadata": {},
     "output_type": "execute_result"
    }
   ],
   "source": [
    "df.isnull().sum()"
   ]
  },
  {
   "cell_type": "markdown",
   "id": "54c21208",
   "metadata": {},
   "source": [
    "### Droping nulls / Null handling"
   ]
  },
  {
   "cell_type": "code",
   "execution_count": 16,
   "id": "15526172",
   "metadata": {},
   "outputs": [],
   "source": [
    "df.dropna(inplace=True)"
   ]
  },
  {
   "cell_type": "code",
   "execution_count": 17,
   "id": "504d51f2",
   "metadata": {},
   "outputs": [
    {
     "data": {
      "text/plain": [
       "(656, 6)"
      ]
     },
     "execution_count": 17,
     "metadata": {},
     "output_type": "execute_result"
    }
   ],
   "source": [
    "df.shape"
   ]
  },
  {
   "cell_type": "code",
   "execution_count": 18,
   "id": "f4eaf7c9",
   "metadata": {},
   "outputs": [
    {
     "data": {
      "text/plain": [
       "brand_and_model    0\n",
       "km_driven          0\n",
       "fuel_type          0\n",
       "transmission       0\n",
       "all_spec_1         0\n",
       "price              0\n",
       "dtype: int64"
      ]
     },
     "execution_count": 18,
     "metadata": {},
     "output_type": "execute_result"
    }
   ],
   "source": [
    "df.isnull().sum()"
   ]
  },
  {
   "cell_type": "markdown",
   "id": "77ce0f0a",
   "metadata": {},
   "source": [
    "# Extracting model (year) and manufacturer from brand_&_model column"
   ]
  },
  {
   "cell_type": "code",
   "execution_count": 19,
   "id": "af871519",
   "metadata": {},
   "outputs": [],
   "source": [
    "df['model'] = df['brand_and_model'].apply(lambda x: int(x[:4]))"
   ]
  },
  {
   "cell_type": "code",
   "execution_count": 20,
   "id": "6e1b64a9",
   "metadata": {},
   "outputs": [],
   "source": [
    "df['brand_and_model'] = df['brand_and_model'].apply(lambda x: x[5:])"
   ]
  },
  {
   "cell_type": "code",
   "execution_count": 21,
   "id": "430c7e1a",
   "metadata": {},
   "outputs": [],
   "source": [
    "df.rename(columns={'brand_and_model':'brand'}, inplace=True)"
   ]
  },
  {
   "cell_type": "code",
   "execution_count": 22,
   "id": "15193296",
   "metadata": {},
   "outputs": [
    {
     "data": {
      "text/html": [
       "<div>\n",
       "<style scoped>\n",
       "    .dataframe tbody tr th:only-of-type {\n",
       "        vertical-align: middle;\n",
       "    }\n",
       "\n",
       "    .dataframe tbody tr th {\n",
       "        vertical-align: top;\n",
       "    }\n",
       "\n",
       "    .dataframe thead th {\n",
       "        text-align: right;\n",
       "    }\n",
       "</style>\n",
       "<table border=\"1\" class=\"dataframe\">\n",
       "  <thead>\n",
       "    <tr style=\"text-align: right;\">\n",
       "      <th></th>\n",
       "      <th>brand</th>\n",
       "      <th>km_driven</th>\n",
       "      <th>fuel_type</th>\n",
       "      <th>transmission</th>\n",
       "      <th>all_spec_1</th>\n",
       "      <th>price</th>\n",
       "      <th>model</th>\n",
       "    </tr>\n",
       "  </thead>\n",
       "  <tbody>\n",
       "    <tr>\n",
       "      <th>0</th>\n",
       "      <td>Tata Harrier XZ</td>\n",
       "      <td>38K km</td>\n",
       "      <td>· Diesel</td>\n",
       "      <td>· Manual</td>\n",
       "      <td>Mileage (ARAI)\\n17 kmpl\\nGround clearance\\n205...</td>\n",
       "      <td>₹15.65 Lakh</td>\n",
       "      <td>2019</td>\n",
       "    </tr>\n",
       "    <tr>\n",
       "      <th>1</th>\n",
       "      <td>Maruti Suzuki Baleno Zeta Petrol</td>\n",
       "      <td>25K km</td>\n",
       "      <td>· Petrol</td>\n",
       "      <td>· Manual</td>\n",
       "      <td>Mileage (ARAI)\\n21.01 kmpl\\nGround clearance\\n...</td>\n",
       "      <td>₹7.85 Lakh</td>\n",
       "      <td>2019</td>\n",
       "    </tr>\n",
       "  </tbody>\n",
       "</table>\n",
       "</div>"
      ],
      "text/plain": [
       "                              brand km_driven  fuel_type transmission  \\\n",
       "0                   Tata Harrier XZ    38K km   · Diesel     · Manual   \n",
       "1  Maruti Suzuki Baleno Zeta Petrol    25K km   · Petrol     · Manual   \n",
       "\n",
       "                                          all_spec_1        price  model  \n",
       "0  Mileage (ARAI)\\n17 kmpl\\nGround clearance\\n205...  ₹15.65 Lakh   2019  \n",
       "1  Mileage (ARAI)\\n21.01 kmpl\\nGround clearance\\n...   ₹7.85 Lakh   2019  "
      ]
     },
     "execution_count": 22,
     "metadata": {},
     "output_type": "execute_result"
    }
   ],
   "source": [
    "df.head(2)"
   ]
  },
  {
   "cell_type": "code",
   "execution_count": 23,
   "id": "015f41c8",
   "metadata": {},
   "outputs": [
    {
     "data": {
      "text/plain": [
       "array([2019, 2021, 2014, 2016, 2013, 2020, 2015, 2017, 2018, 2012, 2022,\n",
       "       2011, 2010], dtype=int64)"
      ]
     },
     "execution_count": 23,
     "metadata": {},
     "output_type": "execute_result"
    }
   ],
   "source": [
    "df.model.unique()"
   ]
  },
  {
   "cell_type": "code",
   "execution_count": 24,
   "id": "4041d410",
   "metadata": {},
   "outputs": [],
   "source": [
    "car_brands = ['Audi','Bentley','BMW','Bugatti','Chevrolet','Datsun','Ferrari','Fiat','Ford','Honda','Hyundai','Jaguar','Jeep','Kia',\n",
    "              'Lamborghini','Land Rover','Mahindra','Maruti','Mercedes-Benz','MG','Mitsubishi','Nissan','Porsche','Renault','Rolls-Royce',\n",
    "              'SEAT','Skoda','Suzuki','Tata','Tesla','Toyota','Volkswagen','Volvo']"
   ]
  },
  {
   "cell_type": "code",
   "execution_count": 25,
   "id": "206b7f43",
   "metadata": {},
   "outputs": [],
   "source": [
    "def manufacturer(x):\n",
    "    x = x.split()\n",
    "    for i in x:\n",
    "        if i in car_brands:\n",
    "            return i\n",
    "        else:\n",
    "            pass"
   ]
  },
  {
   "cell_type": "code",
   "execution_count": 26,
   "id": "6f246b78",
   "metadata": {},
   "outputs": [
    {
     "data": {
      "text/plain": [
       "'Tata'"
      ]
     },
     "execution_count": 26,
     "metadata": {},
     "output_type": "execute_result"
    }
   ],
   "source": [
    "manufacturer(df.iloc[0,0])"
   ]
  },
  {
   "cell_type": "code",
   "execution_count": 27,
   "id": "f8019fc4",
   "metadata": {},
   "outputs": [],
   "source": [
    "df['manufacturer'] = df['brand'].apply(lambda x: manufacturer(x))"
   ]
  },
  {
   "cell_type": "code",
   "execution_count": 28,
   "id": "d90eb16b",
   "metadata": {},
   "outputs": [
    {
     "data": {
      "text/html": [
       "<div>\n",
       "<style scoped>\n",
       "    .dataframe tbody tr th:only-of-type {\n",
       "        vertical-align: middle;\n",
       "    }\n",
       "\n",
       "    .dataframe tbody tr th {\n",
       "        vertical-align: top;\n",
       "    }\n",
       "\n",
       "    .dataframe thead th {\n",
       "        text-align: right;\n",
       "    }\n",
       "</style>\n",
       "<table border=\"1\" class=\"dataframe\">\n",
       "  <thead>\n",
       "    <tr style=\"text-align: right;\">\n",
       "      <th></th>\n",
       "      <th>brand</th>\n",
       "      <th>km_driven</th>\n",
       "      <th>fuel_type</th>\n",
       "      <th>transmission</th>\n",
       "      <th>all_spec_1</th>\n",
       "      <th>price</th>\n",
       "      <th>model</th>\n",
       "      <th>manufacturer</th>\n",
       "    </tr>\n",
       "  </thead>\n",
       "  <tbody>\n",
       "    <tr>\n",
       "      <th>0</th>\n",
       "      <td>Tata Harrier XZ</td>\n",
       "      <td>38K km</td>\n",
       "      <td>· Diesel</td>\n",
       "      <td>· Manual</td>\n",
       "      <td>Mileage (ARAI)\\n17 kmpl\\nGround clearance\\n205...</td>\n",
       "      <td>₹15.65 Lakh</td>\n",
       "      <td>2019</td>\n",
       "      <td>Tata</td>\n",
       "    </tr>\n",
       "    <tr>\n",
       "      <th>1</th>\n",
       "      <td>Maruti Suzuki Baleno Zeta Petrol</td>\n",
       "      <td>25K km</td>\n",
       "      <td>· Petrol</td>\n",
       "      <td>· Manual</td>\n",
       "      <td>Mileage (ARAI)\\n21.01 kmpl\\nGround clearance\\n...</td>\n",
       "      <td>₹7.85 Lakh</td>\n",
       "      <td>2019</td>\n",
       "      <td>Maruti</td>\n",
       "    </tr>\n",
       "    <tr>\n",
       "      <th>2</th>\n",
       "      <td>Mahindra XUV 300 W6 AMT Diesel</td>\n",
       "      <td>51K km</td>\n",
       "      <td>· Diesel</td>\n",
       "      <td>· Automatic</td>\n",
       "      <td>Mileage (ARAI)\\n20 kmpl\\nGround clearance\\n180...</td>\n",
       "      <td>₹11.41 Lakh</td>\n",
       "      <td>2021</td>\n",
       "      <td>Mahindra</td>\n",
       "    </tr>\n",
       "    <tr>\n",
       "      <th>3</th>\n",
       "      <td>Tata Nexon XZA Plus AMT Diesel</td>\n",
       "      <td>54K km</td>\n",
       "      <td>· Diesel</td>\n",
       "      <td>· Automatic</td>\n",
       "      <td>Mileage (ARAI)\\n21.5 kmpl\\nBoot space\\n350 lit...</td>\n",
       "      <td>₹9.64 Lakh</td>\n",
       "      <td>2019</td>\n",
       "      <td>Tata</td>\n",
       "    </tr>\n",
       "    <tr>\n",
       "      <th>4</th>\n",
       "      <td>Ford Freestyle Titanium 1.2</td>\n",
       "      <td>18K km</td>\n",
       "      <td>· Petrol</td>\n",
       "      <td>· Manual</td>\n",
       "      <td>Mileage (ARAI)\\n18.5 kmpl\\nBoot space\\n257 lit...</td>\n",
       "      <td>₹6.57 Lakh</td>\n",
       "      <td>2019</td>\n",
       "      <td>Ford</td>\n",
       "    </tr>\n",
       "  </tbody>\n",
       "</table>\n",
       "</div>"
      ],
      "text/plain": [
       "                              brand km_driven  fuel_type  transmission  \\\n",
       "0                   Tata Harrier XZ    38K km   · Diesel      · Manual   \n",
       "1  Maruti Suzuki Baleno Zeta Petrol    25K km   · Petrol      · Manual   \n",
       "2    Mahindra XUV 300 W6 AMT Diesel    51K km   · Diesel   · Automatic   \n",
       "3    Tata Nexon XZA Plus AMT Diesel    54K km   · Diesel   · Automatic   \n",
       "4       Ford Freestyle Titanium 1.2    18K km   · Petrol      · Manual   \n",
       "\n",
       "                                          all_spec_1        price  model  \\\n",
       "0  Mileage (ARAI)\\n17 kmpl\\nGround clearance\\n205...  ₹15.65 Lakh   2019   \n",
       "1  Mileage (ARAI)\\n21.01 kmpl\\nGround clearance\\n...   ₹7.85 Lakh   2019   \n",
       "2  Mileage (ARAI)\\n20 kmpl\\nGround clearance\\n180...  ₹11.41 Lakh   2021   \n",
       "3  Mileage (ARAI)\\n21.5 kmpl\\nBoot space\\n350 lit...   ₹9.64 Lakh   2019   \n",
       "4  Mileage (ARAI)\\n18.5 kmpl\\nBoot space\\n257 lit...   ₹6.57 Lakh   2019   \n",
       "\n",
       "  manufacturer  \n",
       "0         Tata  \n",
       "1       Maruti  \n",
       "2     Mahindra  \n",
       "3         Tata  \n",
       "4         Ford  "
      ]
     },
     "execution_count": 28,
     "metadata": {},
     "output_type": "execute_result"
    }
   ],
   "source": [
    "df.head()"
   ]
  },
  {
   "cell_type": "code",
   "execution_count": 29,
   "id": "faff2678",
   "metadata": {},
   "outputs": [],
   "source": [
    "df['manufacturer'].replace('Maruti',\"Maruti Suzuki\", inplace=True)"
   ]
  },
  {
   "cell_type": "code",
   "execution_count": 30,
   "id": "209cc61f",
   "metadata": {},
   "outputs": [
    {
     "data": {
      "text/plain": [
       "array(['Tata', 'Maruti Suzuki', 'Mahindra', 'Ford', 'Nissan', 'Renault',\n",
       "       'Hyundai', 'Skoda', 'Chevrolet', 'Honda', 'Kia', 'Volkswagen',\n",
       "       'MG', 'Toyota', 'Jeep', 'Datsun'], dtype=object)"
      ]
     },
     "execution_count": 30,
     "metadata": {},
     "output_type": "execute_result"
    }
   ],
   "source": [
    "df.manufacturer.unique()"
   ]
  },
  {
   "cell_type": "markdown",
   "id": "c504a8ca",
   "metadata": {},
   "source": [
    "# Cleaning fuel_type and transmission columns"
   ]
  },
  {
   "cell_type": "code",
   "execution_count": 31,
   "id": "3ed37d10",
   "metadata": {},
   "outputs": [],
   "source": [
    "def clean(x):\n",
    "    x = x[3:]\n",
    "    return x"
   ]
  },
  {
   "cell_type": "code",
   "execution_count": 32,
   "id": "39cf1f58",
   "metadata": {},
   "outputs": [],
   "source": [
    "df['fuel_type'] = df['fuel_type'].apply(lambda x: clean(x))"
   ]
  },
  {
   "cell_type": "code",
   "execution_count": 33,
   "id": "757a9aff",
   "metadata": {},
   "outputs": [],
   "source": [
    "df['transmission'] = df['transmission'].apply(lambda x: clean(x))"
   ]
  },
  {
   "cell_type": "code",
   "execution_count": 34,
   "id": "0f3692a8",
   "metadata": {},
   "outputs": [
    {
     "data": {
      "text/html": [
       "<div>\n",
       "<style scoped>\n",
       "    .dataframe tbody tr th:only-of-type {\n",
       "        vertical-align: middle;\n",
       "    }\n",
       "\n",
       "    .dataframe tbody tr th {\n",
       "        vertical-align: top;\n",
       "    }\n",
       "\n",
       "    .dataframe thead th {\n",
       "        text-align: right;\n",
       "    }\n",
       "</style>\n",
       "<table border=\"1\" class=\"dataframe\">\n",
       "  <thead>\n",
       "    <tr style=\"text-align: right;\">\n",
       "      <th></th>\n",
       "      <th>brand</th>\n",
       "      <th>km_driven</th>\n",
       "      <th>fuel_type</th>\n",
       "      <th>transmission</th>\n",
       "      <th>all_spec_1</th>\n",
       "      <th>price</th>\n",
       "      <th>model</th>\n",
       "      <th>manufacturer</th>\n",
       "    </tr>\n",
       "  </thead>\n",
       "  <tbody>\n",
       "    <tr>\n",
       "      <th>0</th>\n",
       "      <td>Tata Harrier XZ</td>\n",
       "      <td>38K km</td>\n",
       "      <td>Diesel</td>\n",
       "      <td>Manual</td>\n",
       "      <td>Mileage (ARAI)\\n17 kmpl\\nGround clearance\\n205...</td>\n",
       "      <td>₹15.65 Lakh</td>\n",
       "      <td>2019</td>\n",
       "      <td>Tata</td>\n",
       "    </tr>\n",
       "    <tr>\n",
       "      <th>1</th>\n",
       "      <td>Maruti Suzuki Baleno Zeta Petrol</td>\n",
       "      <td>25K km</td>\n",
       "      <td>Petrol</td>\n",
       "      <td>Manual</td>\n",
       "      <td>Mileage (ARAI)\\n21.01 kmpl\\nGround clearance\\n...</td>\n",
       "      <td>₹7.85 Lakh</td>\n",
       "      <td>2019</td>\n",
       "      <td>Maruti Suzuki</td>\n",
       "    </tr>\n",
       "  </tbody>\n",
       "</table>\n",
       "</div>"
      ],
      "text/plain": [
       "                              brand km_driven fuel_type transmission  \\\n",
       "0                   Tata Harrier XZ    38K km    Diesel       Manual   \n",
       "1  Maruti Suzuki Baleno Zeta Petrol    25K km    Petrol       Manual   \n",
       "\n",
       "                                          all_spec_1        price  model  \\\n",
       "0  Mileage (ARAI)\\n17 kmpl\\nGround clearance\\n205...  ₹15.65 Lakh   2019   \n",
       "1  Mileage (ARAI)\\n21.01 kmpl\\nGround clearance\\n...   ₹7.85 Lakh   2019   \n",
       "\n",
       "    manufacturer  \n",
       "0           Tata  \n",
       "1  Maruti Suzuki  "
      ]
     },
     "execution_count": 34,
     "metadata": {},
     "output_type": "execute_result"
    }
   ],
   "source": [
    "df.head(2)"
   ]
  },
  {
   "cell_type": "markdown",
   "id": "eb9718cc",
   "metadata": {},
   "source": [
    "# Cleaning km_driven column"
   ]
  },
  {
   "cell_type": "code",
   "execution_count": 35,
   "id": "9959674a",
   "metadata": {},
   "outputs": [
    {
     "data": {
      "text/plain": [
       "array(['38K km', '25K km', '51K km', '54K km', '18K km', '20K km',\n",
       "       '71K km', '40K km', '10K km', '15K km', '98K km', '72K km',\n",
       "       '21K km', '35K km', '79K km', '45K km', '65K km', '29K km',\n",
       "       '50K km', '22K km', '39K km', '64K km', '82K km', '16K km',\n",
       "       '32K km', '84K km', '80K km', '49K km', '52K km', '3K km',\n",
       "       '53K km', '66K km', '78K km', '47K km', '58K km', '67K km',\n",
       "       '9K km', '31K km', '8K km', '7K km', '44K km', '59K km', '30K km',\n",
       "       '57K km', '60K km', '61K km', '94K km', '87K km', '96K km',\n",
       "       '33K km', '14K km', '56K km', '17K km', '92K km', '41K km',\n",
       "       '62K km', '77K km', '28K km', '24K km', '23K km', '42K km',\n",
       "       '69K km', '114K km', '81K km', '75K km', '55K km', '74K km',\n",
       "       '46K km', '105K km', '4K km', '37K km', '83K km', '12K km',\n",
       "       '19K km', '11K km', '5K km', '88K km', '89K km', '93K km',\n",
       "       '26K km', '95K km', '13K km', '36K km', '73K km', '27K km',\n",
       "       '118K km', '76K km', '108K km', '85K km', '97K km', '91K km',\n",
       "       '100K km', '34K km', '99K km', '90K km', '6K km', '68K km',\n",
       "       '63K km', '102K km', '116K km', '43K km', '48K km', '86K km',\n",
       "       '70K km'], dtype=object)"
      ]
     },
     "execution_count": 35,
     "metadata": {},
     "output_type": "execute_result"
    }
   ],
   "source": [
    "df.km_driven.unique()"
   ]
  },
  {
   "cell_type": "code",
   "execution_count": 36,
   "id": "3a51412f",
   "metadata": {},
   "outputs": [],
   "source": [
    "def driven(x):\n",
    "    x = int(x.replace(x[-4:], \"\"))\n",
    "    return x"
   ]
  },
  {
   "cell_type": "code",
   "execution_count": 37,
   "id": "8937374b",
   "metadata": {},
   "outputs": [],
   "source": [
    "a = \"26K km\""
   ]
  },
  {
   "cell_type": "code",
   "execution_count": 38,
   "id": "74392a59",
   "metadata": {},
   "outputs": [
    {
     "data": {
      "text/plain": [
       "26"
      ]
     },
     "execution_count": 38,
     "metadata": {},
     "output_type": "execute_result"
    }
   ],
   "source": [
    "driven(a)"
   ]
  },
  {
   "cell_type": "code",
   "execution_count": 39,
   "id": "c44b9e27",
   "metadata": {},
   "outputs": [],
   "source": [
    "df['km_driven'] = df['km_driven'].apply(lambda x: driven(x))"
   ]
  },
  {
   "cell_type": "code",
   "execution_count": 40,
   "id": "1376f66a",
   "metadata": {},
   "outputs": [],
   "source": [
    "df = df.rename(columns = {'km_driven':'km_driven_(in_thousands)'})"
   ]
  },
  {
   "cell_type": "code",
   "execution_count": 41,
   "id": "11b8ebeb",
   "metadata": {},
   "outputs": [
    {
     "data": {
      "text/html": [
       "<div>\n",
       "<style scoped>\n",
       "    .dataframe tbody tr th:only-of-type {\n",
       "        vertical-align: middle;\n",
       "    }\n",
       "\n",
       "    .dataframe tbody tr th {\n",
       "        vertical-align: top;\n",
       "    }\n",
       "\n",
       "    .dataframe thead th {\n",
       "        text-align: right;\n",
       "    }\n",
       "</style>\n",
       "<table border=\"1\" class=\"dataframe\">\n",
       "  <thead>\n",
       "    <tr style=\"text-align: right;\">\n",
       "      <th></th>\n",
       "      <th>brand</th>\n",
       "      <th>km_driven_(in_thousands)</th>\n",
       "      <th>fuel_type</th>\n",
       "      <th>transmission</th>\n",
       "      <th>all_spec_1</th>\n",
       "      <th>price</th>\n",
       "      <th>model</th>\n",
       "      <th>manufacturer</th>\n",
       "    </tr>\n",
       "  </thead>\n",
       "  <tbody>\n",
       "    <tr>\n",
       "      <th>0</th>\n",
       "      <td>Tata Harrier XZ</td>\n",
       "      <td>38</td>\n",
       "      <td>Diesel</td>\n",
       "      <td>Manual</td>\n",
       "      <td>Mileage (ARAI)\\n17 kmpl\\nGround clearance\\n205...</td>\n",
       "      <td>₹15.65 Lakh</td>\n",
       "      <td>2019</td>\n",
       "      <td>Tata</td>\n",
       "    </tr>\n",
       "    <tr>\n",
       "      <th>1</th>\n",
       "      <td>Maruti Suzuki Baleno Zeta Petrol</td>\n",
       "      <td>25</td>\n",
       "      <td>Petrol</td>\n",
       "      <td>Manual</td>\n",
       "      <td>Mileage (ARAI)\\n21.01 kmpl\\nGround clearance\\n...</td>\n",
       "      <td>₹7.85 Lakh</td>\n",
       "      <td>2019</td>\n",
       "      <td>Maruti Suzuki</td>\n",
       "    </tr>\n",
       "  </tbody>\n",
       "</table>\n",
       "</div>"
      ],
      "text/plain": [
       "                              brand  km_driven_(in_thousands) fuel_type  \\\n",
       "0                   Tata Harrier XZ                        38    Diesel   \n",
       "1  Maruti Suzuki Baleno Zeta Petrol                        25    Petrol   \n",
       "\n",
       "  transmission                                         all_spec_1  \\\n",
       "0       Manual  Mileage (ARAI)\\n17 kmpl\\nGround clearance\\n205...   \n",
       "1       Manual  Mileage (ARAI)\\n21.01 kmpl\\nGround clearance\\n...   \n",
       "\n",
       "         price  model   manufacturer  \n",
       "0  ₹15.65 Lakh   2019           Tata  \n",
       "1   ₹7.85 Lakh   2019  Maruti Suzuki  "
      ]
     },
     "execution_count": 41,
     "metadata": {},
     "output_type": "execute_result"
    }
   ],
   "source": [
    "df.head(2)"
   ]
  },
  {
   "cell_type": "markdown",
   "id": "e7771cc3",
   "metadata": {},
   "source": [
    "# Cleaning price column"
   ]
  },
  {
   "cell_type": "code",
   "execution_count": 42,
   "id": "6862f08e",
   "metadata": {},
   "outputs": [
    {
     "data": {
      "text/plain": [
       "array(['₹15.65 Lakh', '₹7.85 Lakh', '₹11.41 Lakh', '₹9.64 Lakh',\n",
       "       '₹6.57 Lakh', '₹2.12 Lakh', '₹19.05 Lakh', '₹7.21 Lakh',\n",
       "       '₹9.41 Lakh', '₹10.76 Lakh', '₹7.18 Lakh', '₹7.49 Lakh',\n",
       "       '₹7.25 Lakh', '₹3.12 Lakh', '₹4.96 Lakh', '₹6.43 Lakh',\n",
       "       '₹9.36 Lakh', '₹9.98 Lakh', '₹5.61 Lakh', '₹5.79 Lakh',\n",
       "       '₹7.26 Lakh', '₹10.70 Lakh', '₹5.64 Lakh', '₹5.60 Lakh',\n",
       "       '₹5.27 Lakh', '₹9.76 Lakh', '₹6.41 Lakh', '₹12.99 Lakh',\n",
       "       '₹7.64 Lakh', '₹6.71 Lakh', '₹8.58 Lakh', '₹3.18 Lakh',\n",
       "       '₹8.82 Lakh', '₹6.64 Lakh', '₹3.07 Lakh', '₹9.49 Lakh',\n",
       "       '₹7.40 Lakh', '₹16.39 Lakh', '₹6.93 Lakh', '₹16.38 Lakh',\n",
       "       '₹7.53 Lakh', '₹10.01 Lakh', '₹9.91 Lakh', '₹6.99 Lakh',\n",
       "       '₹8.51 Lakh', '₹5.07 Lakh', '₹6.63 Lakh', '₹7.54 Lakh',\n",
       "       '₹6.09 Lakh', '₹10.12 Lakh', '₹4.53 Lakh', '₹16.97 Lakh',\n",
       "       '₹14.12 Lakh', '₹4.62 Lakh', '₹10.73 Lakh', '₹4.67 Lakh',\n",
       "       '₹18.30 Lakh', '₹7.77 Lakh', '₹6.79 Lakh', '₹5.48 Lakh',\n",
       "       '₹15.13 Lakh', '₹4.32 Lakh', '₹4.99 Lakh', '₹12.62 Lakh',\n",
       "       '₹4.85 Lakh', '₹8.96 Lakh', '₹34.48 Lakh', '₹10.22 Lakh',\n",
       "       '₹5.26 Lakh', '₹10.33 Lakh', '₹4.36 Lakh', '₹6.33 Lakh',\n",
       "       '₹12.69 Lakh', '₹13.57 Lakh', '₹8.12 Lakh', '₹4.55 Lakh',\n",
       "       '₹6.30 Lakh', '₹5.94 Lakh', '₹4.72 Lakh', '₹6.31 Lakh',\n",
       "       '₹8.83 Lakh', '₹2.41 Lakh', '₹18.01 Lakh', '₹3.38 Lakh',\n",
       "       '₹8.95 Lakh', '₹3.14 Lakh', '₹5.85 Lakh', '₹6.01 Lakh',\n",
       "       '₹9.78 Lakh', '₹6.84 Lakh', '₹9.26 Lakh', '₹6.61 Lakh',\n",
       "       '₹5.83 Lakh', '₹8.40 Lakh', '₹2.89 Lakh', '₹14.56 Lakh',\n",
       "       '₹8.38 Lakh', '₹8.65 Lakh', '₹9.68 Lakh', '₹11.69 Lakh',\n",
       "       '₹5.24 Lakh', '₹9.71 Lakh', '₹2.35 Lakh', '₹8.30 Lakh',\n",
       "       '₹5.10 Lakh', '₹4.90 Lakh', '₹3.33 Lakh', '₹2.43 Lakh',\n",
       "       '₹3.81 Lakh', '₹8.29 Lakh', '₹9.27 Lakh', '₹7.03 Lakh',\n",
       "       '₹11.58 Lakh', '₹5.89 Lakh', '₹6.81 Lakh', '₹9.17 Lakh', '₹4 Lakh',\n",
       "       '₹11.21 Lakh', '₹4.61 Lakh', '₹6.65 Lakh', '₹6.10 Lakh',\n",
       "       '₹5.74 Lakh', '₹9.85 Lakh', '₹13.83 Lakh', '₹6.62 Lakh',\n",
       "       '₹7.43 Lakh', '₹5.09 Lakh', '₹5.23 Lakh', '₹5.38 Lakh',\n",
       "       '₹8.55 Lakh', '₹9.32 Lakh', '₹9.02 Lakh', '₹3.76 Lakh',\n",
       "       '₹5.49 Lakh', '₹7.05 Lakh', '₹7.87 Lakh', '₹7.08 Lakh',\n",
       "       '₹18.89 Lakh', '₹8.90 Lakh', '₹14.36 Lakh', '₹8.16 Lakh',\n",
       "       '₹8.45 Lakh', '₹6.38 Lakh', '₹2.49 Lakh', '₹14.62 Lakh',\n",
       "       '₹9.75 Lakh', '₹14.24 Lakh', '₹13.02 Lakh', '₹9.88 Lakh',\n",
       "       '₹4.25 Lakh', '₹5.19 Lakh', '₹9.97 Lakh', '₹5.03 Lakh',\n",
       "       '₹6.17 Lakh', '₹15.57 Lakh', '₹8.73 Lakh', '₹9.06 Lakh',\n",
       "       '₹8.89 Lakh', '₹16.12 Lakh', '₹15.08 Lakh', '₹14.53 Lakh',\n",
       "       '₹13.38 Lakh', '₹2.39 Lakh', '₹6.60 Lakh', '₹8.76 Lakh',\n",
       "       '₹2.68 Lakh', '₹4.24 Lakh', '₹7.90 Lakh', '₹17.26 Lakh',\n",
       "       '₹3.90 Lakh', '₹5.68 Lakh', '₹13.12 Lakh', '₹1.87 Lakh',\n",
       "       '₹5.53 Lakh', '₹6.52 Lakh', '₹5.46 Lakh', '₹5.80 Lakh',\n",
       "       '₹6.23 Lakh', '₹3.46 Lakh', '₹3.11 Lakh', '₹6.21 Lakh',\n",
       "       '₹4.83 Lakh', '₹2.14 Lakh', '₹14.82 Lakh', '₹7.10 Lakh',\n",
       "       '₹3.42 Lakh', '₹8.98 Lakh', '₹6.89 Lakh', '₹10.93 Lakh',\n",
       "       '₹8.59 Lakh', '₹6.58 Lakh', '₹6.91 Lakh', '₹15.61 Lakh',\n",
       "       '₹3.93 Lakh', '₹4.11 Lakh', '₹6.34 Lakh', '₹9.29 Lakh',\n",
       "       '₹6.69 Lakh', '₹7.14 Lakh', '₹6.49 Lakh', '₹13.39 Lakh',\n",
       "       '₹5.65 Lakh', '₹8.49 Lakh', '₹8.36 Lakh', '₹10.15 Lakh',\n",
       "       '₹7.24 Lakh', '₹16.08 Lakh', '₹7.31 Lakh', '₹21.20 Lakh',\n",
       "       '₹13.98 Lakh', '₹6.12 Lakh', '₹12.13 Lakh', '₹11.17 Lakh',\n",
       "       '₹8.67 Lakh', '₹6.47 Lakh', '₹8.21 Lakh', '₹8.24 Lakh',\n",
       "       '₹10.81 Lakh', '₹7.50 Lakh', '₹6.83 Lakh', '₹9.43 Lakh',\n",
       "       '₹8.53 Lakh', '₹8.77 Lakh', '₹11.75 Lakh', '₹10.82 Lakh',\n",
       "       '₹9.24 Lakh', '₹10.92 Lakh', '₹11.05 Lakh', '₹9.01 Lakh',\n",
       "       '₹4.95 Lakh', '₹6.51 Lakh', '₹3.84 Lakh', '₹4.01 Lakh',\n",
       "       '₹7.99 Lakh', '₹5.30 Lakh', '₹11.99 Lakh', '₹7.76 Lakh',\n",
       "       '₹8.56 Lakh', '₹7.60 Lakh', '₹10.14 Lakh', '₹10.11 Lakh',\n",
       "       '₹15.09 Lakh', '₹3.36 Lakh', '₹8.05 Lakh', '₹8.10 Lakh',\n",
       "       '₹3.86 Lakh', '₹3.20 Lakh', '₹9.50 Lakh', '₹15.52 Lakh',\n",
       "       '₹5.12 Lakh', '₹14.58 Lakh', '₹6.82 Lakh', '₹9.13 Lakh',\n",
       "       '₹7.30 Lakh', '₹6.74 Lakh', '₹7.45 Lakh', '₹10.45 Lakh',\n",
       "       '₹12.16 Lakh', '₹4.12 Lakh', '₹6.45 Lakh', '₹11.03 Lakh',\n",
       "       '₹4.75 Lakh', '₹2.17 Lakh', '₹3.94 Lakh', '₹4.13 Lakh',\n",
       "       '₹7.61 Lakh', '₹4.87 Lakh', '₹2.60 Lakh', '₹4.37 Lakh',\n",
       "       '₹4.50 Lakh', '₹5.43 Lakh', '₹9.81 Lakh', '₹10.50 Lakh',\n",
       "       '₹23.60 Lakh', '₹21.51 Lakh', '₹8.99 Lakh', '₹3.19 Lakh',\n",
       "       '₹11.29 Lakh', '₹3.06 Lakh', '₹2.45 Lakh', '₹5.05 Lakh',\n",
       "       '₹4.21 Lakh', '₹3.70 Lakh', '₹2.76 Lakh', '₹9.47 Lakh',\n",
       "       '₹9.95 Lakh', '₹3.54 Lakh', '₹13.49 Lakh', '₹5.81 Lakh',\n",
       "       '₹12.84 Lakh', '₹7.79 Lakh', '₹20.20 Lakh', '₹13.52 Lakh',\n",
       "       '₹8.43 Lakh', '₹12.25 Lakh', '₹8.03 Lakh', '₹3.34 Lakh',\n",
       "       '₹4.31 Lakh', '₹7.29 Lakh', '₹4.59 Lakh', '₹8.27 Lakh',\n",
       "       '₹8.69 Lakh', '₹13.76 Lakh', '₹6.97 Lakh', '₹3.08 Lakh',\n",
       "       '₹12.29 Lakh', '₹10.58 Lakh', '₹10.99 Lakh', '₹16.99 Lakh',\n",
       "       '₹6.95 Lakh', '₹19.90 Lakh', '₹4.91 Lakh', '₹19.28 Lakh',\n",
       "       '₹4.29 Lakh', '₹3.99 Lakh', '₹3.95 Lakh', '₹11.76 Lakh',\n",
       "       '₹7.62 Lakh', '₹4.44 Lakh', '₹3.21 Lakh', '₹16.67 Lakh',\n",
       "       '₹4.68 Lakh', '₹11.66 Lakh', '₹16.71 Lakh', '₹17.49 Lakh',\n",
       "       '₹19.99 Lakh', '₹10 Lakh', '₹10.75 Lakh', '₹8.70 Lakh',\n",
       "       '₹6.88 Lakh', '₹14.28 Lakh', '₹9.40 Lakh', '₹3.01 Lakh',\n",
       "       '₹14.96 Lakh', '₹7.75 Lakh', '₹7.96 Lakh', '₹3 Lakh', '₹8.08 Lakh',\n",
       "       '₹17.85 Lakh', '₹11.14 Lakh', '₹9.19 Lakh', '₹5.88 Lakh',\n",
       "       '₹13.10 Lakh', '₹4.35 Lakh', '₹8.11 Lakh', '₹4.27 Lakh',\n",
       "       '₹9.55 Lakh', '₹10.56 Lakh', '₹11.65 Lakh', '₹18.96 Lakh',\n",
       "       '₹15.62 Lakh', '₹4.94 Lakh', '₹7.57 Lakh', '₹16.73 Lakh',\n",
       "       '₹9.84 Lakh', '₹9.42 Lakh', '₹4.46 Lakh', '₹13.31 Lakh',\n",
       "       '₹9.57 Lakh', '₹11.46 Lakh', '₹9.56 Lakh', '₹8.09 Lakh',\n",
       "       '₹8.20 Lakh', '₹3.25 Lakh', '₹6.48 Lakh', '₹10.08 Lakh',\n",
       "       '₹7.38 Lakh', '₹17.42 Lakh', '₹11.36 Lakh', '₹8.62 Lakh',\n",
       "       '₹10.40 Lakh', '₹14.90 Lakh', '₹10.13 Lakh', '₹6.73 Lakh',\n",
       "       '₹8.25 Lakh', '₹7.86 Lakh', '₹5.95 Lakh', '₹10.38 Lakh',\n",
       "       '₹17.62 Lakh', '₹11.34 Lakh', '₹13.05 Lakh', '₹8.66 Lakh',\n",
       "       '₹16.17 Lakh', '₹8.19 Lakh', '₹18.12 Lakh', '₹3.10 Lakh',\n",
       "       '₹20.06 Lakh', '₹9.90 Lakh', '₹18.29 Lakh', '₹11.09 Lakh',\n",
       "       '₹7.17 Lakh', '₹15.54 Lakh', '₹19.67 Lakh', '₹8.48 Lakh',\n",
       "       '₹7.36 Lakh', '₹16.85 Lakh', '₹8.18 Lakh', '₹18.98 Lakh',\n",
       "       '₹7.92 Lakh', '₹9.15 Lakh', '₹14.74 Lakh', '₹6.56 Lakh',\n",
       "       '₹10.35 Lakh', '₹11.92 Lakh', '₹13.61 Lakh', '₹10.79 Lakh',\n",
       "       '₹11.10 Lakh', '₹21.80 Lakh', '₹16.72 Lakh', '₹16.93 Lakh',\n",
       "       '₹11.01 Lakh', '₹7.12 Lakh', '₹15.60 Lakh', '₹6.28 Lakh',\n",
       "       '₹8.13 Lakh', '₹27.33 Lakh', '₹17.54 Lakh', '₹9.25 Lakh',\n",
       "       '₹14.64 Lakh', '₹21.68 Lakh', '₹9.21 Lakh', '₹7.02 Lakh',\n",
       "       '₹11.35 Lakh', '₹6.94 Lakh', '₹7.13 Lakh', '₹14.48 Lakh',\n",
       "       '₹10.47 Lakh', '₹10.30 Lakh', '₹12.57 Lakh', '₹18.94 Lakh',\n",
       "       '₹18.48 Lakh', '₹12.48 Lakh', '₹19.84 Lakh', '₹14.97 Lakh',\n",
       "       '₹5.70 Lakh', '₹8.47 Lakh', '₹2.73 Lakh', '₹12.90 Lakh',\n",
       "       '₹2.19 Lakh', '₹3.32 Lakh', '₹16.69 Lakh', '₹5.42 Lakh',\n",
       "       '₹18.10 Lakh', '₹7.69 Lakh', '₹3.49 Lakh', '₹4.92 Lakh',\n",
       "       '₹4.98 Lakh', '₹7.84 Lakh', '₹9.22 Lakh', '₹5.20 Lakh',\n",
       "       '₹11.72 Lakh', '₹10.23 Lakh', '₹13.53 Lakh', '₹7.95 Lakh',\n",
       "       '₹5.15 Lakh', '₹6.80 Lakh', '₹3.37 Lakh', '₹19.14 Lakh',\n",
       "       '₹11.18 Lakh', '₹6.96 Lakh', '₹4.47 Lakh', '₹11.20 Lakh',\n",
       "       '₹5.39 Lakh', '₹14.42 Lakh', '₹13.82 Lakh', '₹3.57 Lakh',\n",
       "       '₹18.40 Lakh', '₹6.90 Lakh', '₹9.73 Lakh', '₹3.28 Lakh',\n",
       "       '₹2.18 Lakh', '₹5.73 Lakh', '₹13.72 Lakh', '₹11.55 Lakh',\n",
       "       '₹2.83 Lakh', '₹4.03 Lakh', '₹5.40 Lakh', '₹8.54 Lakh',\n",
       "       '₹6.98 Lakh', '₹7.81 Lakh', '₹10.83 Lakh', '₹6 Lakh', '₹6.22 Lakh',\n",
       "       '₹4.77 Lakh', '₹8.46 Lakh', '₹7.07 Lakh', '₹9.62 Lakh',\n",
       "       '₹18.16 Lakh', '₹2.61 Lakh', '₹4.49 Lakh', '₹7.59 Lakh',\n",
       "       '₹15.44 Lakh', '₹9.86 Lakh'], dtype=object)"
      ]
     },
     "execution_count": 42,
     "metadata": {},
     "output_type": "execute_result"
    }
   ],
   "source": [
    "df.price.unique()"
   ]
  },
  {
   "cell_type": "code",
   "execution_count": 43,
   "id": "62073b3e",
   "metadata": {},
   "outputs": [],
   "source": [
    "def price(x):\n",
    "    x = x[1:].split()[0]\n",
    "    return float(x)"
   ]
  },
  {
   "cell_type": "code",
   "execution_count": 44,
   "id": "d17cad4f",
   "metadata": {},
   "outputs": [],
   "source": [
    "df['price'] = df['price'].apply(lambda x: price(x))"
   ]
  },
  {
   "cell_type": "code",
   "execution_count": 45,
   "id": "374594ad",
   "metadata": {},
   "outputs": [
    {
     "data": {
      "text/html": [
       "<div>\n",
       "<style scoped>\n",
       "    .dataframe tbody tr th:only-of-type {\n",
       "        vertical-align: middle;\n",
       "    }\n",
       "\n",
       "    .dataframe tbody tr th {\n",
       "        vertical-align: top;\n",
       "    }\n",
       "\n",
       "    .dataframe thead th {\n",
       "        text-align: right;\n",
       "    }\n",
       "</style>\n",
       "<table border=\"1\" class=\"dataframe\">\n",
       "  <thead>\n",
       "    <tr style=\"text-align: right;\">\n",
       "      <th></th>\n",
       "      <th>brand</th>\n",
       "      <th>km_driven_(in_thousands)</th>\n",
       "      <th>fuel_type</th>\n",
       "      <th>transmission</th>\n",
       "      <th>all_spec_1</th>\n",
       "      <th>price</th>\n",
       "      <th>model</th>\n",
       "      <th>manufacturer</th>\n",
       "    </tr>\n",
       "  </thead>\n",
       "  <tbody>\n",
       "    <tr>\n",
       "      <th>0</th>\n",
       "      <td>Tata Harrier XZ</td>\n",
       "      <td>38</td>\n",
       "      <td>Diesel</td>\n",
       "      <td>Manual</td>\n",
       "      <td>Mileage (ARAI)\\n17 kmpl\\nGround clearance\\n205...</td>\n",
       "      <td>15.65</td>\n",
       "      <td>2019</td>\n",
       "      <td>Tata</td>\n",
       "    </tr>\n",
       "    <tr>\n",
       "      <th>1</th>\n",
       "      <td>Maruti Suzuki Baleno Zeta Petrol</td>\n",
       "      <td>25</td>\n",
       "      <td>Petrol</td>\n",
       "      <td>Manual</td>\n",
       "      <td>Mileage (ARAI)\\n21.01 kmpl\\nGround clearance\\n...</td>\n",
       "      <td>7.85</td>\n",
       "      <td>2019</td>\n",
       "      <td>Maruti Suzuki</td>\n",
       "    </tr>\n",
       "  </tbody>\n",
       "</table>\n",
       "</div>"
      ],
      "text/plain": [
       "                              brand  km_driven_(in_thousands) fuel_type  \\\n",
       "0                   Tata Harrier XZ                        38    Diesel   \n",
       "1  Maruti Suzuki Baleno Zeta Petrol                        25    Petrol   \n",
       "\n",
       "  transmission                                         all_spec_1  price  \\\n",
       "0       Manual  Mileage (ARAI)\\n17 kmpl\\nGround clearance\\n205...  15.65   \n",
       "1       Manual  Mileage (ARAI)\\n21.01 kmpl\\nGround clearance\\n...   7.85   \n",
       "\n",
       "   model   manufacturer  \n",
       "0   2019           Tata  \n",
       "1   2019  Maruti Suzuki  "
      ]
     },
     "execution_count": 45,
     "metadata": {},
     "output_type": "execute_result"
    }
   ],
   "source": [
    "df.head(2)"
   ]
  },
  {
   "cell_type": "code",
   "execution_count": 46,
   "id": "7cfcee56",
   "metadata": {},
   "outputs": [
    {
     "data": {
      "text/plain": [
       "brand                        object\n",
       "km_driven_(in_thousands)      int64\n",
       "fuel_type                    object\n",
       "transmission                 object\n",
       "all_spec_1                   object\n",
       "price                       float64\n",
       "model                         int64\n",
       "manufacturer                 object\n",
       "dtype: object"
      ]
     },
     "execution_count": 46,
     "metadata": {},
     "output_type": "execute_result"
    }
   ],
   "source": [
    "df.dtypes"
   ]
  },
  {
   "cell_type": "markdown",
   "id": "0e4ecad5",
   "metadata": {},
   "source": [
    "# Finally, working on specifications column"
   ]
  },
  {
   "cell_type": "code",
   "execution_count": 47,
   "id": "88af668b",
   "metadata": {},
   "outputs": [],
   "source": [
    "df.rename(columns={'all_spec_1': 'specifications'}, inplace=True)"
   ]
  },
  {
   "cell_type": "code",
   "execution_count": 48,
   "id": "069b4211",
   "metadata": {},
   "outputs": [
    {
     "data": {
      "text/plain": [
       "'Mileage (ARAI)\\n17 kmpl\\nGround clearance\\n205 mm\\nBoot space\\n425 litres\\nSeating capacity\\n5 units\\nFuel tank capacity\\n50 litres\\nMax power\\n138 bhp\\nVIEW ALL SPECIFICATIONS'"
      ]
     },
     "execution_count": 48,
     "metadata": {},
     "output_type": "execute_result"
    }
   ],
   "source": [
    "a = df.iloc[0,4]\n",
    "a"
   ]
  },
  {
   "cell_type": "code",
   "execution_count": 49,
   "id": "1ee9ccfe",
   "metadata": {},
   "outputs": [],
   "source": [
    "b = 'Mileage (ARAI)\\n17 kmpl\\nGround clearance\\n205 mm\\nSeating capacity\\n5 units\\nFuel tank capacity\\n50 litres\\nMax power\\n138 bhp\\nVIEW ALL SPECIFICATIONS'"
   ]
  },
  {
   "cell_type": "code",
   "execution_count": 50,
   "id": "60b073f2",
   "metadata": {},
   "outputs": [
    {
     "data": {
      "text/plain": [
       "['Mileage (ARAI)',\n",
       " '17 kmpl',\n",
       " 'Ground clearance',\n",
       " '205 mm',\n",
       " 'Boot space',\n",
       " '425 litres',\n",
       " 'Seating capacity',\n",
       " '5 units',\n",
       " 'Fuel tank capacity',\n",
       " '50 litres',\n",
       " 'Max power',\n",
       " '138 bhp',\n",
       " 'VIEW ALL SPECIFICATIONS']"
      ]
     },
     "execution_count": 50,
     "metadata": {},
     "output_type": "execute_result"
    }
   ],
   "source": [
    "a.split(\"\\n\")"
   ]
  },
  {
   "cell_type": "code",
   "execution_count": 51,
   "id": "4c07db33",
   "metadata": {},
   "outputs": [],
   "source": [
    "def spec(x):\n",
    "    x = x.split(\"\\n\")\n",
    "    ls = ['Mileage (ARAI)', 'Ground clearance', 'Boot space', 'Seating capacity', 'Fuel tank capacity', 'Max power']\n",
    "    for i in ls:\n",
    "        if i == \"Mileage (ARAI)\":\n",
    "            try:\n",
    "                mileage = x[x.index(i)+1]\n",
    "            except:\n",
    "                mileage = np.nan\n",
    "        elif i == 'Ground clearance':\n",
    "            try:\n",
    "                ground_clearance = x[x.index(i)+1]\n",
    "            except:\n",
    "                ground_clearance = np.nan\n",
    "        elif i == 'Boot space':\n",
    "            try:\n",
    "                boot_space = x[x.index(i)+1]\n",
    "            except:\n",
    "                boot_space = np.nan\n",
    "        elif i == 'Seating capacity':\n",
    "            try:\n",
    "                seating_capacity = x[x.index(i)+1]\n",
    "            except:\n",
    "                seating_capacity = np.nan\n",
    "        elif i == 'Fuel tank capacity':\n",
    "            try:\n",
    "                fuel_tank_capacity = x[x.index(i)+1]\n",
    "            except:\n",
    "                fuel_tank_capacity = np.nan\n",
    "        elif i == 'Max power':\n",
    "            try:\n",
    "                max_power = x[x.index(i)+1]\n",
    "            except:\n",
    "                max_power = np.nan\n",
    "                \n",
    "    return mileage, ground_clearance, boot_space, seating_capacity, fuel_tank_capacity, max_power"
   ]
  },
  {
   "cell_type": "code",
   "execution_count": 52,
   "id": "83d891e6",
   "metadata": {},
   "outputs": [
    {
     "data": {
      "text/plain": [
       "('17 kmpl', '205 mm', '425 litres', '5 units', '50 litres', '138 bhp')"
      ]
     },
     "execution_count": 52,
     "metadata": {},
     "output_type": "execute_result"
    }
   ],
   "source": [
    "spec(a)"
   ]
  },
  {
   "cell_type": "code",
   "execution_count": 53,
   "id": "ee9068cc",
   "metadata": {},
   "outputs": [
    {
     "data": {
      "text/plain": [
       "('17 kmpl', '205 mm', nan, '5 units', '50 litres', '138 bhp')"
      ]
     },
     "execution_count": 53,
     "metadata": {},
     "output_type": "execute_result"
    }
   ],
   "source": [
    "spec(b)"
   ]
  },
  {
   "cell_type": "code",
   "execution_count": 54,
   "id": "44433dde",
   "metadata": {},
   "outputs": [],
   "source": [
    "df[['mileage', 'ground_clearance', 'boot_space', 'seating_capacity', 'fuel_tank_capacity', 'max_power']] = df['specifications'].apply(lambda x: pd.Series(spec(x)))"
   ]
  },
  {
   "cell_type": "code",
   "execution_count": 55,
   "id": "77592525",
   "metadata": {},
   "outputs": [
    {
     "data": {
      "text/plain": [
       "brand                         0\n",
       "km_driven_(in_thousands)      0\n",
       "fuel_type                     0\n",
       "transmission                  0\n",
       "specifications                0\n",
       "price                         0\n",
       "model                         0\n",
       "manufacturer                  0\n",
       "mileage                      40\n",
       "ground_clearance             70\n",
       "boot_space                  103\n",
       "seating_capacity             10\n",
       "fuel_tank_capacity           10\n",
       "max_power                   108\n",
       "dtype: int64"
      ]
     },
     "execution_count": 55,
     "metadata": {},
     "output_type": "execute_result"
    }
   ],
   "source": [
    "df.isnull().sum()"
   ]
  },
  {
   "cell_type": "code",
   "execution_count": 56,
   "id": "a3b8cbdb",
   "metadata": {},
   "outputs": [],
   "source": [
    "df.dropna(inplace=True)"
   ]
  },
  {
   "cell_type": "code",
   "execution_count": 57,
   "id": "f70b5435",
   "metadata": {},
   "outputs": [
    {
     "data": {
      "text/plain": [
       "(417, 14)"
      ]
     },
     "execution_count": 57,
     "metadata": {},
     "output_type": "execute_result"
    }
   ],
   "source": [
    "df.shape"
   ]
  },
  {
   "cell_type": "code",
   "execution_count": 58,
   "id": "3eb138a6",
   "metadata": {},
   "outputs": [],
   "source": [
    "df.drop('specifications', axis=1, inplace=True)"
   ]
  },
  {
   "cell_type": "markdown",
   "id": "b8ce130f",
   "metadata": {},
   "source": [
    "# Cleaning/Preparing the specification columns like mileage, boot space, etc"
   ]
  },
  {
   "cell_type": "code",
   "execution_count": 59,
   "id": "fd3aaba4",
   "metadata": {},
   "outputs": [
    {
     "data": {
      "text/html": [
       "<div>\n",
       "<style scoped>\n",
       "    .dataframe tbody tr th:only-of-type {\n",
       "        vertical-align: middle;\n",
       "    }\n",
       "\n",
       "    .dataframe tbody tr th {\n",
       "        vertical-align: top;\n",
       "    }\n",
       "\n",
       "    .dataframe thead th {\n",
       "        text-align: right;\n",
       "    }\n",
       "</style>\n",
       "<table border=\"1\" class=\"dataframe\">\n",
       "  <thead>\n",
       "    <tr style=\"text-align: right;\">\n",
       "      <th></th>\n",
       "      <th>brand</th>\n",
       "      <th>km_driven_(in_thousands)</th>\n",
       "      <th>fuel_type</th>\n",
       "      <th>transmission</th>\n",
       "      <th>price</th>\n",
       "      <th>model</th>\n",
       "      <th>manufacturer</th>\n",
       "      <th>mileage</th>\n",
       "      <th>ground_clearance</th>\n",
       "      <th>boot_space</th>\n",
       "      <th>seating_capacity</th>\n",
       "      <th>fuel_tank_capacity</th>\n",
       "      <th>max_power</th>\n",
       "    </tr>\n",
       "  </thead>\n",
       "  <tbody>\n",
       "    <tr>\n",
       "      <th>0</th>\n",
       "      <td>Tata Harrier XZ</td>\n",
       "      <td>38</td>\n",
       "      <td>Diesel</td>\n",
       "      <td>Manual</td>\n",
       "      <td>15.65</td>\n",
       "      <td>2019</td>\n",
       "      <td>Tata</td>\n",
       "      <td>17 kmpl</td>\n",
       "      <td>205 mm</td>\n",
       "      <td>425 litres</td>\n",
       "      <td>5 units</td>\n",
       "      <td>50 litres</td>\n",
       "      <td>138 bhp</td>\n",
       "    </tr>\n",
       "    <tr>\n",
       "      <th>1</th>\n",
       "      <td>Maruti Suzuki Baleno Zeta Petrol</td>\n",
       "      <td>25</td>\n",
       "      <td>Petrol</td>\n",
       "      <td>Manual</td>\n",
       "      <td>7.85</td>\n",
       "      <td>2019</td>\n",
       "      <td>Maruti Suzuki</td>\n",
       "      <td>21.01 kmpl</td>\n",
       "      <td>170 mm</td>\n",
       "      <td>339 litres</td>\n",
       "      <td>5 units</td>\n",
       "      <td>37 litres</td>\n",
       "      <td>81.80 bhp</td>\n",
       "    </tr>\n",
       "  </tbody>\n",
       "</table>\n",
       "</div>"
      ],
      "text/plain": [
       "                              brand  km_driven_(in_thousands) fuel_type  \\\n",
       "0                   Tata Harrier XZ                        38    Diesel   \n",
       "1  Maruti Suzuki Baleno Zeta Petrol                        25    Petrol   \n",
       "\n",
       "  transmission  price  model   manufacturer     mileage ground_clearance  \\\n",
       "0       Manual  15.65   2019           Tata     17 kmpl           205 mm   \n",
       "1       Manual   7.85   2019  Maruti Suzuki  21.01 kmpl           170 mm   \n",
       "\n",
       "   boot_space seating_capacity fuel_tank_capacity  max_power  \n",
       "0  425 litres          5 units          50 litres    138 bhp  \n",
       "1  339 litres          5 units          37 litres  81.80 bhp  "
      ]
     },
     "execution_count": 59,
     "metadata": {},
     "output_type": "execute_result"
    }
   ],
   "source": [
    "df.head(2)"
   ]
  },
  {
   "cell_type": "code",
   "execution_count": 60,
   "id": "3ae457f4",
   "metadata": {},
   "outputs": [],
   "source": [
    "specifications = ['mileage', 'ground_clearance', 'boot_space', 'seating_capacity', 'fuel_tank_capacity', 'max_power']"
   ]
  },
  {
   "cell_type": "code",
   "execution_count": 61,
   "id": "eba7a7d7",
   "metadata": {},
   "outputs": [],
   "source": [
    "def magnitude(x):\n",
    "    x = x.split()[0]\n",
    "    return x"
   ]
  },
  {
   "cell_type": "code",
   "execution_count": 62,
   "id": "2ea71e94",
   "metadata": {},
   "outputs": [],
   "source": [
    "for i in specifications:\n",
    "    df[i] = df[i].apply(lambda x: magnitude(x))"
   ]
  },
  {
   "cell_type": "code",
   "execution_count": 63,
   "id": "08a6f542",
   "metadata": {},
   "outputs": [
    {
     "data": {
      "text/html": [
       "<div>\n",
       "<style scoped>\n",
       "    .dataframe tbody tr th:only-of-type {\n",
       "        vertical-align: middle;\n",
       "    }\n",
       "\n",
       "    .dataframe tbody tr th {\n",
       "        vertical-align: top;\n",
       "    }\n",
       "\n",
       "    .dataframe thead th {\n",
       "        text-align: right;\n",
       "    }\n",
       "</style>\n",
       "<table border=\"1\" class=\"dataframe\">\n",
       "  <thead>\n",
       "    <tr style=\"text-align: right;\">\n",
       "      <th></th>\n",
       "      <th>brand</th>\n",
       "      <th>km_driven_(in_thousands)</th>\n",
       "      <th>fuel_type</th>\n",
       "      <th>transmission</th>\n",
       "      <th>price</th>\n",
       "      <th>model</th>\n",
       "      <th>manufacturer</th>\n",
       "      <th>mileage</th>\n",
       "      <th>ground_clearance</th>\n",
       "      <th>boot_space</th>\n",
       "      <th>seating_capacity</th>\n",
       "      <th>fuel_tank_capacity</th>\n",
       "      <th>max_power</th>\n",
       "    </tr>\n",
       "  </thead>\n",
       "  <tbody>\n",
       "    <tr>\n",
       "      <th>0</th>\n",
       "      <td>Tata Harrier XZ</td>\n",
       "      <td>38</td>\n",
       "      <td>Diesel</td>\n",
       "      <td>Manual</td>\n",
       "      <td>15.65</td>\n",
       "      <td>2019</td>\n",
       "      <td>Tata</td>\n",
       "      <td>17</td>\n",
       "      <td>205</td>\n",
       "      <td>425</td>\n",
       "      <td>5</td>\n",
       "      <td>50</td>\n",
       "      <td>138</td>\n",
       "    </tr>\n",
       "    <tr>\n",
       "      <th>1</th>\n",
       "      <td>Maruti Suzuki Baleno Zeta Petrol</td>\n",
       "      <td>25</td>\n",
       "      <td>Petrol</td>\n",
       "      <td>Manual</td>\n",
       "      <td>7.85</td>\n",
       "      <td>2019</td>\n",
       "      <td>Maruti Suzuki</td>\n",
       "      <td>21.01</td>\n",
       "      <td>170</td>\n",
       "      <td>339</td>\n",
       "      <td>5</td>\n",
       "      <td>37</td>\n",
       "      <td>81.80</td>\n",
       "    </tr>\n",
       "  </tbody>\n",
       "</table>\n",
       "</div>"
      ],
      "text/plain": [
       "                              brand  km_driven_(in_thousands) fuel_type  \\\n",
       "0                   Tata Harrier XZ                        38    Diesel   \n",
       "1  Maruti Suzuki Baleno Zeta Petrol                        25    Petrol   \n",
       "\n",
       "  transmission  price  model   manufacturer mileage ground_clearance  \\\n",
       "0       Manual  15.65   2019           Tata      17              205   \n",
       "1       Manual   7.85   2019  Maruti Suzuki   21.01              170   \n",
       "\n",
       "  boot_space seating_capacity fuel_tank_capacity max_power  \n",
       "0        425                5                 50       138  \n",
       "1        339                5                 37     81.80  "
      ]
     },
     "execution_count": 63,
     "metadata": {},
     "output_type": "execute_result"
    }
   ],
   "source": [
    "df.head(2)"
   ]
  },
  {
   "cell_type": "code",
   "execution_count": 64,
   "id": "d0e38f26",
   "metadata": {},
   "outputs": [],
   "source": [
    "for i in specifications:\n",
    "    df[i] = pd.to_numeric(df[i], errors = 'ignore')"
   ]
  },
  {
   "cell_type": "code",
   "execution_count": 65,
   "id": "1099be4f",
   "metadata": {},
   "outputs": [],
   "source": [
    "df.rename(columns={'km_driven_(in_thousands)':'km driven (in thousands)','price':'price (in ₹)', 'model':'model (year)',\n",
    "                   'mileage':'mileage (in kmpl)', 'ground_clearance':'ground clearance (in mm)',\n",
    "                   'boot_space':'boot space (in litres)', 'seating_capacity':'seating capacity (units)',\n",
    "                   'fuel_tank_capacity':'fuel tank capacity (in litres)', 'max_power':'max power (in bhp)'}, inplace=True)"
   ]
  },
  {
   "cell_type": "code",
   "execution_count": 66,
   "id": "e0d317cc",
   "metadata": {},
   "outputs": [
    {
     "data": {
      "text/html": [
       "<div>\n",
       "<style scoped>\n",
       "    .dataframe tbody tr th:only-of-type {\n",
       "        vertical-align: middle;\n",
       "    }\n",
       "\n",
       "    .dataframe tbody tr th {\n",
       "        vertical-align: top;\n",
       "    }\n",
       "\n",
       "    .dataframe thead th {\n",
       "        text-align: right;\n",
       "    }\n",
       "</style>\n",
       "<table border=\"1\" class=\"dataframe\">\n",
       "  <thead>\n",
       "    <tr style=\"text-align: right;\">\n",
       "      <th></th>\n",
       "      <th>brand</th>\n",
       "      <th>km driven (in thousands)</th>\n",
       "      <th>fuel_type</th>\n",
       "      <th>transmission</th>\n",
       "      <th>price (in ₹)</th>\n",
       "      <th>model (year)</th>\n",
       "      <th>manufacturer</th>\n",
       "      <th>mileage (in kmpl)</th>\n",
       "      <th>ground clearance (in mm)</th>\n",
       "      <th>boot space (in litres)</th>\n",
       "      <th>seating capacity (units)</th>\n",
       "      <th>fuel tank capacity (in litres)</th>\n",
       "      <th>max power (in bhp)</th>\n",
       "    </tr>\n",
       "  </thead>\n",
       "  <tbody>\n",
       "    <tr>\n",
       "      <th>0</th>\n",
       "      <td>Tata Harrier XZ</td>\n",
       "      <td>38</td>\n",
       "      <td>Diesel</td>\n",
       "      <td>Manual</td>\n",
       "      <td>15.65</td>\n",
       "      <td>2019</td>\n",
       "      <td>Tata</td>\n",
       "      <td>17.00</td>\n",
       "      <td>205</td>\n",
       "      <td>425</td>\n",
       "      <td>5</td>\n",
       "      <td>50</td>\n",
       "      <td>138.0</td>\n",
       "    </tr>\n",
       "    <tr>\n",
       "      <th>1</th>\n",
       "      <td>Maruti Suzuki Baleno Zeta Petrol</td>\n",
       "      <td>25</td>\n",
       "      <td>Petrol</td>\n",
       "      <td>Manual</td>\n",
       "      <td>7.85</td>\n",
       "      <td>2019</td>\n",
       "      <td>Maruti Suzuki</td>\n",
       "      <td>21.01</td>\n",
       "      <td>170</td>\n",
       "      <td>339</td>\n",
       "      <td>5</td>\n",
       "      <td>37</td>\n",
       "      <td>81.8</td>\n",
       "    </tr>\n",
       "  </tbody>\n",
       "</table>\n",
       "</div>"
      ],
      "text/plain": [
       "                              brand  km driven (in thousands) fuel_type  \\\n",
       "0                   Tata Harrier XZ                        38    Diesel   \n",
       "1  Maruti Suzuki Baleno Zeta Petrol                        25    Petrol   \n",
       "\n",
       "  transmission  price (in ₹)  model (year)   manufacturer  mileage (in kmpl)  \\\n",
       "0       Manual         15.65          2019           Tata              17.00   \n",
       "1       Manual          7.85          2019  Maruti Suzuki              21.01   \n",
       "\n",
       "   ground clearance (in mm)  boot space (in litres)  seating capacity (units)  \\\n",
       "0                       205                     425                         5   \n",
       "1                       170                     339                         5   \n",
       "\n",
       "   fuel tank capacity (in litres)  max power (in bhp)  \n",
       "0                              50               138.0  \n",
       "1                              37                81.8  "
      ]
     },
     "execution_count": 66,
     "metadata": {},
     "output_type": "execute_result"
    }
   ],
   "source": [
    "df.head(2)"
   ]
  },
  {
   "cell_type": "code",
   "execution_count": 67,
   "id": "6245c94b",
   "metadata": {},
   "outputs": [],
   "source": [
    "df = df[['manufacturer','brand','model (year)','km driven (in thousands)','mileage (in kmpl)','seating capacity (units)', 'fuel_type', 'transmission', \"ground clearance (in mm)\", \"boot space (in litres)\", \"fuel tank capacity (in litres)\", \"max power (in bhp)\", \"price (in ₹)\"]]"
   ]
  },
  {
   "cell_type": "code",
   "execution_count": 68,
   "id": "e45c53b8",
   "metadata": {},
   "outputs": [
    {
     "data": {
      "text/html": [
       "<div>\n",
       "<style scoped>\n",
       "    .dataframe tbody tr th:only-of-type {\n",
       "        vertical-align: middle;\n",
       "    }\n",
       "\n",
       "    .dataframe tbody tr th {\n",
       "        vertical-align: top;\n",
       "    }\n",
       "\n",
       "    .dataframe thead th {\n",
       "        text-align: right;\n",
       "    }\n",
       "</style>\n",
       "<table border=\"1\" class=\"dataframe\">\n",
       "  <thead>\n",
       "    <tr style=\"text-align: right;\">\n",
       "      <th></th>\n",
       "      <th>manufacturer</th>\n",
       "      <th>brand</th>\n",
       "      <th>model (year)</th>\n",
       "      <th>km driven (in thousands)</th>\n",
       "      <th>mileage (in kmpl)</th>\n",
       "      <th>seating capacity (units)</th>\n",
       "      <th>fuel_type</th>\n",
       "      <th>transmission</th>\n",
       "      <th>ground clearance (in mm)</th>\n",
       "      <th>boot space (in litres)</th>\n",
       "      <th>fuel tank capacity (in litres)</th>\n",
       "      <th>max power (in bhp)</th>\n",
       "      <th>price (in ₹)</th>\n",
       "    </tr>\n",
       "  </thead>\n",
       "  <tbody>\n",
       "    <tr>\n",
       "      <th>0</th>\n",
       "      <td>Tata</td>\n",
       "      <td>Tata Harrier XZ</td>\n",
       "      <td>2019</td>\n",
       "      <td>38</td>\n",
       "      <td>17.00</td>\n",
       "      <td>5</td>\n",
       "      <td>Diesel</td>\n",
       "      <td>Manual</td>\n",
       "      <td>205</td>\n",
       "      <td>425</td>\n",
       "      <td>50</td>\n",
       "      <td>138.0</td>\n",
       "      <td>15.65</td>\n",
       "    </tr>\n",
       "    <tr>\n",
       "      <th>1</th>\n",
       "      <td>Maruti Suzuki</td>\n",
       "      <td>Maruti Suzuki Baleno Zeta Petrol</td>\n",
       "      <td>2019</td>\n",
       "      <td>25</td>\n",
       "      <td>21.01</td>\n",
       "      <td>5</td>\n",
       "      <td>Petrol</td>\n",
       "      <td>Manual</td>\n",
       "      <td>170</td>\n",
       "      <td>339</td>\n",
       "      <td>37</td>\n",
       "      <td>81.8</td>\n",
       "      <td>7.85</td>\n",
       "    </tr>\n",
       "  </tbody>\n",
       "</table>\n",
       "</div>"
      ],
      "text/plain": [
       "    manufacturer                             brand  model (year)  \\\n",
       "0           Tata                   Tata Harrier XZ          2019   \n",
       "1  Maruti Suzuki  Maruti Suzuki Baleno Zeta Petrol          2019   \n",
       "\n",
       "   km driven (in thousands)  mileage (in kmpl)  seating capacity (units)  \\\n",
       "0                        38              17.00                         5   \n",
       "1                        25              21.01                         5   \n",
       "\n",
       "  fuel_type transmission  ground clearance (in mm)  boot space (in litres)  \\\n",
       "0    Diesel       Manual                       205                     425   \n",
       "1    Petrol       Manual                       170                     339   \n",
       "\n",
       "   fuel tank capacity (in litres)  max power (in bhp)  price (in ₹)  \n",
       "0                              50               138.0         15.65  \n",
       "1                              37                81.8          7.85  "
      ]
     },
     "execution_count": 68,
     "metadata": {},
     "output_type": "execute_result"
    }
   ],
   "source": [
    "df.head(2)"
   ]
  },
  {
   "cell_type": "code",
   "execution_count": 69,
   "id": "ba4031b4",
   "metadata": {},
   "outputs": [],
   "source": [
    "df.to_csv('analysis-and-model.csv',index=False)"
   ]
  },
  {
   "cell_type": "markdown",
   "id": "620537c3",
   "metadata": {},
   "source": [
    "This file will be used for analysing and drawing insights using Excel & SQL and finally for building a Linear Regression model for prediction of prices of used cars in India."
   ]
  }
 ],
 "metadata": {
  "kernelspec": {
   "display_name": "Python 3 (ipykernel)",
   "language": "python",
   "name": "python3"
  },
  "language_info": {
   "codemirror_mode": {
    "name": "ipython",
    "version": 3
   },
   "file_extension": ".py",
   "mimetype": "text/x-python",
   "name": "python",
   "nbconvert_exporter": "python",
   "pygments_lexer": "ipython3",
   "version": "3.10.6"
  }
 },
 "nbformat": 4,
 "nbformat_minor": 5
}
